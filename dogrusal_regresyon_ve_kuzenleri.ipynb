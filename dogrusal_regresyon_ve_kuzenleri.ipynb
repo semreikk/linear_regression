{
  "nbformat": 4,
  "nbformat_minor": 0,
  "metadata": {
    "colab": {
      "name": "dogrusal_regresyon ve kuzenleri.ipynb",
      "provenance": [],
      "collapsed_sections": []
    },
    "kernelspec": {
      "name": "python3",
      "display_name": "Python 3"
    }
  },
  "cells": [
    {
      "cell_type": "markdown",
      "metadata": {
        "id": "hTD-GAoNJcLR",
        "colab_type": "text"
      },
      "source": [
        "\n",
        "# Basit Doğrusal Regresyon"
      ]
    },
    {
      "cell_type": "code",
      "metadata": {
        "id": "DrgNOxdoJpqb",
        "colab_type": "code",
        "outputId": "4ca78fe1-95a0-480d-925c-472db3e31c73",
        "colab": {
          "base_uri": "https://localhost:8080/",
          "height": 204
        }
      },
      "source": [
        "import pandas as pd\n",
        "ad = pd.read_csv(\"Advertising.csv\")\n",
        "df = ad.copy()\n",
        "df.head()"
      ],
      "execution_count": 3,
      "outputs": [
        {
          "output_type": "execute_result",
          "data": {
            "text/html": [
              "<div>\n",
              "<style scoped>\n",
              "    .dataframe tbody tr th:only-of-type {\n",
              "        vertical-align: middle;\n",
              "    }\n",
              "\n",
              "    .dataframe tbody tr th {\n",
              "        vertical-align: top;\n",
              "    }\n",
              "\n",
              "    .dataframe thead th {\n",
              "        text-align: right;\n",
              "    }\n",
              "</style>\n",
              "<table border=\"1\" class=\"dataframe\">\n",
              "  <thead>\n",
              "    <tr style=\"text-align: right;\">\n",
              "      <th></th>\n",
              "      <th>Unnamed: 0</th>\n",
              "      <th>TV</th>\n",
              "      <th>radio</th>\n",
              "      <th>newspaper</th>\n",
              "      <th>sales</th>\n",
              "    </tr>\n",
              "  </thead>\n",
              "  <tbody>\n",
              "    <tr>\n",
              "      <th>0</th>\n",
              "      <td>1</td>\n",
              "      <td>230.1</td>\n",
              "      <td>37.8</td>\n",
              "      <td>69.2</td>\n",
              "      <td>22.1</td>\n",
              "    </tr>\n",
              "    <tr>\n",
              "      <th>1</th>\n",
              "      <td>2</td>\n",
              "      <td>44.5</td>\n",
              "      <td>39.3</td>\n",
              "      <td>45.1</td>\n",
              "      <td>10.4</td>\n",
              "    </tr>\n",
              "    <tr>\n",
              "      <th>2</th>\n",
              "      <td>3</td>\n",
              "      <td>17.2</td>\n",
              "      <td>45.9</td>\n",
              "      <td>69.3</td>\n",
              "      <td>9.3</td>\n",
              "    </tr>\n",
              "    <tr>\n",
              "      <th>3</th>\n",
              "      <td>4</td>\n",
              "      <td>151.5</td>\n",
              "      <td>41.3</td>\n",
              "      <td>58.5</td>\n",
              "      <td>18.5</td>\n",
              "    </tr>\n",
              "    <tr>\n",
              "      <th>4</th>\n",
              "      <td>5</td>\n",
              "      <td>180.8</td>\n",
              "      <td>10.8</td>\n",
              "      <td>58.4</td>\n",
              "      <td>12.9</td>\n",
              "    </tr>\n",
              "  </tbody>\n",
              "</table>\n",
              "</div>"
            ],
            "text/plain": [
              "   Unnamed: 0     TV  radio  newspaper  sales\n",
              "0           1  230.1   37.8       69.2   22.1\n",
              "1           2   44.5   39.3       45.1   10.4\n",
              "2           3   17.2   45.9       69.3    9.3\n",
              "3           4  151.5   41.3       58.5   18.5\n",
              "4           5  180.8   10.8       58.4   12.9"
            ]
          },
          "metadata": {
            "tags": []
          },
          "execution_count": 3
        }
      ]
    },
    {
      "cell_type": "code",
      "metadata": {
        "id": "1akDoEPrJpv1",
        "colab_type": "code",
        "colab": {}
      },
      "source": [
        "df = df.iloc[:,1:len(df)] # unnamed:0 diyerek indexi değişken olarak kullanmış. engellemek için satır olarak hepsini,\n",
        "# sütun olarak 1 den len(df) e kadar aldık. böylece o gitmiş oldu.\n",
        "# ad = pd.read_csv(\"original.csv\",usecols = [1,2,3,4]) bu da istediğimiz sütunları almak için bir alternatif."
      ],
      "execution_count": 0,
      "outputs": []
    },
    {
      "cell_type": "code",
      "metadata": {
        "id": "NgYxsm8IJp0H",
        "colab_type": "code",
        "outputId": "4c55fd35-a322-4598-b31a-a1d6d2d42b9c",
        "colab": {
          "base_uri": "https://localhost:8080/",
          "height": 204
        }
      },
      "source": [
        "df.head()"
      ],
      "execution_count": 5,
      "outputs": [
        {
          "output_type": "execute_result",
          "data": {
            "text/html": [
              "<div>\n",
              "<style scoped>\n",
              "    .dataframe tbody tr th:only-of-type {\n",
              "        vertical-align: middle;\n",
              "    }\n",
              "\n",
              "    .dataframe tbody tr th {\n",
              "        vertical-align: top;\n",
              "    }\n",
              "\n",
              "    .dataframe thead th {\n",
              "        text-align: right;\n",
              "    }\n",
              "</style>\n",
              "<table border=\"1\" class=\"dataframe\">\n",
              "  <thead>\n",
              "    <tr style=\"text-align: right;\">\n",
              "      <th></th>\n",
              "      <th>TV</th>\n",
              "      <th>radio</th>\n",
              "      <th>newspaper</th>\n",
              "      <th>sales</th>\n",
              "    </tr>\n",
              "  </thead>\n",
              "  <tbody>\n",
              "    <tr>\n",
              "      <th>0</th>\n",
              "      <td>230.1</td>\n",
              "      <td>37.8</td>\n",
              "      <td>69.2</td>\n",
              "      <td>22.1</td>\n",
              "    </tr>\n",
              "    <tr>\n",
              "      <th>1</th>\n",
              "      <td>44.5</td>\n",
              "      <td>39.3</td>\n",
              "      <td>45.1</td>\n",
              "      <td>10.4</td>\n",
              "    </tr>\n",
              "    <tr>\n",
              "      <th>2</th>\n",
              "      <td>17.2</td>\n",
              "      <td>45.9</td>\n",
              "      <td>69.3</td>\n",
              "      <td>9.3</td>\n",
              "    </tr>\n",
              "    <tr>\n",
              "      <th>3</th>\n",
              "      <td>151.5</td>\n",
              "      <td>41.3</td>\n",
              "      <td>58.5</td>\n",
              "      <td>18.5</td>\n",
              "    </tr>\n",
              "    <tr>\n",
              "      <th>4</th>\n",
              "      <td>180.8</td>\n",
              "      <td>10.8</td>\n",
              "      <td>58.4</td>\n",
              "      <td>12.9</td>\n",
              "    </tr>\n",
              "  </tbody>\n",
              "</table>\n",
              "</div>"
            ],
            "text/plain": [
              "      TV  radio  newspaper  sales\n",
              "0  230.1   37.8       69.2   22.1\n",
              "1   44.5   39.3       45.1   10.4\n",
              "2   17.2   45.9       69.3    9.3\n",
              "3  151.5   41.3       58.5   18.5\n",
              "4  180.8   10.8       58.4   12.9"
            ]
          },
          "metadata": {
            "tags": []
          },
          "execution_count": 5
        }
      ]
    },
    {
      "cell_type": "code",
      "metadata": {
        "id": "MiwzcCT-Jp5A",
        "colab_type": "code",
        "outputId": "34cd9ce2-5f10-4611-80db-f1f2f35127ad",
        "colab": {
          "base_uri": "https://localhost:8080/",
          "height": 204
        }
      },
      "source": [
        "df.info()"
      ],
      "execution_count": 6,
      "outputs": [
        {
          "output_type": "stream",
          "text": [
            "<class 'pandas.core.frame.DataFrame'>\n",
            "RangeIndex: 200 entries, 0 to 199\n",
            "Data columns (total 4 columns):\n",
            " #   Column     Non-Null Count  Dtype  \n",
            "---  ------     --------------  -----  \n",
            " 0   TV         200 non-null    float64\n",
            " 1   radio      200 non-null    float64\n",
            " 2   newspaper  200 non-null    float64\n",
            " 3   sales      200 non-null    float64\n",
            "dtypes: float64(4)\n",
            "memory usage: 6.4 KB\n"
          ],
          "name": "stdout"
        }
      ]
    },
    {
      "cell_type": "code",
      "metadata": {
        "id": "0ZrVvEIXJp8G",
        "colab_type": "code",
        "outputId": "86ead108-63cf-4f8f-e4d2-ac6edcc37ed1",
        "colab": {
          "base_uri": "https://localhost:8080/",
          "height": 173
        }
      },
      "source": [
        "df.describe().T"
      ],
      "execution_count": 7,
      "outputs": [
        {
          "output_type": "execute_result",
          "data": {
            "text/html": [
              "<div>\n",
              "<style scoped>\n",
              "    .dataframe tbody tr th:only-of-type {\n",
              "        vertical-align: middle;\n",
              "    }\n",
              "\n",
              "    .dataframe tbody tr th {\n",
              "        vertical-align: top;\n",
              "    }\n",
              "\n",
              "    .dataframe thead th {\n",
              "        text-align: right;\n",
              "    }\n",
              "</style>\n",
              "<table border=\"1\" class=\"dataframe\">\n",
              "  <thead>\n",
              "    <tr style=\"text-align: right;\">\n",
              "      <th></th>\n",
              "      <th>count</th>\n",
              "      <th>mean</th>\n",
              "      <th>std</th>\n",
              "      <th>min</th>\n",
              "      <th>25%</th>\n",
              "      <th>50%</th>\n",
              "      <th>75%</th>\n",
              "      <th>max</th>\n",
              "    </tr>\n",
              "  </thead>\n",
              "  <tbody>\n",
              "    <tr>\n",
              "      <th>TV</th>\n",
              "      <td>200.0</td>\n",
              "      <td>147.0425</td>\n",
              "      <td>85.854236</td>\n",
              "      <td>0.7</td>\n",
              "      <td>74.375</td>\n",
              "      <td>149.75</td>\n",
              "      <td>218.825</td>\n",
              "      <td>296.4</td>\n",
              "    </tr>\n",
              "    <tr>\n",
              "      <th>radio</th>\n",
              "      <td>200.0</td>\n",
              "      <td>23.2640</td>\n",
              "      <td>14.846809</td>\n",
              "      <td>0.0</td>\n",
              "      <td>9.975</td>\n",
              "      <td>22.90</td>\n",
              "      <td>36.525</td>\n",
              "      <td>49.6</td>\n",
              "    </tr>\n",
              "    <tr>\n",
              "      <th>newspaper</th>\n",
              "      <td>200.0</td>\n",
              "      <td>30.5540</td>\n",
              "      <td>21.778621</td>\n",
              "      <td>0.3</td>\n",
              "      <td>12.750</td>\n",
              "      <td>25.75</td>\n",
              "      <td>45.100</td>\n",
              "      <td>114.0</td>\n",
              "    </tr>\n",
              "    <tr>\n",
              "      <th>sales</th>\n",
              "      <td>200.0</td>\n",
              "      <td>14.0225</td>\n",
              "      <td>5.217457</td>\n",
              "      <td>1.6</td>\n",
              "      <td>10.375</td>\n",
              "      <td>12.90</td>\n",
              "      <td>17.400</td>\n",
              "      <td>27.0</td>\n",
              "    </tr>\n",
              "  </tbody>\n",
              "</table>\n",
              "</div>"
            ],
            "text/plain": [
              "           count      mean        std  min     25%     50%      75%    max\n",
              "TV         200.0  147.0425  85.854236  0.7  74.375  149.75  218.825  296.4\n",
              "radio      200.0   23.2640  14.846809  0.0   9.975   22.90   36.525   49.6\n",
              "newspaper  200.0   30.5540  21.778621  0.3  12.750   25.75   45.100  114.0\n",
              "sales      200.0   14.0225   5.217457  1.6  10.375   12.90   17.400   27.0"
            ]
          },
          "metadata": {
            "tags": []
          },
          "execution_count": 7
        }
      ]
    },
    {
      "cell_type": "code",
      "metadata": {
        "id": "Te5zPZCvJp2f",
        "colab_type": "code",
        "outputId": "95cfef48-7c44-4899-c6f9-a3c654b3cc26",
        "colab": {
          "base_uri": "https://localhost:8080/",
          "height": 173
        }
      },
      "source": [
        "df.corr()"
      ],
      "execution_count": 8,
      "outputs": [
        {
          "output_type": "execute_result",
          "data": {
            "text/html": [
              "<div>\n",
              "<style scoped>\n",
              "    .dataframe tbody tr th:only-of-type {\n",
              "        vertical-align: middle;\n",
              "    }\n",
              "\n",
              "    .dataframe tbody tr th {\n",
              "        vertical-align: top;\n",
              "    }\n",
              "\n",
              "    .dataframe thead th {\n",
              "        text-align: right;\n",
              "    }\n",
              "</style>\n",
              "<table border=\"1\" class=\"dataframe\">\n",
              "  <thead>\n",
              "    <tr style=\"text-align: right;\">\n",
              "      <th></th>\n",
              "      <th>TV</th>\n",
              "      <th>radio</th>\n",
              "      <th>newspaper</th>\n",
              "      <th>sales</th>\n",
              "    </tr>\n",
              "  </thead>\n",
              "  <tbody>\n",
              "    <tr>\n",
              "      <th>TV</th>\n",
              "      <td>1.000000</td>\n",
              "      <td>0.054809</td>\n",
              "      <td>0.056648</td>\n",
              "      <td>0.782224</td>\n",
              "    </tr>\n",
              "    <tr>\n",
              "      <th>radio</th>\n",
              "      <td>0.054809</td>\n",
              "      <td>1.000000</td>\n",
              "      <td>0.354104</td>\n",
              "      <td>0.576223</td>\n",
              "    </tr>\n",
              "    <tr>\n",
              "      <th>newspaper</th>\n",
              "      <td>0.056648</td>\n",
              "      <td>0.354104</td>\n",
              "      <td>1.000000</td>\n",
              "      <td>0.228299</td>\n",
              "    </tr>\n",
              "    <tr>\n",
              "      <th>sales</th>\n",
              "      <td>0.782224</td>\n",
              "      <td>0.576223</td>\n",
              "      <td>0.228299</td>\n",
              "      <td>1.000000</td>\n",
              "    </tr>\n",
              "  </tbody>\n",
              "</table>\n",
              "</div>"
            ],
            "text/plain": [
              "                 TV     radio  newspaper     sales\n",
              "TV         1.000000  0.054809   0.056648  0.782224\n",
              "radio      0.054809  1.000000   0.354104  0.576223\n",
              "newspaper  0.056648  0.354104   1.000000  0.228299\n",
              "sales      0.782224  0.576223   0.228299  1.000000"
            ]
          },
          "metadata": {
            "tags": []
          },
          "execution_count": 8
        }
      ]
    },
    {
      "cell_type": "code",
      "metadata": {
        "id": "AixuKwSROcUU",
        "colab_type": "code",
        "outputId": "08451546-b618-443e-92e2-45ee5a1ff50a",
        "colab": {
          "base_uri": "https://localhost:8080/",
          "height": 818
        }
      },
      "source": [
        "import seaborn as sns\n",
        "sns.pairplot(df,kind = \"reg\")"
      ],
      "execution_count": 9,
      "outputs": [
        {
          "output_type": "stream",
          "text": [
            "/usr/local/lib/python3.6/dist-packages/statsmodels/tools/_testing.py:19: FutureWarning: pandas.util.testing is deprecated. Use the functions in the public API at pandas.testing instead.\n",
            "  import pandas.util.testing as tm\n"
          ],
          "name": "stderr"
        },
        {
          "output_type": "execute_result",
          "data": {
            "text/plain": [
              "<seaborn.axisgrid.PairGrid at 0x7f48a10ed5c0>"
            ]
          },
          "metadata": {
            "tags": []
          },
          "execution_count": 9
        },
        {
          "output_type": "display_data",
          "data": {
            "image/png": "[encoded data removed]",
            "text/plain": [
              "<Figure size 720x720 with 20 Axes>"
            ]
          },
          "metadata": {
            "tags": [],
            "needs_background": "light"
          }
        }
      ]
    },
    {
      "cell_type": "code",
      "metadata": {
        "id": "RJxyD2ZOJptf",
        "colab_type": "code",
        "outputId": "9725e811-2b0d-43e8-e892-eb69a9864267",
        "colab": {
          "base_uri": "https://localhost:8080/",
          "height": 458
        }
      },
      "source": [
        "sns.jointplot(x = \"TV\", y = \"sales\", data = df, kind = \"reg\")"
      ],
      "execution_count": 10,
      "outputs": [
        {
          "output_type": "execute_result",
          "data": {
            "text/plain": [
              "<seaborn.axisgrid.JointGrid at 0x7f48937e76d8>"
            ]
          },
          "metadata": {
            "tags": []
          },
          "execution_count": 10
        },
        {
          "output_type": "display_data",
          "data": {
            "image/png": "[encoded data removed]",
            "text/plain": [
              "<Figure size 432x432 with 3 Axes>"
            ]
          },
          "metadata": {
            "tags": [],
            "needs_background": "light"
          }
        }
      ]
    },
    {
      "cell_type": "markdown",
      "metadata": {
        "id": "xhbtaixeSGYp",
        "colab_type": "text"
      },
      "source": [
        "### Statsmodel ile modelleme"
      ]
    },
    {
      "cell_type": "code",
      "metadata": {
        "id": "O971CZHYObPD",
        "colab_type": "code",
        "outputId": "95a4df1f-461b-4b65-f71d-c80fe0501936",
        "colab": {
          "base_uri": "https://localhost:8080/",
          "height": 204
        }
      },
      "source": [
        "import statsmodels.api as sm\n",
        "\n",
        "X = df[[\"TV\"]]\n",
        "X[0:5]"
      ],
      "execution_count": 11,
      "outputs": [
        {
          "output_type": "execute_result",
          "data": {
            "text/html": [
              "<div>\n",
              "<style scoped>\n",
              "    .dataframe tbody tr th:only-of-type {\n",
              "        vertical-align: middle;\n",
              "    }\n",
              "\n",
              "    .dataframe tbody tr th {\n",
              "        vertical-align: top;\n",
              "    }\n",
              "\n",
              "    .dataframe thead th {\n",
              "        text-align: right;\n",
              "    }\n",
              "</style>\n",
              "<table border=\"1\" class=\"dataframe\">\n",
              "  <thead>\n",
              "    <tr style=\"text-align: right;\">\n",
              "      <th></th>\n",
              "      <th>TV</th>\n",
              "    </tr>\n",
              "  </thead>\n",
              "  <tbody>\n",
              "    <tr>\n",
              "      <th>0</th>\n",
              "      <td>230.1</td>\n",
              "    </tr>\n",
              "    <tr>\n",
              "      <th>1</th>\n",
              "      <td>44.5</td>\n",
              "    </tr>\n",
              "    <tr>\n",
              "      <th>2</th>\n",
              "      <td>17.2</td>\n",
              "    </tr>\n",
              "    <tr>\n",
              "      <th>3</th>\n",
              "      <td>151.5</td>\n",
              "    </tr>\n",
              "    <tr>\n",
              "      <th>4</th>\n",
              "      <td>180.8</td>\n",
              "    </tr>\n",
              "  </tbody>\n",
              "</table>\n",
              "</div>"
            ],
            "text/plain": [
              "      TV\n",
              "0  230.1\n",
              "1   44.5\n",
              "2   17.2\n",
              "3  151.5\n",
              "4  180.8"
            ]
          },
          "metadata": {
            "tags": []
          },
          "execution_count": 11
        }
      ]
    },
    {
      "cell_type": "code",
      "metadata": {
        "id": "yCTTgzI6ObVP",
        "colab_type": "code",
        "outputId": "ab6f6994-3711-4efd-afb9-a4af14efe4e1",
        "colab": {
          "base_uri": "https://localhost:8080/",
          "height": 204
        }
      },
      "source": [
        "X = sm.add_constant(X)\n",
        "X[0:5]\n",
        "\n",
        "# matris işlemleri için bir sabit ekledik."
      ],
      "execution_count": 12,
      "outputs": [
        {
          "output_type": "execute_result",
          "data": {
            "text/html": [
              "<div>\n",
              "<style scoped>\n",
              "    .dataframe tbody tr th:only-of-type {\n",
              "        vertical-align: middle;\n",
              "    }\n",
              "\n",
              "    .dataframe tbody tr th {\n",
              "        vertical-align: top;\n",
              "    }\n",
              "\n",
              "    .dataframe thead th {\n",
              "        text-align: right;\n",
              "    }\n",
              "</style>\n",
              "<table border=\"1\" class=\"dataframe\">\n",
              "  <thead>\n",
              "    <tr style=\"text-align: right;\">\n",
              "      <th></th>\n",
              "      <th>const</th>\n",
              "      <th>TV</th>\n",
              "    </tr>\n",
              "  </thead>\n",
              "  <tbody>\n",
              "    <tr>\n",
              "      <th>0</th>\n",
              "      <td>1.0</td>\n",
              "      <td>230.1</td>\n",
              "    </tr>\n",
              "    <tr>\n",
              "      <th>1</th>\n",
              "      <td>1.0</td>\n",
              "      <td>44.5</td>\n",
              "    </tr>\n",
              "    <tr>\n",
              "      <th>2</th>\n",
              "      <td>1.0</td>\n",
              "      <td>17.2</td>\n",
              "    </tr>\n",
              "    <tr>\n",
              "      <th>3</th>\n",
              "      <td>1.0</td>\n",
              "      <td>151.5</td>\n",
              "    </tr>\n",
              "    <tr>\n",
              "      <th>4</th>\n",
              "      <td>1.0</td>\n",
              "      <td>180.8</td>\n",
              "    </tr>\n",
              "  </tbody>\n",
              "</table>\n",
              "</div>"
            ],
            "text/plain": [
              "   const     TV\n",
              "0    1.0  230.1\n",
              "1    1.0   44.5\n",
              "2    1.0   17.2\n",
              "3    1.0  151.5\n",
              "4    1.0  180.8"
            ]
          },
          "metadata": {
            "tags": []
          },
          "execution_count": 12
        }
      ]
    },
    {
      "cell_type": "code",
      "metadata": {
        "id": "YMXeTuDkObgt",
        "colab_type": "code",
        "colab": {}
      },
      "source": [
        "y = df[\"sales\"]"
      ],
      "execution_count": 0,
      "outputs": []
    },
    {
      "cell_type": "code",
      "metadata": {
        "id": "pckVdr17Obdp",
        "colab_type": "code",
        "outputId": "dd4ce023-5f0e-4c36-f161-637fd8f55c63",
        "colab": {
          "base_uri": "https://localhost:8080/",
          "height": 119
        }
      },
      "source": [
        "y[0:5]"
      ],
      "execution_count": 14,
      "outputs": [
        {
          "output_type": "execute_result",
          "data": {
            "text/plain": [
              "0    22.1\n",
              "1    10.4\n",
              "2     9.3\n",
              "3    18.5\n",
              "4    12.9\n",
              "Name: sales, dtype: float64"
            ]
          },
          "metadata": {
            "tags": []
          },
          "execution_count": 14
        }
      ]
    },
    {
      "cell_type": "code",
      "metadata": {
        "id": "S1XoSWGBObSs",
        "colab_type": "code",
        "colab": {}
      },
      "source": [
        "lm = sm.OLS(y,X)\n",
        "# model oluştu"
      ],
      "execution_count": 0,
      "outputs": []
    },
    {
      "cell_type": "code",
      "metadata": {
        "id": "c2ioFoC_TS3j",
        "colab_type": "code",
        "outputId": "dede22d6-3120-4a12-862f-87444181b7a8",
        "colab": {
          "base_uri": "https://localhost:8080/",
          "height": 444
        }
      },
      "source": [
        "model = lm.fit()\n",
        "model.summary()\n",
        "# burda modeli fitledik ve bilgilere bakabiliriz.\n",
        "# R squared değeri bağımsız değişkenin bağımlı değişkendeki değişime etkisini açıklar.\n",
        "# 0.612 değeriyle gördüğümüz üzere bağımsız değişken bağımı değişkene %60 oranda açıklanabilir etkisi var.\n",
        "# düzeltilmiş r kare değeri olan Adj. R-squared daha az duyarlıdır. şişmeye meyilli değildir. Daha düzgün bir değerdir.\n",
        "# F statistic: modelin anlamlılığını bize verir.\n",
        "# prob(F statistic): p value dır. f statistic ile karşılaştırınca modelin anlamlı olduğunu görüyoruz.\n",
        "# burda const ile coef  kesişimi bize b0 sabitini verir. Yani TV değişkenin etkisi yokken ki y değişkeninin durumudur.\n",
        "# TV ile coef in kesişimi ise X değişkenin katsayısı olan b1 parametresidir. Birim Tv başına y bağımlı değişkenine etkisi gösterilmiştir.\n",
        "# t istatistiği yapılmış ve sabitlerin anlamlı olup olmmadığı verilmiştir. burada anlamlıdır.\n",
        "# ve bu katsayıların güven aralığı verilmiştir. \n",
        "# buradan anlaşılan %95 güvenilirlik oranıyla TV değişkeni 0.043 ile 0.053 arasında olacaktır. vs. "
      ],
      "execution_count": 16,
      "outputs": [
        {
          "output_type": "execute_result",
          "data": {
            "text/html": [
              "<table class=\"simpletable\">\n",
              "<caption>OLS Regression Results</caption>\n",
              "<tr>\n",
              "  <th>Dep. Variable:</th>          <td>sales</td>      <th>  R-squared:         </th> <td>   0.612</td>\n",
              "</tr>\n",
              "<tr>\n",
              "  <th>Model:</th>                   <td>OLS</td>       <th>  Adj. R-squared:    </th> <td>   0.610</td>\n",
              "</tr>\n",
              "<tr>\n",
              "  <th>Method:</th>             <td>Least Squares</td>  <th>  F-statistic:       </th> <td>   312.1</td>\n",
              "</tr>\n",
              "<tr>\n",
              "  <th>Date:</th>             <td>Sun, 24 May 2020</td> <th>  Prob (F-statistic):</th> <td>1.47e-42</td>\n",
              "</tr>\n",
              "<tr>\n",
              "  <th>Time:</th>                 <td>11:32:16</td>     <th>  Log-Likelihood:    </th> <td> -519.05</td>\n",
              "</tr>\n",
              "<tr>\n",
              "  <th>No. Observations:</th>      <td>   200</td>      <th>  AIC:               </th> <td>   1042.</td>\n",
              "</tr>\n",
              "<tr>\n",
              "  <th>Df Residuals:</th>          <td>   198</td>      <th>  BIC:               </th> <td>   1049.</td>\n",
              "</tr>\n",
              "<tr>\n",
              "  <th>Df Model:</th>              <td>     1</td>      <th>                     </th>     <td> </td>   \n",
              "</tr>\n",
              "<tr>\n",
              "  <th>Covariance Type:</th>      <td>nonrobust</td>    <th>                     </th>     <td> </td>   \n",
              "</tr>\n",
              "</table>\n",
              "<table class=\"simpletable\">\n",
              "<tr>\n",
              "    <td></td>       <th>coef</th>     <th>std err</th>      <th>t</th>      <th>P>|t|</th>  <th>[0.025</th>    <th>0.975]</th>  \n",
              "</tr>\n",
              "<tr>\n",
              "  <th>const</th> <td>    7.0326</td> <td>    0.458</td> <td>   15.360</td> <td> 0.000</td> <td>    6.130</td> <td>    7.935</td>\n",
              "</tr>\n",
              "<tr>\n",
              "  <th>TV</th>    <td>    0.0475</td> <td>    0.003</td> <td>   17.668</td> <td> 0.000</td> <td>    0.042</td> <td>    0.053</td>\n",
              "</tr>\n",
              "</table>\n",
              "<table class=\"simpletable\">\n",
              "<tr>\n",
              "  <th>Omnibus:</th>       <td> 0.531</td> <th>  Durbin-Watson:     </th> <td>   1.935</td>\n",
              "</tr>\n",
              "<tr>\n",
              "  <th>Prob(Omnibus):</th> <td> 0.767</td> <th>  Jarque-Bera (JB):  </th> <td>   0.669</td>\n",
              "</tr>\n",
              "<tr>\n",
              "  <th>Skew:</th>          <td>-0.089</td> <th>  Prob(JB):          </th> <td>   0.716</td>\n",
              "</tr>\n",
              "<tr>\n",
              "  <th>Kurtosis:</th>      <td> 2.779</td> <th>  Cond. No.          </th> <td>    338.</td>\n",
              "</tr>\n",
              "</table><br/><br/>Warnings:<br/>[1] Standard Errors assume that the covariance matrix of the errors is correctly specified."
            ],
            "text/plain": [
              "<class 'statsmodels.iolib.summary.Summary'>\n",
              "\"\"\"\n",
              "                            OLS Regression Results                            \n",
              "==============================================================================\n",
              "Dep. Variable:                  sales   R-squared:                       0.612\n",
              "Model:                            OLS   Adj. R-squared:                  0.610\n",
              "Method:                 Least Squares   F-statistic:                     312.1\n",
              "Date:                Sun, 24 May 2020   Prob (F-statistic):           1.47e-42\n",
              "Time:                        11:32:16   Log-Likelihood:                -519.05\n",
              "No. Observations:                 200   AIC:                             1042.\n",
              "Df Residuals:                     198   BIC:                             1049.\n",
              "Df Model:                           1                                         \n",
              "Covariance Type:            nonrobust                                         \n",
              "==============================================================================\n",
              "                 coef    std err          t      P>|t|      [0.025      0.975]\n",
              "------------------------------------------------------------------------------\n",
              "const          7.0326      0.458     15.360      0.000       6.130       7.935\n",
              "TV             0.0475      0.003     17.668      0.000       0.042       0.053\n",
              "==============================================================================\n",
              "Omnibus:                        0.531   Durbin-Watson:                   1.935\n",
              "Prob(Omnibus):                  0.767   Jarque-Bera (JB):                0.669\n",
              "Skew:                          -0.089   Prob(JB):                        0.716\n",
              "Kurtosis:                       2.779   Cond. No.                         338.\n",
              "==============================================================================\n",
              "\n",
              "Warnings:\n",
              "[1] Standard Errors assume that the covariance matrix of the errors is correctly specified.\n",
              "\"\"\""
            ]
          },
          "metadata": {
            "tags": []
          },
          "execution_count": 16
        }
      ]
    },
    {
      "cell_type": "code",
      "metadata": {
        "id": "vrM3fS-MXZhi",
        "colab_type": "code",
        "colab": {}
      },
      "source": [
        "X2 = df[\"radio\"]"
      ],
      "execution_count": 0,
      "outputs": []
    },
    {
      "cell_type": "code",
      "metadata": {
        "id": "b084tRA8Xhpm",
        "colab_type": "code",
        "colab": {}
      },
      "source": [
        "lm2 = sm.OLS(y,X2) "
      ],
      "execution_count": 0,
      "outputs": []
    },
    {
      "cell_type": "code",
      "metadata": {
        "id": "zFVaaD6tYHZD",
        "colab_type": "code",
        "colab": {
          "base_uri": "https://localhost:8080/",
          "height": 423
        },
        "outputId": "51ef8187-49a0-4f1b-e4cf-05f6f261b113"
      },
      "source": [
        "model2 = lm2.fit()\n",
        "model2.summary()"
      ],
      "execution_count": 19,
      "outputs": [
        {
          "output_type": "execute_result",
          "data": {
            "text/html": [
              "<table class=\"simpletable\">\n",
              "<caption>OLS Regression Results</caption>\n",
              "<tr>\n",
              "  <th>Dep. Variable:</th>          <td>sales</td>      <th>  R-squared (uncentered):</th>      <td>   0.807</td>\n",
              "</tr>\n",
              "<tr>\n",
              "  <th>Model:</th>                   <td>OLS</td>       <th>  Adj. R-squared (uncentered):</th> <td>   0.806</td>\n",
              "</tr>\n",
              "<tr>\n",
              "  <th>Method:</th>             <td>Least Squares</td>  <th>  F-statistic:       </th>          <td>   834.0</td>\n",
              "</tr>\n",
              "<tr>\n",
              "  <th>Date:</th>             <td>Sun, 24 May 2020</td> <th>  Prob (F-statistic):</th>          <td>4.27e-73</td>\n",
              "</tr>\n",
              "<tr>\n",
              "  <th>Time:</th>                 <td>11:32:16</td>     <th>  Log-Likelihood:    </th>          <td> -660.13</td>\n",
              "</tr>\n",
              "<tr>\n",
              "  <th>No. Observations:</th>      <td>   200</td>      <th>  AIC:               </th>          <td>   1322.</td>\n",
              "</tr>\n",
              "<tr>\n",
              "  <th>Df Residuals:</th>          <td>   199</td>      <th>  BIC:               </th>          <td>   1326.</td>\n",
              "</tr>\n",
              "<tr>\n",
              "  <th>Df Model:</th>              <td>     1</td>      <th>                     </th>              <td> </td>   \n",
              "</tr>\n",
              "<tr>\n",
              "  <th>Covariance Type:</th>      <td>nonrobust</td>    <th>                     </th>              <td> </td>   \n",
              "</tr>\n",
              "</table>\n",
              "<table class=\"simpletable\">\n",
              "<tr>\n",
              "    <td></td>       <th>coef</th>     <th>std err</th>      <th>t</th>      <th>P>|t|</th>  <th>[0.025</th>    <th>0.975]</th>  \n",
              "</tr>\n",
              "<tr>\n",
              "  <th>radio</th> <td>    0.4873</td> <td>    0.017</td> <td>   28.879</td> <td> 0.000</td> <td>    0.454</td> <td>    0.521</td>\n",
              "</tr>\n",
              "</table>\n",
              "<table class=\"simpletable\">\n",
              "<tr>\n",
              "  <th>Omnibus:</th>       <td>29.193</td> <th>  Durbin-Watson:     </th> <td>   1.640</td>\n",
              "</tr>\n",
              "<tr>\n",
              "  <th>Prob(Omnibus):</th> <td> 0.000</td> <th>  Jarque-Bera (JB):  </th> <td>  37.013</td>\n",
              "</tr>\n",
              "<tr>\n",
              "  <th>Skew:</th>          <td>-1.014</td> <th>  Prob(JB):          </th> <td>9.18e-09</td>\n",
              "</tr>\n",
              "<tr>\n",
              "  <th>Kurtosis:</th>      <td> 3.577</td> <th>  Cond. No.          </th> <td>    1.00</td>\n",
              "</tr>\n",
              "</table><br/><br/>Warnings:<br/>[1] Standard Errors assume that the covariance matrix of the errors is correctly specified."
            ],
            "text/plain": [
              "<class 'statsmodels.iolib.summary.Summary'>\n",
              "\"\"\"\n",
              "                                 OLS Regression Results                                \n",
              "=======================================================================================\n",
              "Dep. Variable:                  sales   R-squared (uncentered):                   0.807\n",
              "Model:                            OLS   Adj. R-squared (uncentered):              0.806\n",
              "Method:                 Least Squares   F-statistic:                              834.0\n",
              "Date:                Sun, 24 May 2020   Prob (F-statistic):                    4.27e-73\n",
              "Time:                        11:32:16   Log-Likelihood:                         -660.13\n",
              "No. Observations:                 200   AIC:                                      1322.\n",
              "Df Residuals:                     199   BIC:                                      1326.\n",
              "Df Model:                           1                                                  \n",
              "Covariance Type:            nonrobust                                                  \n",
              "==============================================================================\n",
              "                 coef    std err          t      P>|t|      [0.025      0.975]\n",
              "------------------------------------------------------------------------------\n",
              "radio          0.4873      0.017     28.879      0.000       0.454       0.521\n",
              "==============================================================================\n",
              "Omnibus:                       29.193   Durbin-Watson:                   1.640\n",
              "Prob(Omnibus):                  0.000   Jarque-Bera (JB):               37.013\n",
              "Skew:                          -1.014   Prob(JB):                     9.18e-09\n",
              "Kurtosis:                       3.577   Cond. No.                         1.00\n",
              "==============================================================================\n",
              "\n",
              "Warnings:\n",
              "[1] Standard Errors assume that the covariance matrix of the errors is correctly specified.\n",
              "\"\"\""
            ]
          },
          "metadata": {
            "tags": []
          },
          "execution_count": 19
        }
      ]
    },
    {
      "cell_type": "code",
      "metadata": {
        "id": "OhCH2Kk5TUAz",
        "colab_type": "code",
        "colab": {}
      },
      "source": [
        "# aynı modelleri kurmak için alternatif yöntem:"
      ],
      "execution_count": 0,
      "outputs": []
    },
    {
      "cell_type": "code",
      "metadata": {
        "id": "3uAJPMHBcZ4s",
        "colab_type": "code",
        "outputId": "924780ac-9c45-4a0f-9ba1-8b3d6bc2f4e0",
        "colab": {
          "base_uri": "https://localhost:8080/",
          "height": 444
        }
      },
      "source": [
        "import statsmodels.formula.api as smf\n",
        "lm = smf.ols(\"sales ~ TV\", df)\n",
        "model = lm.fit()\n",
        "model.summary()"
      ],
      "execution_count": 21,
      "outputs": [
        {
          "output_type": "execute_result",
          "data": {
            "text/html": [
              "<table class=\"simpletable\">\n",
              "<caption>OLS Regression Results</caption>\n",
              "<tr>\n",
              "  <th>Dep. Variable:</th>          <td>sales</td>      <th>  R-squared:         </th> <td>   0.612</td>\n",
              "</tr>\n",
              "<tr>\n",
              "  <th>Model:</th>                   <td>OLS</td>       <th>  Adj. R-squared:    </th> <td>   0.610</td>\n",
              "</tr>\n",
              "<tr>\n",
              "  <th>Method:</th>             <td>Least Squares</td>  <th>  F-statistic:       </th> <td>   312.1</td>\n",
              "</tr>\n",
              "<tr>\n",
              "  <th>Date:</th>             <td>Sun, 24 May 2020</td> <th>  Prob (F-statistic):</th> <td>1.47e-42</td>\n",
              "</tr>\n",
              "<tr>\n",
              "  <th>Time:</th>                 <td>11:32:16</td>     <th>  Log-Likelihood:    </th> <td> -519.05</td>\n",
              "</tr>\n",
              "<tr>\n",
              "  <th>No. Observations:</th>      <td>   200</td>      <th>  AIC:               </th> <td>   1042.</td>\n",
              "</tr>\n",
              "<tr>\n",
              "  <th>Df Residuals:</th>          <td>   198</td>      <th>  BIC:               </th> <td>   1049.</td>\n",
              "</tr>\n",
              "<tr>\n",
              "  <th>Df Model:</th>              <td>     1</td>      <th>                     </th>     <td> </td>   \n",
              "</tr>\n",
              "<tr>\n",
              "  <th>Covariance Type:</th>      <td>nonrobust</td>    <th>                     </th>     <td> </td>   \n",
              "</tr>\n",
              "</table>\n",
              "<table class=\"simpletable\">\n",
              "<tr>\n",
              "      <td></td>         <th>coef</th>     <th>std err</th>      <th>t</th>      <th>P>|t|</th>  <th>[0.025</th>    <th>0.975]</th>  \n",
              "</tr>\n",
              "<tr>\n",
              "  <th>Intercept</th> <td>    7.0326</td> <td>    0.458</td> <td>   15.360</td> <td> 0.000</td> <td>    6.130</td> <td>    7.935</td>\n",
              "</tr>\n",
              "<tr>\n",
              "  <th>TV</th>        <td>    0.0475</td> <td>    0.003</td> <td>   17.668</td> <td> 0.000</td> <td>    0.042</td> <td>    0.053</td>\n",
              "</tr>\n",
              "</table>\n",
              "<table class=\"simpletable\">\n",
              "<tr>\n",
              "  <th>Omnibus:</th>       <td> 0.531</td> <th>  Durbin-Watson:     </th> <td>   1.935</td>\n",
              "</tr>\n",
              "<tr>\n",
              "  <th>Prob(Omnibus):</th> <td> 0.767</td> <th>  Jarque-Bera (JB):  </th> <td>   0.669</td>\n",
              "</tr>\n",
              "<tr>\n",
              "  <th>Skew:</th>          <td>-0.089</td> <th>  Prob(JB):          </th> <td>   0.716</td>\n",
              "</tr>\n",
              "<tr>\n",
              "  <th>Kurtosis:</th>      <td> 2.779</td> <th>  Cond. No.          </th> <td>    338.</td>\n",
              "</tr>\n",
              "</table><br/><br/>Warnings:<br/>[1] Standard Errors assume that the covariance matrix of the errors is correctly specified."
            ],
            "text/plain": [
              "<class 'statsmodels.iolib.summary.Summary'>\n",
              "\"\"\"\n",
              "                            OLS Regression Results                            \n",
              "==============================================================================\n",
              "Dep. Variable:                  sales   R-squared:                       0.612\n",
              "Model:                            OLS   Adj. R-squared:                  0.610\n",
              "Method:                 Least Squares   F-statistic:                     312.1\n",
              "Date:                Sun, 24 May 2020   Prob (F-statistic):           1.47e-42\n",
              "Time:                        11:32:16   Log-Likelihood:                -519.05\n",
              "No. Observations:                 200   AIC:                             1042.\n",
              "Df Residuals:                     198   BIC:                             1049.\n",
              "Df Model:                           1                                         \n",
              "Covariance Type:            nonrobust                                         \n",
              "==============================================================================\n",
              "                 coef    std err          t      P>|t|      [0.025      0.975]\n",
              "------------------------------------------------------------------------------\n",
              "Intercept      7.0326      0.458     15.360      0.000       6.130       7.935\n",
              "TV             0.0475      0.003     17.668      0.000       0.042       0.053\n",
              "==============================================================================\n",
              "Omnibus:                        0.531   Durbin-Watson:                   1.935\n",
              "Prob(Omnibus):                  0.767   Jarque-Bera (JB):                0.669\n",
              "Skew:                          -0.089   Prob(JB):                        0.716\n",
              "Kurtosis:                       2.779   Cond. No.                         338.\n",
              "==============================================================================\n",
              "\n",
              "Warnings:\n",
              "[1] Standard Errors assume that the covariance matrix of the errors is correctly specified.\n",
              "\"\"\""
            ]
          },
          "metadata": {
            "tags": []
          },
          "execution_count": 21
        }
      ]
    },
    {
      "cell_type": "code",
      "metadata": {
        "id": "olDBxe9Hc6El",
        "colab_type": "code",
        "outputId": "ed5645e2-4a6f-4862-8a71-a17bb94cc266",
        "colab": {
          "base_uri": "https://localhost:8080/",
          "height": 68
        }
      },
      "source": [
        "model.params # modelin parametrelerine eriştik. ilki b0 ikinci b1"
      ],
      "execution_count": 22,
      "outputs": [
        {
          "output_type": "execute_result",
          "data": {
            "text/plain": [
              "Intercept    7.032594\n",
              "TV           0.047537\n",
              "dtype: float64"
            ]
          },
          "metadata": {
            "tags": []
          },
          "execution_count": 22
        }
      ]
    },
    {
      "cell_type": "code",
      "metadata": {
        "id": "lSsgpB66dCH5",
        "colab_type": "code",
        "outputId": "4363f248-5f75-410e-c966-f5057e4c19ac",
        "colab": {
          "base_uri": "https://localhost:8080/",
          "height": 82
        }
      },
      "source": [
        "model.summary().tables[1]\n",
        "# katsayılara ilişkin değerlere eriştik.\n"
      ],
      "execution_count": 23,
      "outputs": [
        {
          "output_type": "execute_result",
          "data": {
            "text/html": [
              "<table class=\"simpletable\">\n",
              "<tr>\n",
              "      <td></td>         <th>coef</th>     <th>std err</th>      <th>t</th>      <th>P>|t|</th>  <th>[0.025</th>    <th>0.975]</th>  \n",
              "</tr>\n",
              "<tr>\n",
              "  <th>Intercept</th> <td>    7.0326</td> <td>    0.458</td> <td>   15.360</td> <td> 0.000</td> <td>    6.130</td> <td>    7.935</td>\n",
              "</tr>\n",
              "<tr>\n",
              "  <th>TV</th>        <td>    0.0475</td> <td>    0.003</td> <td>   17.668</td> <td> 0.000</td> <td>    0.042</td> <td>    0.053</td>\n",
              "</tr>\n",
              "</table>"
            ],
            "text/plain": [
              "<class 'statsmodels.iolib.table.SimpleTable'>"
            ]
          },
          "metadata": {
            "tags": []
          },
          "execution_count": 23
        }
      ]
    },
    {
      "cell_type": "code",
      "metadata": {
        "id": "ro1G5RYFdCL2",
        "colab_type": "code",
        "outputId": "cd133e83-1313-4089-f3b5-a08e722d1703",
        "colab": {
          "base_uri": "https://localhost:8080/",
          "height": 111
        }
      },
      "source": [
        "model.conf_int() # sabitlerin güven aralığına eriştik"
      ],
      "execution_count": 24,
      "outputs": [
        {
          "output_type": "execute_result",
          "data": {
            "text/html": [
              "<div>\n",
              "<style scoped>\n",
              "    .dataframe tbody tr th:only-of-type {\n",
              "        vertical-align: middle;\n",
              "    }\n",
              "\n",
              "    .dataframe tbody tr th {\n",
              "        vertical-align: top;\n",
              "    }\n",
              "\n",
              "    .dataframe thead th {\n",
              "        text-align: right;\n",
              "    }\n",
              "</style>\n",
              "<table border=\"1\" class=\"dataframe\">\n",
              "  <thead>\n",
              "    <tr style=\"text-align: right;\">\n",
              "      <th></th>\n",
              "      <th>0</th>\n",
              "      <th>1</th>\n",
              "    </tr>\n",
              "  </thead>\n",
              "  <tbody>\n",
              "    <tr>\n",
              "      <th>Intercept</th>\n",
              "      <td>6.129719</td>\n",
              "      <td>7.935468</td>\n",
              "    </tr>\n",
              "    <tr>\n",
              "      <th>TV</th>\n",
              "      <td>0.042231</td>\n",
              "      <td>0.052843</td>\n",
              "    </tr>\n",
              "  </tbody>\n",
              "</table>\n",
              "</div>"
            ],
            "text/plain": [
              "                  0         1\n",
              "Intercept  6.129719  7.935468\n",
              "TV         0.042231  0.052843"
            ]
          },
          "metadata": {
            "tags": []
          },
          "execution_count": 24
        }
      ]
    },
    {
      "cell_type": "code",
      "metadata": {
        "id": "_A_0BmBvdCQm",
        "colab_type": "code",
        "outputId": "ad3346d9-a555-4f47-e961-df171047fe9f",
        "colab": {
          "base_uri": "https://localhost:8080/",
          "height": 34
        }
      },
      "source": [
        "model.f_pvalue\n",
        "print(\"f_pvalue : \", \"%.3f\" % model.f_pvalue)\n",
        "# sabitlerin anlamlılığına yönelik p value değerleri"
      ],
      "execution_count": 25,
      "outputs": [
        {
          "output_type": "stream",
          "text": [
            "f_pvalue :  0.000\n"
          ],
          "name": "stdout"
        }
      ]
    },
    {
      "cell_type": "code",
      "metadata": {
        "id": "0KH0kxSpdCd0",
        "colab_type": "code",
        "outputId": "025056fe-e157-43d6-b1c4-690d83ba5aa1",
        "colab": {
          "base_uri": "https://localhost:8080/",
          "height": 34
        }
      },
      "source": [
        "print(\"fvalue : \", \"%.3f\" % model.fvalue)\n",
        "# f istatistiğine eriştik"
      ],
      "execution_count": 26,
      "outputs": [
        {
          "output_type": "stream",
          "text": [
            "fvalue :  312.145\n"
          ],
          "name": "stdout"
        }
      ]
    },
    {
      "cell_type": "code",
      "metadata": {
        "id": "Pmtef5DLdCPH",
        "colab_type": "code",
        "outputId": "5925c33b-3c73-4c9d-f493-21dc5a9fb7bf",
        "colab": {
          "base_uri": "https://localhost:8080/",
          "height": 34
        }
      },
      "source": [
        "print(\"tvalues : \", \"%.3f\" % model.tvalues[0:1]) # modelin anlamlılığına ilişkin t testi"
      ],
      "execution_count": 27,
      "outputs": [
        {
          "output_type": "stream",
          "text": [
            "tvalues :  15.360\n"
          ],
          "name": "stdout"
        }
      ]
    },
    {
      "cell_type": "code",
      "metadata": {
        "id": "DUXbOPu1g3ey",
        "colab_type": "code",
        "outputId": "d2157fd3-5f67-4a51-e05a-7f2f23c42da4",
        "colab": {
          "base_uri": "https://localhost:8080/",
          "height": 34
        }
      },
      "source": [
        "model.mse_model # model değerlendirme istatistiğine eriştik yani hata karaler ortalaması yani birim başına yapılacak hata\n"
      ],
      "execution_count": 28,
      "outputs": [
        {
          "output_type": "execute_result",
          "data": {
            "text/plain": [
              "3314.6181668686486"
            ]
          },
          "metadata": {
            "tags": []
          },
          "execution_count": 28
        }
      ]
    },
    {
      "cell_type": "code",
      "metadata": {
        "id": "e5oUpodthIZP",
        "colab_type": "code",
        "outputId": "dc13aa4b-b5cb-47fe-91ac-b9d3d86443d3",
        "colab": {
          "base_uri": "https://localhost:8080/",
          "height": 34
        }
      },
      "source": [
        "model.rsquared # r kare değerlerine eriştik, açıklanabilirlik oranı."
      ],
      "execution_count": 29,
      "outputs": [
        {
          "output_type": "execute_result",
          "data": {
            "text/plain": [
              "0.611875050850071"
            ]
          },
          "metadata": {
            "tags": []
          },
          "execution_count": 29
        }
      ]
    },
    {
      "cell_type": "code",
      "metadata": {
        "id": "ZBC2QVPah5eP",
        "colab_type": "code",
        "colab": {
          "base_uri": "https://localhost:8080/",
          "height": 34
        },
        "outputId": "23bc6206-4173-49e0-8426-8e9017105a30"
      },
      "source": [
        "model.rsquared_adj # düzeltilmiş r kare"
      ],
      "execution_count": 30,
      "outputs": [
        {
          "output_type": "execute_result",
          "data": {
            "text/plain": [
              "0.6099148238341623"
            ]
          },
          "metadata": {
            "tags": []
          },
          "execution_count": 30
        }
      ]
    },
    {
      "cell_type": "code",
      "metadata": {
        "id": "pIjfkMIiiB3q",
        "colab_type": "code",
        "outputId": "41b61329-1481-4013-be9a-bf2e243c66d9",
        "colab": {
          "base_uri": "https://localhost:8080/",
          "height": 119
        }
      },
      "source": [
        "model.fittedvalues[0:5] # y bağımlı değişkeninin tahmin edilen değerleri"
      ],
      "execution_count": 31,
      "outputs": [
        {
          "output_type": "execute_result",
          "data": {
            "text/plain": [
              "0    17.970775\n",
              "1     9.147974\n",
              "2     7.850224\n",
              "3    14.234395\n",
              "4    15.627218\n",
              "dtype: float64"
            ]
          },
          "metadata": {
            "tags": []
          },
          "execution_count": 31
        }
      ]
    },
    {
      "cell_type": "code",
      "metadata": {
        "id": "_1Q9ZpsaiQ-C",
        "colab_type": "code",
        "outputId": "baaaf45e-4ab5-47ef-87a4-0bd2fd882bd6",
        "colab": {
          "base_uri": "https://localhost:8080/",
          "height": 119
        }
      },
      "source": [
        "y[0:5] # y bağımlı değişkeninin  gerçek değerleri"
      ],
      "execution_count": 32,
      "outputs": [
        {
          "output_type": "execute_result",
          "data": {
            "text/plain": [
              "0    22.1\n",
              "1    10.4\n",
              "2     9.3\n",
              "3    18.5\n",
              "4    12.9\n",
              "Name: sales, dtype: float64"
            ]
          },
          "metadata": {
            "tags": []
          },
          "execution_count": 32
        }
      ]
    },
    {
      "cell_type": "code",
      "metadata": {
        "id": "P9Rk5hLaiYcE",
        "colab_type": "code",
        "outputId": "a215e6c9-fe40-4235-9c64-d2a86aefba24",
        "colab": {
          "base_uri": "https://localhost:8080/",
          "height": 34
        }
      },
      "source": [
        "print(\"Sales = \"+ str(\"%.2f\" % model.params[0]) + \"+TV\"+\"*\"+str(\"%.2f\" % model.params[1]))\n",
        "# Sales ile Tv arasındaki  ilişkinin matematiksel formu"
      ],
      "execution_count": 33,
      "outputs": [
        {
          "output_type": "stream",
          "text": [
            "Sales = 7.03+TV*0.05\n"
          ],
          "name": "stdout"
        }
      ]
    },
    {
      "cell_type": "code",
      "metadata": {
        "id": "IrDiGXPolnj_",
        "colab_type": "code",
        "outputId": "8ded2087-6076-4a5f-fe04-48144ec1020e",
        "colab": {
          "base_uri": "https://localhost:8080/",
          "height": 295
        }
      },
      "source": [
        "import matplotlib.pyplot as plt\n",
        "\n",
        "g = sns.regplot(df[\"TV\"], df[\"sales\"], ci=None, scatter_kws={'color':'r', 's':9})\n",
        "g.set_title(\"Model Denklemi: Sales = 7.03 + TV*0.05\")\n",
        "g.set_ylabel(\"Satış Sayısı\")\n",
        "g.set_xlabel(\"TV Harcamaları\")\n",
        "plt.xlim(-10,310)\n",
        "plt.ylim(bottom =0);\n",
        "# modelin görsel formu"
      ],
      "execution_count": 34,
      "outputs": [
        {
          "output_type": "display_data",
          "data": {
            "image/png": "[encoded data removed]",
            "text/plain": [
              "<Figure size 432x288 with 1 Axes>"
            ]
          },
          "metadata": {
            "tags": [],
            "needs_background": "light"
          }
        }
      ]
    },
    {
      "cell_type": "code",
      "metadata": {
        "id": "ByNpDLHgn28G",
        "colab_type": "code",
        "colab": {}
      },
      "source": [
        "#Alterntif model oluşturma yöntemi\n",
        "\n",
        "from sklearn.linear_model import  LinearRegression\n",
        "reg = LinearRegression()\n",
        "model = reg.fit(X,y)"
      ],
      "execution_count": 0,
      "outputs": []
    },
    {
      "cell_type": "code",
      "metadata": {
        "id": "Et-_N75wcLAa",
        "colab_type": "code",
        "colab": {
          "base_uri": "https://localhost:8080/",
          "height": 34
        },
        "outputId": "f9cd7397-40ce-4aff-934d-cbf576900f15"
      },
      "source": [
        "model.score(X,y)\n",
        "model.intercept_\n",
        "model.coef_"
      ],
      "execution_count": 36,
      "outputs": [
        {
          "output_type": "execute_result",
          "data": {
            "text/plain": [
              "array([0.        , 0.04753664])"
            ]
          },
          "metadata": {
            "tags": []
          },
          "execution_count": 36
        }
      ]
    },
    {
      "cell_type": "code",
      "metadata": {
        "id": "yUs5yTu3csaG",
        "colab_type": "code",
        "colab": {
          "base_uri": "https://localhost:8080/",
          "height": 697
        },
        "outputId": "ec1783cd-319d-41c7-e959-82e2491f2f38"
      },
      "source": [
        "model.predict(X)"
      ],
      "execution_count": 37,
      "outputs": [
        {
          "output_type": "execute_result",
          "data": {
            "text/plain": [
              "array([17.97077451,  9.14797405,  7.85022376, 14.23439457, 15.62721814,\n",
              "        7.44616232,  9.76595037, 12.74649773,  7.44140866, 16.53041431,\n",
              "       10.17476548, 17.23871025,  8.16396559, 11.66741599, 16.73482186,\n",
              "       16.32125309, 10.25557777, 20.40940417, 10.32212907, 14.03474068,\n",
              "       17.41459582, 18.31779199,  7.6600772 , 17.88520856,  9.99412625,\n",
              "       19.52997632, 13.82557947, 18.44614092, 18.85970969, 10.38868036,\n",
              "       20.95607553, 12.39948025, 11.653155  , 19.65832525, 11.58185004,\n",
              "       20.85149492, 19.72012288, 10.58358059,  9.08142275, 17.87094757,\n",
              "       16.65876324, 15.44657891, 20.98935118, 16.86792445,  8.22576322,\n",
              "       15.35625929, 11.2966302 , 18.43663359, 17.83291826, 10.21279479,\n",
              "       16.53041431, 11.80527225, 17.31952254, 15.71278409, 19.52046899,\n",
              "       16.48763133,  7.37961102, 13.50708398, 17.05331735, 17.04856369,\n",
              "        9.57580381, 19.45391769, 18.4081116 , 11.91460652, 13.26464711,\n",
              "       10.31262174,  8.52999772, 13.65444756, 18.31779199, 17.3385372 ,\n",
              "       16.49713866, 12.25211667,  8.30657551, 13.18383482, 17.17691262,\n",
              "        7.83596277,  8.33985116, 12.76075872,  7.28929141, 12.54684384,\n",
              "       10.66439288, 18.43187992, 10.61210257, 10.28409975, 17.18166628,\n",
              "       16.21667248, 10.65963921, 12.29489965, 11.2300789 , 12.25211667,\n",
              "       13.41676436,  8.39214147, 17.38132017, 18.95953663, 12.13802873,\n",
              "       14.79532693, 16.4258337 , 15.82211837, 20.80395828, 13.45954734,\n",
              "       17.60474238, 21.12245377, 20.3523602 , 15.96472829, 18.3558213 ,\n",
              "       13.58789626,  8.22100956, 11.32990584,  7.65532354, 19.17345152,\n",
              "       17.76636696, 18.52219954, 15.38478127, 16.99627338, 10.74995883,\n",
              "       10.60259525, 13.6496939 , 10.66439288, 13.00794925,  7.95480437,\n",
              "       13.74952084,  7.92628239, 17.68080101, 12.88435399, 17.94225253,\n",
              "       11.17778859,  7.40337934, 10.84503211, 17.50491544,  9.86577732,\n",
              "        7.0658692 , 19.63931059,  7.43190133, 17.48114712,  8.78669558,\n",
              "        9.32861328,  8.24953154, 20.04337204,  9.07666909, 15.82211837,\n",
              "       10.52178296, 16.2404408 , 17.51442276, 12.00492614, 11.60561836,\n",
              "       13.7019842 , 18.44614092, 18.5935045 ,  8.83898589,  9.15748138,\n",
              "       20.37612852, 12.78452704, 16.4258337 , 15.17562006, 15.95997462,\n",
              "        7.22749377, 11.49628409, 14.15358229,  7.58877224, 13.29316909,\n",
              "       15.23266402, 11.10648363, 15.98849661, 14.80483426, 12.60388781,\n",
              "       18.17993573,  7.88349941, 16.86317079, 17.2719859 , 20.54726042,\n",
              "        9.40942557, 14.8523709 ,  7.9643117 , 15.0377638 , 17.60474238,\n",
              "       20.19548929, 18.84069503, 15.12332975, 20.18598196, 14.9046612 ,\n",
              "       14.47683144, 17.41934948,  9.70415274, 20.70413134, 19.09739289,\n",
              "       16.77760484, 13.66395489, 16.11684554, 20.62807271,  7.92152873,\n",
              "        8.91029085, 10.6216099 ,  7.85022376, 14.96170517, 14.14882862,\n",
              "        8.84849321, 11.51054508, 15.44657891, 20.51398478, 18.06584779])"
            ]
          },
          "metadata": {
            "tags": []
          },
          "execution_count": 37
        }
      ]
    },
    {
      "cell_type": "code",
      "metadata": {
        "id": "R9vuJyFwi6U4",
        "colab_type": "code",
        "colab": {}
      },
      "source": [
        "# böylece veriyi analiz edip tanhim edecek makine öğrenmesi modeli oluşturduk.\n",
        "# veriyi okuttuk ve tv reklamlarına ayırılacak bütçeyi girdiğinde ne kadarlık bir satış yapabileceğini tahmin ettik."
      ],
      "execution_count": 0,
      "outputs": []
    },
    {
      "cell_type": "markdown",
      "metadata": {
        "id": "lsdY81TEo7Bk",
        "colab_type": "text"
      },
      "source": [
        "### Tahmin"
      ]
    },
    {
      "cell_type": "markdown",
      "metadata": {
        "id": "FRGa2VhapLRO",
        "colab_type": "text"
      },
      "source": [
        "Model Denklemi: \n",
        "\n",
        "Sales = 7,03 + TV*0,04\n",
        "\n",
        "Örneğin: 30  birim Tv harcaması olduğunda satışların tahmini değeri kaç olur?"
      ]
    },
    {
      "cell_type": "code",
      "metadata": {
        "id": "lj1IsJZyi6fF",
        "colab_type": "code",
        "outputId": "c144e45c-7394-4008-f342-1861432844af",
        "colab": {
          "base_uri": "https://localhost:8080/",
          "height": 34
        }
      },
      "source": [
        "7.03 + 30*0.04"
      ],
      "execution_count": 39,
      "outputs": [
        {
          "output_type": "execute_result",
          "data": {
            "text/plain": [
              "8.23"
            ]
          },
          "metadata": {
            "tags": []
          },
          "execution_count": 39
        }
      ]
    },
    {
      "cell_type": "code",
      "metadata": {
        "id": "6DQgT36UdGPK",
        "colab_type": "code",
        "colab": {}
      },
      "source": [
        "X = df[[\"TV\"]]\n",
        "y = df[\"sales\"]\n",
        "reg = LinearRegression()\n",
        "model = reg.fit(X,y)"
      ],
      "execution_count": 0,
      "outputs": []
    },
    {
      "cell_type": "code",
      "metadata": {
        "id": "VdksKyu_1llA",
        "colab_type": "code",
        "outputId": "1502305a-b50a-48af-9517-3f1039bdaa2c",
        "colab": {
          "base_uri": "https://localhost:8080/",
          "height": 34
        }
      },
      "source": [
        "model.predict([[30]])"
      ],
      "execution_count": 41,
      "outputs": [
        {
          "output_type": "execute_result",
          "data": {
            "text/plain": [
              "array([8.45869276])"
            ]
          },
          "metadata": {
            "tags": []
          },
          "execution_count": 41
        }
      ]
    },
    {
      "cell_type": "markdown",
      "metadata": {
        "id": "VWCXcHr4jHV1",
        "colab_type": "text"
      },
      "source": [
        "### Artıklar Ve Makine Öğrenmesindeki Önemi\n"
      ]
    },
    {
      "cell_type": "code",
      "metadata": {
        "id": "IpPjFzhlpEwJ",
        "colab_type": "code",
        "colab": {}
      },
      "source": [
        "from sklearn.metrics import mean_squared_error, r2_score"
      ],
      "execution_count": 0,
      "outputs": []
    },
    {
      "cell_type": "code",
      "metadata": {
        "id": "pZWpT6_8ii_a",
        "colab_type": "code",
        "colab": {}
      },
      "source": [
        "lm  = smf.ols(\"sales~TV\", df)\n",
        "model = lm.fit()"
      ],
      "execution_count": 0,
      "outputs": []
    },
    {
      "cell_type": "code",
      "metadata": {
        "id": "ZBdKioiLijD7",
        "colab_type": "code",
        "outputId": "9a1bbdcb-15c0-42ab-89ac-425572125dbf",
        "colab": {
          "base_uri": "https://localhost:8080/",
          "height": 34
        }
      },
      "source": [
        "mse = mean_squared_error(y, model.fittedvalues) # gerçek değerler ile tahmini değerlerin arasındaki farkların kareleri.\n",
        "# mse hata kareler ortalamasıdır. Birim başına yapılacak ortalama hata.\n",
        "mse"
      ],
      "execution_count": 44,
      "outputs": [
        {
          "output_type": "execute_result",
          "data": {
            "text/plain": [
              "10.512652915656753"
            ]
          },
          "metadata": {
            "tags": []
          },
          "execution_count": 44
        }
      ]
    },
    {
      "cell_type": "code",
      "metadata": {
        "id": "CrGdHPlIz7pT",
        "colab_type": "code",
        "outputId": "38581e9b-c19f-40a4-98b2-02025cfee77e",
        "colab": {
          "base_uri": "https://localhost:8080/",
          "height": 34
        }
      },
      "source": [
        "import numpy as np\n",
        "\n",
        "rmse = np.sqrt(mse) # mse nin karekökü alınmış hali.\n",
        "rmse\n"
      ],
      "execution_count": 45,
      "outputs": [
        {
          "output_type": "execute_result",
          "data": {
            "text/plain": [
              "3.2423221486546883"
            ]
          },
          "metadata": {
            "tags": []
          },
          "execution_count": 45
        }
      ]
    },
    {
      "cell_type": "code",
      "metadata": {
        "id": "wy76GoTy04On",
        "colab_type": "code",
        "outputId": "a3fbf6e6-2a68-428d-b8bf-fb8d55045a76",
        "colab": {
          "base_uri": "https://localhost:8080/",
          "height": 204
        }
      },
      "source": [
        "y[0:10] # gerçek değerler"
      ],
      "execution_count": 46,
      "outputs": [
        {
          "output_type": "execute_result",
          "data": {
            "text/plain": [
              "0    22.1\n",
              "1    10.4\n",
              "2     9.3\n",
              "3    18.5\n",
              "4    12.9\n",
              "5     7.2\n",
              "6    11.8\n",
              "7    13.2\n",
              "8     4.8\n",
              "9    10.6\n",
              "Name: sales, dtype: float64"
            ]
          },
          "metadata": {
            "tags": []
          },
          "execution_count": 46
        }
      ]
    },
    {
      "cell_type": "code",
      "metadata": {
        "id": "0ERu8NSO2pY7",
        "colab_type": "code",
        "colab": {}
      },
      "source": [
        ""
      ],
      "execution_count": 0,
      "outputs": []
    },
    {
      "cell_type": "code",
      "metadata": {
        "id": "griqwkN5fNNN",
        "colab_type": "code",
        "colab": {}
      },
      "source": [
        "k_t = pd.DataFrame({\"gercek_y\": y[0:10],\n",
        "                   \"tahmin_y\": reg.predict(X)[0:10]})"
      ],
      "execution_count": 0,
      "outputs": []
    },
    {
      "cell_type": "code",
      "metadata": {
        "id": "k5OmE8y_3ZnS",
        "colab_type": "code",
        "colab": {}
      },
      "source": [
        "k_t[\"hata\"] = k_t[\"gercek_y\"] - k_t[\"tahmin_y\"] # hataları bulduk"
      ],
      "execution_count": 0,
      "outputs": []
    },
    {
      "cell_type": "code",
      "metadata": {
        "id": "WlxcMqTx3v0T",
        "colab_type": "code",
        "outputId": "3629534f-9bf7-45ae-b61f-0fd9e008cd59",
        "colab": {
          "base_uri": "https://localhost:8080/",
          "height": 359
        }
      },
      "source": [
        "k_t"
      ],
      "execution_count": 49,
      "outputs": [
        {
          "output_type": "execute_result",
          "data": {
            "text/html": [
              "<div>\n",
              "<style scoped>\n",
              "    .dataframe tbody tr th:only-of-type {\n",
              "        vertical-align: middle;\n",
              "    }\n",
              "\n",
              "    .dataframe tbody tr th {\n",
              "        vertical-align: top;\n",
              "    }\n",
              "\n",
              "    .dataframe thead th {\n",
              "        text-align: right;\n",
              "    }\n",
              "</style>\n",
              "<table border=\"1\" class=\"dataframe\">\n",
              "  <thead>\n",
              "    <tr style=\"text-align: right;\">\n",
              "      <th></th>\n",
              "      <th>gercek_y</th>\n",
              "      <th>tahmin_y</th>\n",
              "      <th>hata</th>\n",
              "    </tr>\n",
              "  </thead>\n",
              "  <tbody>\n",
              "    <tr>\n",
              "      <th>0</th>\n",
              "      <td>22.1</td>\n",
              "      <td>17.970775</td>\n",
              "      <td>4.129225</td>\n",
              "    </tr>\n",
              "    <tr>\n",
              "      <th>1</th>\n",
              "      <td>10.4</td>\n",
              "      <td>9.147974</td>\n",
              "      <td>1.252026</td>\n",
              "    </tr>\n",
              "    <tr>\n",
              "      <th>2</th>\n",
              "      <td>9.3</td>\n",
              "      <td>7.850224</td>\n",
              "      <td>1.449776</td>\n",
              "    </tr>\n",
              "    <tr>\n",
              "      <th>3</th>\n",
              "      <td>18.5</td>\n",
              "      <td>14.234395</td>\n",
              "      <td>4.265605</td>\n",
              "    </tr>\n",
              "    <tr>\n",
              "      <th>4</th>\n",
              "      <td>12.9</td>\n",
              "      <td>15.627218</td>\n",
              "      <td>-2.727218</td>\n",
              "    </tr>\n",
              "    <tr>\n",
              "      <th>5</th>\n",
              "      <td>7.2</td>\n",
              "      <td>7.446162</td>\n",
              "      <td>-0.246162</td>\n",
              "    </tr>\n",
              "    <tr>\n",
              "      <th>6</th>\n",
              "      <td>11.8</td>\n",
              "      <td>9.765950</td>\n",
              "      <td>2.034050</td>\n",
              "    </tr>\n",
              "    <tr>\n",
              "      <th>7</th>\n",
              "      <td>13.2</td>\n",
              "      <td>12.746498</td>\n",
              "      <td>0.453502</td>\n",
              "    </tr>\n",
              "    <tr>\n",
              "      <th>8</th>\n",
              "      <td>4.8</td>\n",
              "      <td>7.441409</td>\n",
              "      <td>-2.641409</td>\n",
              "    </tr>\n",
              "    <tr>\n",
              "      <th>9</th>\n",
              "      <td>10.6</td>\n",
              "      <td>16.530414</td>\n",
              "      <td>-5.930414</td>\n",
              "    </tr>\n",
              "  </tbody>\n",
              "</table>\n",
              "</div>"
            ],
            "text/plain": [
              "   gercek_y   tahmin_y      hata\n",
              "0      22.1  17.970775  4.129225\n",
              "1      10.4   9.147974  1.252026\n",
              "2       9.3   7.850224  1.449776\n",
              "3      18.5  14.234395  4.265605\n",
              "4      12.9  15.627218 -2.727218\n",
              "5       7.2   7.446162 -0.246162\n",
              "6      11.8   9.765950  2.034050\n",
              "7      13.2  12.746498  0.453502\n",
              "8       4.8   7.441409 -2.641409\n",
              "9      10.6  16.530414 -5.930414"
            ]
          },
          "metadata": {
            "tags": []
          },
          "execution_count": 49
        }
      ]
    },
    {
      "cell_type": "code",
      "metadata": {
        "id": "nlj092PB3xik",
        "colab_type": "code",
        "colab": {}
      },
      "source": [
        "# şimdi hataların ortalamasını almak istesek - ler ve + lar birbirini götüreceğinden hatalı bir değer elde ederiz\n",
        "# bunu engellemek için ya mutlak değer alırım ya karesini"
      ],
      "execution_count": 0,
      "outputs": []
    },
    {
      "cell_type": "code",
      "metadata": {
        "id": "rItjlNTm4KNK",
        "colab_type": "code",
        "colab": {}
      },
      "source": [
        "k_t[\"hata_kare\"] = k_t[\"hata\"]**2"
      ],
      "execution_count": 0,
      "outputs": []
    },
    {
      "cell_type": "code",
      "metadata": {
        "id": "YxijEgDk5h-b",
        "colab_type": "code",
        "outputId": "cce7e9de-8a1b-45a6-f1f8-174c984ea5cb",
        "colab": {
          "base_uri": "https://localhost:8080/",
          "height": 359
        }
      },
      "source": [
        "k_t"
      ],
      "execution_count": 52,
      "outputs": [
        {
          "output_type": "execute_result",
          "data": {
            "text/html": [
              "<div>\n",
              "<style scoped>\n",
              "    .dataframe tbody tr th:only-of-type {\n",
              "        vertical-align: middle;\n",
              "    }\n",
              "\n",
              "    .dataframe tbody tr th {\n",
              "        vertical-align: top;\n",
              "    }\n",
              "\n",
              "    .dataframe thead th {\n",
              "        text-align: right;\n",
              "    }\n",
              "</style>\n",
              "<table border=\"1\" class=\"dataframe\">\n",
              "  <thead>\n",
              "    <tr style=\"text-align: right;\">\n",
              "      <th></th>\n",
              "      <th>gercek_y</th>\n",
              "      <th>tahmin_y</th>\n",
              "      <th>hata</th>\n",
              "      <th>hata_kare</th>\n",
              "    </tr>\n",
              "  </thead>\n",
              "  <tbody>\n",
              "    <tr>\n",
              "      <th>0</th>\n",
              "      <td>22.1</td>\n",
              "      <td>17.970775</td>\n",
              "      <td>4.129225</td>\n",
              "      <td>17.050503</td>\n",
              "    </tr>\n",
              "    <tr>\n",
              "      <th>1</th>\n",
              "      <td>10.4</td>\n",
              "      <td>9.147974</td>\n",
              "      <td>1.252026</td>\n",
              "      <td>1.567569</td>\n",
              "    </tr>\n",
              "    <tr>\n",
              "      <th>2</th>\n",
              "      <td>9.3</td>\n",
              "      <td>7.850224</td>\n",
              "      <td>1.449776</td>\n",
              "      <td>2.101851</td>\n",
              "    </tr>\n",
              "    <tr>\n",
              "      <th>3</th>\n",
              "      <td>18.5</td>\n",
              "      <td>14.234395</td>\n",
              "      <td>4.265605</td>\n",
              "      <td>18.195390</td>\n",
              "    </tr>\n",
              "    <tr>\n",
              "      <th>4</th>\n",
              "      <td>12.9</td>\n",
              "      <td>15.627218</td>\n",
              "      <td>-2.727218</td>\n",
              "      <td>7.437719</td>\n",
              "    </tr>\n",
              "    <tr>\n",
              "      <th>5</th>\n",
              "      <td>7.2</td>\n",
              "      <td>7.446162</td>\n",
              "      <td>-0.246162</td>\n",
              "      <td>0.060596</td>\n",
              "    </tr>\n",
              "    <tr>\n",
              "      <th>6</th>\n",
              "      <td>11.8</td>\n",
              "      <td>9.765950</td>\n",
              "      <td>2.034050</td>\n",
              "      <td>4.137358</td>\n",
              "    </tr>\n",
              "    <tr>\n",
              "      <th>7</th>\n",
              "      <td>13.2</td>\n",
              "      <td>12.746498</td>\n",
              "      <td>0.453502</td>\n",
              "      <td>0.205664</td>\n",
              "    </tr>\n",
              "    <tr>\n",
              "      <th>8</th>\n",
              "      <td>4.8</td>\n",
              "      <td>7.441409</td>\n",
              "      <td>-2.641409</td>\n",
              "      <td>6.977040</td>\n",
              "    </tr>\n",
              "    <tr>\n",
              "      <th>9</th>\n",
              "      <td>10.6</td>\n",
              "      <td>16.530414</td>\n",
              "      <td>-5.930414</td>\n",
              "      <td>35.169814</td>\n",
              "    </tr>\n",
              "  </tbody>\n",
              "</table>\n",
              "</div>"
            ],
            "text/plain": [
              "   gercek_y   tahmin_y      hata  hata_kare\n",
              "0      22.1  17.970775  4.129225  17.050503\n",
              "1      10.4   9.147974  1.252026   1.567569\n",
              "2       9.3   7.850224  1.449776   2.101851\n",
              "3      18.5  14.234395  4.265605  18.195390\n",
              "4      12.9  15.627218 -2.727218   7.437719\n",
              "5       7.2   7.446162 -0.246162   0.060596\n",
              "6      11.8   9.765950  2.034050   4.137358\n",
              "7      13.2  12.746498  0.453502   0.205664\n",
              "8       4.8   7.441409 -2.641409   6.977040\n",
              "9      10.6  16.530414 -5.930414  35.169814"
            ]
          },
          "metadata": {
            "tags": []
          },
          "execution_count": 52
        }
      ]
    },
    {
      "cell_type": "code",
      "metadata": {
        "id": "F2j3BOId5jEp",
        "colab_type": "code",
        "outputId": "1cfea294-9596-48e6-ead8-d48736cca8a1",
        "colab": {
          "base_uri": "https://localhost:8080/",
          "height": 34
        }
      },
      "source": [
        "np.sum(k_t[\"hata_kare\"])"
      ],
      "execution_count": 53,
      "outputs": [
        {
          "output_type": "execute_result",
          "data": {
            "text/plain": [
              "92.90350329638102"
            ]
          },
          "metadata": {
            "tags": []
          },
          "execution_count": 53
        }
      ]
    },
    {
      "cell_type": "code",
      "metadata": {
        "id": "Tzk9KI1C5w9A",
        "colab_type": "code",
        "outputId": "9f4fd986-c8f3-4ff9-8d0d-466b40546e1d",
        "colab": {
          "base_uri": "https://localhost:8080/",
          "height": 34
        }
      },
      "source": [
        "np.mean(k_t[\"hata_kare\"])"
      ],
      "execution_count": 54,
      "outputs": [
        {
          "output_type": "execute_result",
          "data": {
            "text/plain": [
              "9.290350329638102"
            ]
          },
          "metadata": {
            "tags": []
          },
          "execution_count": 54
        }
      ]
    },
    {
      "cell_type": "code",
      "metadata": {
        "id": "97EnNCQn55DV",
        "colab_type": "code",
        "outputId": "2e19dc92-2e57-44d6-abd5-76f5d3bc3627",
        "colab": {
          "base_uri": "https://localhost:8080/",
          "height": 34
        }
      },
      "source": [
        "np.sqrt( np.mean(k_t[\"hata_kare\"]) )  # görüldüğü üzere ortalama 3 lük hata"
      ],
      "execution_count": 55,
      "outputs": [
        {
          "output_type": "execute_result",
          "data": {
            "text/plain": [
              "3.048007599996775"
            ]
          },
          "metadata": {
            "tags": []
          },
          "execution_count": 55
        }
      ]
    },
    {
      "cell_type": "code",
      "metadata": {
        "id": "DR5nzmhm6903",
        "colab_type": "code",
        "colab": {}
      },
      "source": [
        "# aslınnda hatayı bu halde bırakmamak gerekir hataların dağılımına bakılmalıdır."
      ],
      "execution_count": 0,
      "outputs": []
    },
    {
      "cell_type": "code",
      "metadata": {
        "id": "xjE-XoTI7d7R",
        "colab_type": "code",
        "outputId": "11fc2315-70f2-48d1-b23c-60280c992f24",
        "colab": {
          "base_uri": "https://localhost:8080/",
          "height": 204
        }
      },
      "source": [
        "model.resid[0:10]"
      ],
      "execution_count": 57,
      "outputs": [
        {
          "output_type": "execute_result",
          "data": {
            "text/plain": [
              "0    4.129225\n",
              "1    1.252026\n",
              "2    1.449776\n",
              "3    4.265605\n",
              "4   -2.727218\n",
              "5   -0.246162\n",
              "6    2.034050\n",
              "7    0.453502\n",
              "8   -2.641409\n",
              "9   -5.930414\n",
              "dtype: float64"
            ]
          },
          "metadata": {
            "tags": []
          },
          "execution_count": 57
        }
      ]
    },
    {
      "cell_type": "code",
      "metadata": {
        "id": "JjVyzku67fS5",
        "colab_type": "code",
        "outputId": "b6a4490f-b7be-48a8-db88-7f4110dc3c72",
        "colab": {
          "base_uri": "https://localhost:8080/",
          "height": 282
        }
      },
      "source": [
        "import matplotlib.pyplot as plt\n",
        "\n",
        "plt.plot(model.resid)"
      ],
      "execution_count": 58,
      "outputs": [
        {
          "output_type": "execute_result",
          "data": {
            "text/plain": [
              "[<matplotlib.lines.Line2D at 0x7f4883c250f0>]"
            ]
          },
          "metadata": {
            "tags": []
          },
          "execution_count": 58
        },
        {
          "output_type": "display_data",
          "data": {
            "image/png": "[encoded data removed]",
            "text/plain": [
              "<Figure size 432x288 with 1 Axes>"
            ]
          },
          "metadata": {
            "tags": [],
            "needs_background": "light"
          }
        }
      ]
    },
    {
      "cell_type": "markdown",
      "metadata": {
        "id": "4Sy4NfMQ5_ac",
        "colab_type": "text"
      },
      "source": [
        "# Çoklu Doğrusal Regresyon"
      ]
    },
    {
      "cell_type": "code",
      "metadata": {
        "id": "N3Q21Pkg0qA3",
        "colab_type": "code",
        "outputId": "4f02466e-8b51-40c2-c2a7-b3bace18c6eb",
        "colab": {
          "base_uri": "https://localhost:8080/",
          "height": 204
        }
      },
      "source": [
        "import pandas as pd\n",
        "ad = pd.read_csv(\"Advertising.csv\", usecols = [1,2,3,4])\n",
        "df = ad.copy()\n",
        "df.head()"
      ],
      "execution_count": 129,
      "outputs": [
        {
          "output_type": "execute_result",
          "data": {
            "text/html": [
              "<div>\n",
              "<style scoped>\n",
              "    .dataframe tbody tr th:only-of-type {\n",
              "        vertical-align: middle;\n",
              "    }\n",
              "\n",
              "    .dataframe tbody tr th {\n",
              "        vertical-align: top;\n",
              "    }\n",
              "\n",
              "    .dataframe thead th {\n",
              "        text-align: right;\n",
              "    }\n",
              "</style>\n",
              "<table border=\"1\" class=\"dataframe\">\n",
              "  <thead>\n",
              "    <tr style=\"text-align: right;\">\n",
              "      <th></th>\n",
              "      <th>TV</th>\n",
              "      <th>radio</th>\n",
              "      <th>newspaper</th>\n",
              "      <th>sales</th>\n",
              "    </tr>\n",
              "  </thead>\n",
              "  <tbody>\n",
              "    <tr>\n",
              "      <th>0</th>\n",
              "      <td>230.1</td>\n",
              "      <td>37.8</td>\n",
              "      <td>69.2</td>\n",
              "      <td>22.1</td>\n",
              "    </tr>\n",
              "    <tr>\n",
              "      <th>1</th>\n",
              "      <td>44.5</td>\n",
              "      <td>39.3</td>\n",
              "      <td>45.1</td>\n",
              "      <td>10.4</td>\n",
              "    </tr>\n",
              "    <tr>\n",
              "      <th>2</th>\n",
              "      <td>17.2</td>\n",
              "      <td>45.9</td>\n",
              "      <td>69.3</td>\n",
              "      <td>9.3</td>\n",
              "    </tr>\n",
              "    <tr>\n",
              "      <th>3</th>\n",
              "      <td>151.5</td>\n",
              "      <td>41.3</td>\n",
              "      <td>58.5</td>\n",
              "      <td>18.5</td>\n",
              "    </tr>\n",
              "    <tr>\n",
              "      <th>4</th>\n",
              "      <td>180.8</td>\n",
              "      <td>10.8</td>\n",
              "      <td>58.4</td>\n",
              "      <td>12.9</td>\n",
              "    </tr>\n",
              "  </tbody>\n",
              "</table>\n",
              "</div>"
            ],
            "text/plain": [
              "      TV  radio  newspaper  sales\n",
              "0  230.1   37.8       69.2   22.1\n",
              "1   44.5   39.3       45.1   10.4\n",
              "2   17.2   45.9       69.3    9.3\n",
              "3  151.5   41.3       58.5   18.5\n",
              "4  180.8   10.8       58.4   12.9"
            ]
          },
          "metadata": {
            "tags": []
          },
          "execution_count": 129
        }
      ]
    },
    {
      "cell_type": "code",
      "metadata": {
        "id": "Mf-6hZfa0qUx",
        "colab_type": "code",
        "colab": {}
      },
      "source": [
        "X = df.drop(\"sales\", axis = 1)\n",
        "y = df[\"sales\"]\n",
        "\n",
        "# X bağımsız değişkenlerini y bağımlı değişkenlerini veriden ayrı ayrı topladık."
      ],
      "execution_count": 0,
      "outputs": []
    },
    {
      "cell_type": "code",
      "metadata": {
        "id": "5E6YB4xo0qPV",
        "colab_type": "code",
        "colab": {}
      },
      "source": [
        "# şimdi veriyi test ve train olarak ayırmamız gerekiyor. bunu yapacağız."
      ],
      "execution_count": 0,
      "outputs": []
    },
    {
      "cell_type": "code",
      "metadata": {
        "id": "w8ZyTFAH0qM2",
        "colab_type": "code",
        "colab": {}
      },
      "source": [
        "from sklearn.model_selection import train_test_split, cross_val_score, cross_val_predict"
      ],
      "execution_count": 0,
      "outputs": []
    },
    {
      "cell_type": "code",
      "metadata": {
        "id": "F2NoNJ310qKX",
        "colab_type": "code",
        "colab": {}
      },
      "source": [
        "X_train, X_test, y_train, y_test = train_test_split(X,y, test_size = 0.20, random_state= 42)\n",
        "# oluşturduğumuz değişkenlere sırasıyla X in traini testi,y nin traini, testi olarak trin_test_split fonksiyonunu kullandık. \n",
        "# test_size olarak %20 dedik.sabitedik."
      ],
      "execution_count": 0,
      "outputs": []
    },
    {
      "cell_type": "code",
      "metadata": {
        "id": "m62r3ioJ7fXX",
        "colab_type": "code",
        "outputId": "9769c605-5c22-40aa-e2ac-4fd2477c2320",
        "colab": {
          "base_uri": "https://localhost:8080/",
          "height": 34
        }
      },
      "source": [
        "X_train.shape"
      ],
      "execution_count": 134,
      "outputs": [
        {
          "output_type": "execute_result",
          "data": {
            "text/plain": [
              "(160, 3)"
            ]
          },
          "metadata": {
            "tags": []
          },
          "execution_count": 134
        }
      ]
    },
    {
      "cell_type": "code",
      "metadata": {
        "id": "gbes8zo09Lzo",
        "colab_type": "code",
        "outputId": "d6585d62-9715-4111-9fea-89760f83d592",
        "colab": {
          "base_uri": "https://localhost:8080/",
          "height": 34
        }
      },
      "source": [
        "X_test.shape"
      ],
      "execution_count": 135,
      "outputs": [
        {
          "output_type": "execute_result",
          "data": {
            "text/plain": [
              "(40, 3)"
            ]
          },
          "metadata": {
            "tags": []
          },
          "execution_count": 135
        }
      ]
    },
    {
      "cell_type": "code",
      "metadata": {
        "id": "rh5neMs29Owf",
        "colab_type": "code",
        "outputId": "5586aaf2-ba2d-421e-90e2-70427f6bb5c0",
        "colab": {
          "base_uri": "https://localhost:8080/",
          "height": 34
        }
      },
      "source": [
        "y_train.shape"
      ],
      "execution_count": 136,
      "outputs": [
        {
          "output_type": "execute_result",
          "data": {
            "text/plain": [
              "(160,)"
            ]
          },
          "metadata": {
            "tags": []
          },
          "execution_count": 136
        }
      ]
    },
    {
      "cell_type": "code",
      "metadata": {
        "id": "yPnXPkyw9Rur",
        "colab_type": "code",
        "outputId": "52e35253-c709-4152-fe68-aef40155d287",
        "colab": {
          "base_uri": "https://localhost:8080/",
          "height": 34
        }
      },
      "source": [
        "y_test.shape"
      ],
      "execution_count": 137,
      "outputs": [
        {
          "output_type": "execute_result",
          "data": {
            "text/plain": [
              "(40,)"
            ]
          },
          "metadata": {
            "tags": []
          },
          "execution_count": 137
        }
      ]
    },
    {
      "cell_type": "code",
      "metadata": {
        "id": "wbtyhNMl9TdI",
        "colab_type": "code",
        "colab": {}
      },
      "source": [
        "training = df.copy()"
      ],
      "execution_count": 0,
      "outputs": []
    },
    {
      "cell_type": "code",
      "metadata": {
        "id": "FSjrMHtv9aYu",
        "colab_type": "code",
        "outputId": "beef70df-bf53-4f9c-933d-8ea7362acb80",
        "colab": {
          "base_uri": "https://localhost:8080/",
          "height": 34
        }
      },
      "source": [
        "training.shape"
      ],
      "execution_count": 139,
      "outputs": [
        {
          "output_type": "execute_result",
          "data": {
            "text/plain": [
              "(200, 4)"
            ]
          },
          "metadata": {
            "tags": []
          },
          "execution_count": 139
        }
      ]
    },
    {
      "cell_type": "code",
      "metadata": {
        "id": "HBdIFjQ09eAc",
        "colab_type": "code",
        "colab": {}
      },
      "source": [
        "# sırada çoklu doğrusal regresyonu oluşturmak var."
      ],
      "execution_count": 0,
      "outputs": []
    },
    {
      "cell_type": "markdown",
      "metadata": {
        "id": "0ZB1CGTB9sZ0",
        "colab_type": "text"
      },
      "source": [
        "## Statsmodels"
      ]
    },
    {
      "cell_type": "code",
      "metadata": {
        "id": "u4b0_QuC9i3A",
        "colab_type": "code",
        "colab": {}
      },
      "source": [
        "import statsmodels.api as sm\n",
        "lm = sm.OLS(y_train,X_train)\n",
        "\n",
        "\n",
        "# YORUM:\n",
        "# R-squared değeri %98 bu demek oluyor ki TV,Radio,Newspapper bağımsız değişkenleri toplam satışı %98 oranında açıklıyor.\n",
        "# F statistic prob(bir nevi pvalue) dan büyük yani model anlamlı\n",
        "# coef  in altında bağımsız değişkenlerin bir birimlik değişiminin bağımlı değişkene olan etkisini görürüz.\n",
        "# sabitler(ß) anlamlıdır P>|t| kısmından görebiliriz"
      ],
      "execution_count": 0,
      "outputs": []
    },
    {
      "cell_type": "code",
      "metadata": {
        "id": "k5ZaoN0M9i04",
        "colab_type": "code",
        "outputId": "f7e78207-c3e5-467a-c6eb-cfd76f7baee5",
        "colab": {
          "base_uri": "https://localhost:8080/",
          "height": 465
        }
      },
      "source": [
        "model = lm.fit()\n",
        "model.summary()"
      ],
      "execution_count": 143,
      "outputs": [
        {
          "output_type": "execute_result",
          "data": {
            "text/html": [
              "<table class=\"simpletable\">\n",
              "<caption>OLS Regression Results</caption>\n",
              "<tr>\n",
              "  <th>Dep. Variable:</th>          <td>sales</td>      <th>  R-squared (uncentered):</th>      <td>   0.982</td> \n",
              "</tr>\n",
              "<tr>\n",
              "  <th>Model:</th>                   <td>OLS</td>       <th>  Adj. R-squared (uncentered):</th> <td>   0.982</td> \n",
              "</tr>\n",
              "<tr>\n",
              "  <th>Method:</th>             <td>Least Squares</td>  <th>  F-statistic:       </th>          <td>   2935.</td> \n",
              "</tr>\n",
              "<tr>\n",
              "  <th>Date:</th>             <td>Sun, 24 May 2020</td> <th>  Prob (F-statistic):</th>          <td>1.28e-137</td>\n",
              "</tr>\n",
              "<tr>\n",
              "  <th>Time:</th>                 <td>11:49:18</td>     <th>  Log-Likelihood:    </th>          <td> -336.65</td> \n",
              "</tr>\n",
              "<tr>\n",
              "  <th>No. Observations:</th>      <td>   160</td>      <th>  AIC:               </th>          <td>   679.3</td> \n",
              "</tr>\n",
              "<tr>\n",
              "  <th>Df Residuals:</th>          <td>   157</td>      <th>  BIC:               </th>          <td>   688.5</td> \n",
              "</tr>\n",
              "<tr>\n",
              "  <th>Df Model:</th>              <td>     3</td>      <th>                     </th>              <td> </td>    \n",
              "</tr>\n",
              "<tr>\n",
              "  <th>Covariance Type:</th>      <td>nonrobust</td>    <th>                     </th>              <td> </td>    \n",
              "</tr>\n",
              "</table>\n",
              "<table class=\"simpletable\">\n",
              "<tr>\n",
              "      <td></td>         <th>coef</th>     <th>std err</th>      <th>t</th>      <th>P>|t|</th>  <th>[0.025</th>    <th>0.975]</th>  \n",
              "</tr>\n",
              "<tr>\n",
              "  <th>TV</th>        <td>    0.0531</td> <td>    0.001</td> <td>   36.467</td> <td> 0.000</td> <td>    0.050</td> <td>    0.056</td>\n",
              "</tr>\n",
              "<tr>\n",
              "  <th>radio</th>     <td>    0.2188</td> <td>    0.011</td> <td>   20.138</td> <td> 0.000</td> <td>    0.197</td> <td>    0.240</td>\n",
              "</tr>\n",
              "<tr>\n",
              "  <th>newspaper</th> <td>    0.0239</td> <td>    0.008</td> <td>    3.011</td> <td> 0.003</td> <td>    0.008</td> <td>    0.040</td>\n",
              "</tr>\n",
              "</table>\n",
              "<table class=\"simpletable\">\n",
              "<tr>\n",
              "  <th>Omnibus:</th>       <td>11.405</td> <th>  Durbin-Watson:     </th> <td>   1.895</td>\n",
              "</tr>\n",
              "<tr>\n",
              "  <th>Prob(Omnibus):</th> <td> 0.003</td> <th>  Jarque-Bera (JB):  </th> <td>  15.574</td>\n",
              "</tr>\n",
              "<tr>\n",
              "  <th>Skew:</th>          <td>-0.432</td> <th>  Prob(JB):          </th> <td>0.000415</td>\n",
              "</tr>\n",
              "<tr>\n",
              "  <th>Kurtosis:</th>      <td> 4.261</td> <th>  Cond. No.          </th> <td>    13.5</td>\n",
              "</tr>\n",
              "</table><br/><br/>Warnings:<br/>[1] Standard Errors assume that the covariance matrix of the errors is correctly specified."
            ],
            "text/plain": [
              "<class 'statsmodels.iolib.summary.Summary'>\n",
              "\"\"\"\n",
              "                                 OLS Regression Results                                \n",
              "=======================================================================================\n",
              "Dep. Variable:                  sales   R-squared (uncentered):                   0.982\n",
              "Model:                            OLS   Adj. R-squared (uncentered):              0.982\n",
              "Method:                 Least Squares   F-statistic:                              2935.\n",
              "Date:                Sun, 24 May 2020   Prob (F-statistic):                   1.28e-137\n",
              "Time:                        11:49:18   Log-Likelihood:                         -336.65\n",
              "No. Observations:                 160   AIC:                                      679.3\n",
              "Df Residuals:                     157   BIC:                                      688.5\n",
              "Df Model:                           3                                                  \n",
              "Covariance Type:            nonrobust                                                  \n",
              "==============================================================================\n",
              "                 coef    std err          t      P>|t|      [0.025      0.975]\n",
              "------------------------------------------------------------------------------\n",
              "TV             0.0531      0.001     36.467      0.000       0.050       0.056\n",
              "radio          0.2188      0.011     20.138      0.000       0.197       0.240\n",
              "newspaper      0.0239      0.008      3.011      0.003       0.008       0.040\n",
              "==============================================================================\n",
              "Omnibus:                       11.405   Durbin-Watson:                   1.895\n",
              "Prob(Omnibus):                  0.003   Jarque-Bera (JB):               15.574\n",
              "Skew:                          -0.432   Prob(JB):                     0.000415\n",
              "Kurtosis:                       4.261   Cond. No.                         13.5\n",
              "==============================================================================\n",
              "\n",
              "Warnings:\n",
              "[1] Standard Errors assume that the covariance matrix of the errors is correctly specified.\n",
              "\"\"\""
            ]
          },
          "metadata": {
            "tags": []
          },
          "execution_count": 143
        }
      ]
    },
    {
      "cell_type": "code",
      "metadata": {
        "id": "TUimiO-Z9ix1",
        "colab_type": "code",
        "outputId": "88719204-93b0-496e-f21b-4c8ae6f94b39",
        "colab": {
          "base_uri": "https://localhost:8080/",
          "height": 103
        }
      },
      "source": [
        "model.summary().tables[1]\n"
      ],
      "execution_count": 73,
      "outputs": [
        {
          "output_type": "execute_result",
          "data": {
            "text/html": [
              "<table class=\"simpletable\">\n",
              "<tr>\n",
              "      <td></td>         <th>coef</th>     <th>std err</th>      <th>t</th>      <th>P>|t|</th>  <th>[0.025</th>    <th>0.975]</th>  \n",
              "</tr>\n",
              "<tr>\n",
              "  <th>TV</th>        <td>    0.0531</td> <td>    0.001</td> <td>   36.467</td> <td> 0.000</td> <td>    0.050</td> <td>    0.056</td>\n",
              "</tr>\n",
              "<tr>\n",
              "  <th>radio</th>     <td>    0.2188</td> <td>    0.011</td> <td>   20.138</td> <td> 0.000</td> <td>    0.197</td> <td>    0.240</td>\n",
              "</tr>\n",
              "<tr>\n",
              "  <th>newspaper</th> <td>    0.0239</td> <td>    0.008</td> <td>    3.011</td> <td> 0.003</td> <td>    0.008</td> <td>    0.040</td>\n",
              "</tr>\n",
              "</table>"
            ],
            "text/plain": [
              "<class 'statsmodels.iolib.table.SimpleTable'>"
            ]
          },
          "metadata": {
            "tags": []
          },
          "execution_count": 73
        }
      ]
    },
    {
      "cell_type": "markdown",
      "metadata": {
        "id": "CETTtCVVAzRa",
        "colab_type": "text"
      },
      "source": [
        "## sklearn modeli"
      ]
    },
    {
      "cell_type": "code",
      "metadata": {
        "id": "m1hp3P_69ius",
        "colab_type": "code",
        "colab": {}
      },
      "source": [
        "from sklearn.linear_model import  LinearRegression\n",
        "\n",
        "lm = LinearRegression()\n",
        "model = lm.fit(X_train,y_train) "
      ],
      "execution_count": 0,
      "outputs": []
    },
    {
      "cell_type": "code",
      "metadata": {
        "id": "SBN_eqpHAKuR",
        "colab_type": "code",
        "outputId": "2990ef8b-0152-4f24-af62-c8118ee09934",
        "colab": {
          "base_uri": "https://localhost:8080/",
          "height": 34
        }
      },
      "source": [
        "model.intercept_ # sabit katsayıdır. ß0"
      ],
      "execution_count": 145,
      "outputs": [
        {
          "output_type": "execute_result",
          "data": {
            "text/plain": [
              "2.979067338122629"
            ]
          },
          "metadata": {
            "tags": []
          },
          "execution_count": 145
        }
      ]
    },
    {
      "cell_type": "code",
      "metadata": {
        "id": "Fuj8beYNBxmq",
        "colab_type": "code",
        "outputId": "d278b215-aee7-4928-8dc6-209ada1116f7",
        "colab": {
          "base_uri": "https://localhost:8080/",
          "height": 34
        }
      },
      "source": [
        "model.coef_ # bağımsız değişkenlerin atsayıları ß1,...,ßi"
      ],
      "execution_count": 146,
      "outputs": [
        {
          "output_type": "execute_result",
          "data": {
            "text/plain": [
              "array([0.04472952, 0.18919505, 0.00276111])"
            ]
          },
          "metadata": {
            "tags": []
          },
          "execution_count": 146
        }
      ]
    },
    {
      "cell_type": "markdown",
      "metadata": {
        "id": "aWiQ88UcCVgb",
        "colab_type": "text"
      },
      "source": [
        "## Tahmin"
      ]
    },
    {
      "cell_type": "markdown",
      "metadata": {
        "id": "WNymX5NvCZu1",
        "colab_type": "text"
      },
      "source": [
        "Model Denklemi:\n",
        "\n",
        "Sales = 2.97 + TV*0.04+Radio*0.18+Newspapper*0.002\n",
        "\n",
        "Örneğin: 30 birim tv harcaması 10 birim radio, 40 birim de gazete harcaması olduğunda satışlar ne olur?"
      ]
    },
    {
      "cell_type": "code",
      "metadata": {
        "id": "UW4ITY8QB5XW",
        "colab_type": "code",
        "colab": {}
      },
      "source": [
        "yeni_veri = [[30],[10],[40]] # değişkenlerin değerlerini dizi halinde topladık..\n",
        "yeni_veri = pd.DataFrame(yeni_veri).T # predict fonksiyonun anlayabileceği forma getirmek için dataframe e çevirdik."
      ],
      "execution_count": 0,
      "outputs": []
    },
    {
      "cell_type": "code",
      "metadata": {
        "id": "3cLDBVXfDuu8",
        "colab_type": "code",
        "outputId": "968fbedb-2a65-443a-86a3-f321eefafcf8",
        "colab": {
          "base_uri": "https://localhost:8080/",
          "height": 34
        }
      },
      "source": [
        "model.predict(yeni_veri) # tahmin"
      ],
      "execution_count": 148,
      "outputs": [
        {
          "output_type": "execute_result",
          "data": {
            "text/plain": [
              "array([6.32334798])"
            ]
          },
          "metadata": {
            "tags": []
          },
          "execution_count": 148
        }
      ]
    },
    {
      "cell_type": "code",
      "metadata": {
        "id": "l0vLi5EGEiY8",
        "colab_type": "code",
        "colab": {}
      },
      "source": [
        "from sklearn.metrics import mean_squared_error, r2_score\n",
        "import numpy as np\n"
      ],
      "execution_count": 0,
      "outputs": []
    },
    {
      "cell_type": "code",
      "metadata": {
        "id": "bUQ8uTKzEK_i",
        "colab_type": "code",
        "outputId": "fb081af3-db9d-420a-ac8b-26b951bf555e",
        "colab": {
          "base_uri": "https://localhost:8080/",
          "height": 34
        }
      },
      "source": [
        "rmse = np.sqrt(mean_squared_error(y_train, model.predict(X_train))) # burada X_değişkenleri üzerinden y yi tahmin etme işleminin hatası görülmektedir.\n",
        "# rmse burda eeğitim hatasıdır.\n",
        "rmse"
      ],
      "execution_count": 80,
      "outputs": [
        {
          "output_type": "execute_result",
          "data": {
            "text/plain": [
              "1.644727765644337"
            ]
          },
          "metadata": {
            "tags": []
          },
          "execution_count": 80
        }
      ]
    },
    {
      "cell_type": "code",
      "metadata": {
        "id": "jLQyi1bKE2jA",
        "colab_type": "code",
        "outputId": "b2bd1f05-2b6d-4f55-96a0-5c9128aa57c8",
        "colab": {
          "base_uri": "https://localhost:8080/",
          "height": 34
        }
      },
      "source": [
        "rmse = np.sqrt(mean_squared_error(y_test,model.predict(X_test))) # burda dışarda  bıraktığımız X test değerleri üzerinden y test değerlerini tahmin etme\n",
        "# işleminin hatası görülmektedir.\n",
        "# burda rmse değeri test hatasıdır.\n",
        "# daha önce test değerlerini hiç bir işleme tabii tutmamıştım.\n",
        "# test hataları değerlidir. bunlar üzerinden hessaplanır genelde.\n",
        "rmse"
      ],
      "execution_count": 150,
      "outputs": [
        {
          "output_type": "execute_result",
          "data": {
            "text/plain": [
              "1.78159966153345"
            ]
          },
          "metadata": {
            "tags": []
          },
          "execution_count": 150
        }
      ]
    },
    {
      "cell_type": "markdown",
      "metadata": {
        "id": "TV_AlbYdHsjP",
        "colab_type": "text"
      },
      "source": [
        "## Model Tunning/ Model Doğrulama\n",
        "### Validation işlemleri"
      ]
    },
    {
      "cell_type": "code",
      "metadata": {
        "id": "mQ1MBeuWGzP7",
        "colab_type": "code",
        "outputId": "7064c76e-ec96-4b30-fdff-4ee97661de51",
        "colab": {
          "base_uri": "https://localhost:8080/",
          "height": 34
        }
      },
      "source": [
        "X = df.drop(\"sales\",axis = 1)\n",
        "y = df[\"sales\"]\n",
        "\n",
        "X_train,X_test,y_train,y_test = train_test_split(X,y, test_size=0.20, random_state = 42)\n",
        "lm = LinearRegression()\n",
        "model.fit(X_train,y_train)"
      ],
      "execution_count": 82,
      "outputs": [
        {
          "output_type": "execute_result",
          "data": {
            "text/plain": [
              "LinearRegression(copy_X=True, fit_intercept=True, n_jobs=None, normalize=False)"
            ]
          },
          "metadata": {
            "tags": []
          },
          "execution_count": 82
        }
      ]
    },
    {
      "cell_type": "code",
      "metadata": {
        "id": "OeGOm4VzHr5t",
        "colab_type": "code",
        "outputId": "63ae2a7b-9357-45f4-974c-103cbb7f587b",
        "colab": {
          "base_uri": "https://localhost:8080/",
          "height": 34
        }
      },
      "source": [
        "np.sqrt(mean_squared_error(y_train, model.predict(X_train))) # eğitim hatası"
      ],
      "execution_count": 151,
      "outputs": [
        {
          "output_type": "execute_result",
          "data": {
            "text/plain": [
              "1.644727765644337"
            ]
          },
          "metadata": {
            "tags": []
          },
          "execution_count": 151
        }
      ]
    },
    {
      "cell_type": "code",
      "metadata": {
        "id": "riWTGWfbHsC9",
        "colab_type": "code",
        "outputId": "efd6890f-8bab-4cb7-ed3d-94f0cc5e5753",
        "colab": {
          "base_uri": "https://localhost:8080/",
          "height": 34
        }
      },
      "source": [
        "model.score(X_train,y_train)  # X_train in y_traini açıklama oranı olan r2 değeri"
      ],
      "execution_count": 152,
      "outputs": [
        {
          "output_type": "execute_result",
          "data": {
            "text/plain": [
              "0.8957008271017818"
            ]
          },
          "metadata": {
            "tags": []
          },
          "execution_count": 152
        }
      ]
    },
    {
      "cell_type": "code",
      "metadata": {
        "id": "bourGBXjHr_7",
        "colab_type": "code",
        "colab": {}
      },
      "source": [
        "# burada önemli bir durum var. Alacağımız test ve trainin sürekli değişmesini engelleyen random_state argümanının değerini değiştirdiğimde\n",
        "# hata skorları da değişiyor. yani sorun hangi 0.20 yi alacağız mantığına benziyor aldığımız kısma göre değerler değişiyor.\n",
        "# bunu engellemek için cross validation yani çapraz doğrulama yöntemi kullanacağız.\n",
        "# böylece en doğru değerler üzerinden işlemler yapacağız."
      ],
      "execution_count": 0,
      "outputs": []
    },
    {
      "cell_type": "code",
      "metadata": {
        "id": "UvOBD9P3K1fi",
        "colab_type": "code",
        "outputId": "d447a6ba-579e-4ed6-a538-81657c6cace2",
        "colab": {
          "base_uri": "https://localhost:8080/",
          "height": 34
        }
      },
      "source": [
        "cross_val_score(model,X,y,cv = 10, scoring=\"r2\").mean()\n",
        "# burada modeli X bağımsız değişkenini, y bağımlı değişkenini girdik ve cv  ile kaç katmanlı bir crosslama yapılacağını girdik. \n",
        "# scoring argümanına \"r2\" yani girdik modeldeki bağımsız değişkenin bağımlı değişkene etkisini valide edilmiş yani doğrulanmış, güvenilir olarak aldık."
      ],
      "execution_count": 154,
      "outputs": [
        {
          "output_type": "execute_result",
          "data": {
            "text/plain": [
              "0.8853562237979616"
            ]
          },
          "metadata": {
            "tags": []
          },
          "execution_count": 154
        }
      ]
    },
    {
      "cell_type": "code",
      "metadata": {
        "id": "18M_is8XK1dR",
        "colab_type": "code",
        "outputId": "d356d22e-50f1-476a-9691-f86b6f113faf",
        "colab": {
          "base_uri": "https://localhost:8080/",
          "height": 34
        }
      },
      "source": [
        "cross_val_score(model,X_train,y_train,cv = 10, scoring=\"r2\").mean() # aynı işlemi train ler için yaptık."
      ],
      "execution_count": 155,
      "outputs": [
        {
          "output_type": "execute_result",
          "data": {
            "text/plain": [
              "0.7913548596916338"
            ]
          },
          "metadata": {
            "tags": []
          },
          "execution_count": 155
        }
      ]
    },
    {
      "cell_type": "code",
      "metadata": {
        "id": "Ol60gUdyK1am",
        "colab_type": "code",
        "outputId": "050792f1-30e8-4ff0-fb92-964cd745d852",
        "colab": {
          "base_uri": "https://localhost:8080/",
          "height": 34
        }
      },
      "source": [
        "np.sqrt(-cross_val_score(model,X_train,y_train,cv = 10, scoring=\"neg_mean_squared_error\").mean()) \n",
        "# elimde 10 katmannlı eğitim hatası değerlerinin pozitif halinin karekökleinin ortalaması var.\n",
        "# yani valide edilmiş en güvenilir rmse değerleri, yani eğitim hatasıdır."
      ],
      "execution_count": 156,
      "outputs": [
        {
          "output_type": "execute_result",
          "data": {
            "text/plain": [
              "1.7201075950880973"
            ]
          },
          "metadata": {
            "tags": []
          },
          "execution_count": 156
        }
      ]
    },
    {
      "cell_type": "code",
      "metadata": {
        "id": "LCaPQeSwK1Xo",
        "colab_type": "code",
        "outputId": "aa2eec5b-dfc3-4f5c-974c-277e84292377",
        "colab": {
          "base_uri": "https://localhost:8080/",
          "height": 34
        }
      },
      "source": [
        "np.sqrt(mean_squared_error(y_test, model.predict(X_test)))\n",
        "# valide dilmemiş test hatasıdır."
      ],
      "execution_count": 157,
      "outputs": [
        {
          "output_type": "execute_result",
          "data": {
            "text/plain": [
              "1.78159966153345"
            ]
          },
          "metadata": {
            "tags": []
          },
          "execution_count": 157
        }
      ]
    },
    {
      "cell_type": "code",
      "metadata": {
        "id": "PNZhpxpTNki1",
        "colab_type": "code",
        "outputId": "b3fd2640-4e9e-4e4f-b865-13ad25caad7b",
        "colab": {
          "base_uri": "https://localhost:8080/",
          "height": 34
        }
      },
      "source": [
        "np.sqrt(-cross_val_score(model,X_test,y_test,cv=10,scoring=\"neg_mean_squared_error\").mean())\n",
        "# bu da valide edilmiş test hatasıdır."
      ],
      "execution_count": 158,
      "outputs": [
        {
          "output_type": "execute_result",
          "data": {
            "text/plain": [
              "1.8710410072162282"
            ]
          },
          "metadata": {
            "tags": []
          },
          "execution_count": 158
        }
      ]
    },
    {
      "cell_type": "markdown",
      "metadata": {
        "id": "WDDi6MVNOlHd",
        "colab_type": "text"
      },
      "source": [
        "*Eğitim hatası, test hatasının kötü bir tahmincisidir.*"
      ]
    },
    {
      "cell_type": "markdown",
      "metadata": {
        "id": "2NPMdVB-Fqbb",
        "colab_type": "text"
      },
      "source": [
        "# PCR Model"
      ]
    },
    {
      "cell_type": "code",
      "metadata": {
        "id": "6-PvNEnHNknp",
        "colab_type": "code",
        "outputId": "f2ace775-07ec-45ae-cd4f-2c5e085ef66b",
        "colab": {
          "base_uri": "https://localhost:8080/",
          "height": 224
        }
      },
      "source": [
        "# n sayıda değişkenin taşıdığı bilgiyi daha az değişken kullanarak karşılamaya çalışmak fikrine dayanır.\n",
        "# Bu indirgeme işlemi pca işlemi olarak geçer.\n",
        "# Bu indirgenmiş haline regresyon modeli uygulandığında PCR gerçekleşmiş olur.\n",
        "# Bunu yapmamızın sebebi bağımısız değişkenler arasında ilişki varsa) bu regresyon modelini yanıltıyor.\n",
        "# indirgeme yaptıktan sonra modell oluşturduğumuzda bu ilişkiden büyük oranda kurtularak daha sağlıklı sonuçlar elde edebiliyoruz.\n",
        "# Bunu yapmamızın bir diğer sebebi de değişken sayısının gözlem sayısından fazla olma durumu olan çok boyutluluk laneti adındaki sorunu yok etme çabasıdır.\n",
        "\n",
        "\n",
        "\n",
        "import pandas as pd\n",
        "from sklearn.model_selection import train_test_split, cross_val_score, cross_val_predict\n",
        "from sklearn.linear_model import  LinearRegression\n",
        "from sklearn.metrics import mean_squared_error, r2_score\n",
        "import numpy as np\n",
        "\n",
        "\n",
        "\n",
        "hit = pd.read_csv(\"Hitters.csv\")\n",
        "df = hit.copy()\n",
        "df = df.dropna()\n",
        "df.head()"
      ],
      "execution_count": 160,
      "outputs": [
        {
          "output_type": "execute_result",
          "data": {
            "text/html": [
              "<div>\n",
              "<style scoped>\n",
              "    .dataframe tbody tr th:only-of-type {\n",
              "        vertical-align: middle;\n",
              "    }\n",
              "\n",
              "    .dataframe tbody tr th {\n",
              "        vertical-align: top;\n",
              "    }\n",
              "\n",
              "    .dataframe thead th {\n",
              "        text-align: right;\n",
              "    }\n",
              "</style>\n",
              "<table border=\"1\" class=\"dataframe\">\n",
              "  <thead>\n",
              "    <tr style=\"text-align: right;\">\n",
              "      <th></th>\n",
              "      <th>AtBat</th>\n",
              "      <th>Hits</th>\n",
              "      <th>HmRun</th>\n",
              "      <th>Runs</th>\n",
              "      <th>RBI</th>\n",
              "      <th>Walks</th>\n",
              "      <th>Years</th>\n",
              "      <th>CAtBat</th>\n",
              "      <th>CHits</th>\n",
              "      <th>CHmRun</th>\n",
              "      <th>CRuns</th>\n",
              "      <th>CRBI</th>\n",
              "      <th>CWalks</th>\n",
              "      <th>League</th>\n",
              "      <th>Division</th>\n",
              "      <th>PutOuts</th>\n",
              "      <th>Assists</th>\n",
              "      <th>Errors</th>\n",
              "      <th>Salary</th>\n",
              "      <th>NewLeague</th>\n",
              "    </tr>\n",
              "  </thead>\n",
              "  <tbody>\n",
              "    <tr>\n",
              "      <th>1</th>\n",
              "      <td>315</td>\n",
              "      <td>81</td>\n",
              "      <td>7</td>\n",
              "      <td>24</td>\n",
              "      <td>38</td>\n",
              "      <td>39</td>\n",
              "      <td>14</td>\n",
              "      <td>3449</td>\n",
              "      <td>835</td>\n",
              "      <td>69</td>\n",
              "      <td>321</td>\n",
              "      <td>414</td>\n",
              "      <td>375</td>\n",
              "      <td>N</td>\n",
              "      <td>W</td>\n",
              "      <td>632</td>\n",
              "      <td>43</td>\n",
              "      <td>10</td>\n",
              "      <td>475.0</td>\n",
              "      <td>N</td>\n",
              "    </tr>\n",
              "    <tr>\n",
              "      <th>2</th>\n",
              "      <td>479</td>\n",
              "      <td>130</td>\n",
              "      <td>18</td>\n",
              "      <td>66</td>\n",
              "      <td>72</td>\n",
              "      <td>76</td>\n",
              "      <td>3</td>\n",
              "      <td>1624</td>\n",
              "      <td>457</td>\n",
              "      <td>63</td>\n",
              "      <td>224</td>\n",
              "      <td>266</td>\n",
              "      <td>263</td>\n",
              "      <td>A</td>\n",
              "      <td>W</td>\n",
              "      <td>880</td>\n",
              "      <td>82</td>\n",
              "      <td>14</td>\n",
              "      <td>480.0</td>\n",
              "      <td>A</td>\n",
              "    </tr>\n",
              "    <tr>\n",
              "      <th>3</th>\n",
              "      <td>496</td>\n",
              "      <td>141</td>\n",
              "      <td>20</td>\n",
              "      <td>65</td>\n",
              "      <td>78</td>\n",
              "      <td>37</td>\n",
              "      <td>11</td>\n",
              "      <td>5628</td>\n",
              "      <td>1575</td>\n",
              "      <td>225</td>\n",
              "      <td>828</td>\n",
              "      <td>838</td>\n",
              "      <td>354</td>\n",
              "      <td>N</td>\n",
              "      <td>E</td>\n",
              "      <td>200</td>\n",
              "      <td>11</td>\n",
              "      <td>3</td>\n",
              "      <td>500.0</td>\n",
              "      <td>N</td>\n",
              "    </tr>\n",
              "    <tr>\n",
              "      <th>4</th>\n",
              "      <td>321</td>\n",
              "      <td>87</td>\n",
              "      <td>10</td>\n",
              "      <td>39</td>\n",
              "      <td>42</td>\n",
              "      <td>30</td>\n",
              "      <td>2</td>\n",
              "      <td>396</td>\n",
              "      <td>101</td>\n",
              "      <td>12</td>\n",
              "      <td>48</td>\n",
              "      <td>46</td>\n",
              "      <td>33</td>\n",
              "      <td>N</td>\n",
              "      <td>E</td>\n",
              "      <td>805</td>\n",
              "      <td>40</td>\n",
              "      <td>4</td>\n",
              "      <td>91.5</td>\n",
              "      <td>N</td>\n",
              "    </tr>\n",
              "    <tr>\n",
              "      <th>5</th>\n",
              "      <td>594</td>\n",
              "      <td>169</td>\n",
              "      <td>4</td>\n",
              "      <td>74</td>\n",
              "      <td>51</td>\n",
              "      <td>35</td>\n",
              "      <td>11</td>\n",
              "      <td>4408</td>\n",
              "      <td>1133</td>\n",
              "      <td>19</td>\n",
              "      <td>501</td>\n",
              "      <td>336</td>\n",
              "      <td>194</td>\n",
              "      <td>A</td>\n",
              "      <td>W</td>\n",
              "      <td>282</td>\n",
              "      <td>421</td>\n",
              "      <td>25</td>\n",
              "      <td>750.0</td>\n",
              "      <td>A</td>\n",
              "    </tr>\n",
              "  </tbody>\n",
              "</table>\n",
              "</div>"
            ],
            "text/plain": [
              "   AtBat  Hits  HmRun  Runs  RBI  ...  PutOuts  Assists  Errors  Salary  NewLeague\n",
              "1    315    81      7    24   38  ...      632       43      10   475.0          N\n",
              "2    479   130     18    66   72  ...      880       82      14   480.0          A\n",
              "3    496   141     20    65   78  ...      200       11       3   500.0          N\n",
              "4    321    87     10    39   42  ...      805       40       4    91.5          N\n",
              "5    594   169      4    74   51  ...      282      421      25   750.0          A\n",
              "\n",
              "[5 rows x 20 columns]"
            ]
          },
          "metadata": {
            "tags": []
          },
          "execution_count": 160
        }
      ]
    },
    {
      "cell_type": "code",
      "metadata": {
        "id": "AEKCd7XeNkgj",
        "colab_type": "code",
        "outputId": "94a97145-d2d2-45ba-d1a0-61cab00a1b8d",
        "colab": {
          "base_uri": "https://localhost:8080/",
          "height": 476
        }
      },
      "source": [
        "df.info()"
      ],
      "execution_count": 161,
      "outputs": [
        {
          "output_type": "stream",
          "text": [
            "<class 'pandas.core.frame.DataFrame'>\n",
            "Int64Index: 263 entries, 1 to 321\n",
            "Data columns (total 20 columns):\n",
            " #   Column     Non-Null Count  Dtype  \n",
            "---  ------     --------------  -----  \n",
            " 0   AtBat      263 non-null    int64  \n",
            " 1   Hits       263 non-null    int64  \n",
            " 2   HmRun      263 non-null    int64  \n",
            " 3   Runs       263 non-null    int64  \n",
            " 4   RBI        263 non-null    int64  \n",
            " 5   Walks      263 non-null    int64  \n",
            " 6   Years      263 non-null    int64  \n",
            " 7   CAtBat     263 non-null    int64  \n",
            " 8   CHits      263 non-null    int64  \n",
            " 9   CHmRun     263 non-null    int64  \n",
            " 10  CRuns      263 non-null    int64  \n",
            " 11  CRBI       263 non-null    int64  \n",
            " 12  CWalks     263 non-null    int64  \n",
            " 13  League     263 non-null    object \n",
            " 14  Division   263 non-null    object \n",
            " 15  PutOuts    263 non-null    int64  \n",
            " 16  Assists    263 non-null    int64  \n",
            " 17  Errors     263 non-null    int64  \n",
            " 18  Salary     263 non-null    float64\n",
            " 19  NewLeague  263 non-null    object \n",
            "dtypes: float64(1), int64(16), object(3)\n",
            "memory usage: 43.1+ KB\n"
          ],
          "name": "stdout"
        }
      ]
    },
    {
      "cell_type": "code",
      "metadata": {
        "id": "DsbRigu9Nkd4",
        "colab_type": "code",
        "outputId": "3906a11c-627c-4e4e-9880-cf5b1276e4bd",
        "colab": {
          "base_uri": "https://localhost:8080/",
          "height": 576
        }
      },
      "source": [
        "df.describe().T"
      ],
      "execution_count": 162,
      "outputs": [
        {
          "output_type": "execute_result",
          "data": {
            "text/html": [
              "<div>\n",
              "<style scoped>\n",
              "    .dataframe tbody tr th:only-of-type {\n",
              "        vertical-align: middle;\n",
              "    }\n",
              "\n",
              "    .dataframe tbody tr th {\n",
              "        vertical-align: top;\n",
              "    }\n",
              "\n",
              "    .dataframe thead th {\n",
              "        text-align: right;\n",
              "    }\n",
              "</style>\n",
              "<table border=\"1\" class=\"dataframe\">\n",
              "  <thead>\n",
              "    <tr style=\"text-align: right;\">\n",
              "      <th></th>\n",
              "      <th>count</th>\n",
              "      <th>mean</th>\n",
              "      <th>std</th>\n",
              "      <th>min</th>\n",
              "      <th>25%</th>\n",
              "      <th>50%</th>\n",
              "      <th>75%</th>\n",
              "      <th>max</th>\n",
              "    </tr>\n",
              "  </thead>\n",
              "  <tbody>\n",
              "    <tr>\n",
              "      <th>AtBat</th>\n",
              "      <td>263.0</td>\n",
              "      <td>403.642586</td>\n",
              "      <td>147.307209</td>\n",
              "      <td>19.0</td>\n",
              "      <td>282.5</td>\n",
              "      <td>413.0</td>\n",
              "      <td>526.0</td>\n",
              "      <td>687.0</td>\n",
              "    </tr>\n",
              "    <tr>\n",
              "      <th>Hits</th>\n",
              "      <td>263.0</td>\n",
              "      <td>107.828897</td>\n",
              "      <td>45.125326</td>\n",
              "      <td>1.0</td>\n",
              "      <td>71.5</td>\n",
              "      <td>103.0</td>\n",
              "      <td>141.5</td>\n",
              "      <td>238.0</td>\n",
              "    </tr>\n",
              "    <tr>\n",
              "      <th>HmRun</th>\n",
              "      <td>263.0</td>\n",
              "      <td>11.619772</td>\n",
              "      <td>8.757108</td>\n",
              "      <td>0.0</td>\n",
              "      <td>5.0</td>\n",
              "      <td>9.0</td>\n",
              "      <td>18.0</td>\n",
              "      <td>40.0</td>\n",
              "    </tr>\n",
              "    <tr>\n",
              "      <th>Runs</th>\n",
              "      <td>263.0</td>\n",
              "      <td>54.745247</td>\n",
              "      <td>25.539816</td>\n",
              "      <td>0.0</td>\n",
              "      <td>33.5</td>\n",
              "      <td>52.0</td>\n",
              "      <td>73.0</td>\n",
              "      <td>130.0</td>\n",
              "    </tr>\n",
              "    <tr>\n",
              "      <th>RBI</th>\n",
              "      <td>263.0</td>\n",
              "      <td>51.486692</td>\n",
              "      <td>25.882714</td>\n",
              "      <td>0.0</td>\n",
              "      <td>30.0</td>\n",
              "      <td>47.0</td>\n",
              "      <td>71.0</td>\n",
              "      <td>121.0</td>\n",
              "    </tr>\n",
              "    <tr>\n",
              "      <th>Walks</th>\n",
              "      <td>263.0</td>\n",
              "      <td>41.114068</td>\n",
              "      <td>21.718056</td>\n",
              "      <td>0.0</td>\n",
              "      <td>23.0</td>\n",
              "      <td>37.0</td>\n",
              "      <td>57.0</td>\n",
              "      <td>105.0</td>\n",
              "    </tr>\n",
              "    <tr>\n",
              "      <th>Years</th>\n",
              "      <td>263.0</td>\n",
              "      <td>7.311787</td>\n",
              "      <td>4.793616</td>\n",
              "      <td>1.0</td>\n",
              "      <td>4.0</td>\n",
              "      <td>6.0</td>\n",
              "      <td>10.0</td>\n",
              "      <td>24.0</td>\n",
              "    </tr>\n",
              "    <tr>\n",
              "      <th>CAtBat</th>\n",
              "      <td>263.0</td>\n",
              "      <td>2657.543726</td>\n",
              "      <td>2286.582929</td>\n",
              "      <td>19.0</td>\n",
              "      <td>842.5</td>\n",
              "      <td>1931.0</td>\n",
              "      <td>3890.5</td>\n",
              "      <td>14053.0</td>\n",
              "    </tr>\n",
              "    <tr>\n",
              "      <th>CHits</th>\n",
              "      <td>263.0</td>\n",
              "      <td>722.186312</td>\n",
              "      <td>648.199644</td>\n",
              "      <td>4.0</td>\n",
              "      <td>212.0</td>\n",
              "      <td>516.0</td>\n",
              "      <td>1054.0</td>\n",
              "      <td>4256.0</td>\n",
              "    </tr>\n",
              "    <tr>\n",
              "      <th>CHmRun</th>\n",
              "      <td>263.0</td>\n",
              "      <td>69.239544</td>\n",
              "      <td>82.197581</td>\n",
              "      <td>0.0</td>\n",
              "      <td>15.0</td>\n",
              "      <td>40.0</td>\n",
              "      <td>92.5</td>\n",
              "      <td>548.0</td>\n",
              "    </tr>\n",
              "    <tr>\n",
              "      <th>CRuns</th>\n",
              "      <td>263.0</td>\n",
              "      <td>361.220532</td>\n",
              "      <td>331.198571</td>\n",
              "      <td>2.0</td>\n",
              "      <td>105.5</td>\n",
              "      <td>250.0</td>\n",
              "      <td>497.5</td>\n",
              "      <td>2165.0</td>\n",
              "    </tr>\n",
              "    <tr>\n",
              "      <th>CRBI</th>\n",
              "      <td>263.0</td>\n",
              "      <td>330.418251</td>\n",
              "      <td>323.367668</td>\n",
              "      <td>3.0</td>\n",
              "      <td>95.0</td>\n",
              "      <td>230.0</td>\n",
              "      <td>424.5</td>\n",
              "      <td>1659.0</td>\n",
              "    </tr>\n",
              "    <tr>\n",
              "      <th>CWalks</th>\n",
              "      <td>263.0</td>\n",
              "      <td>260.266160</td>\n",
              "      <td>264.055868</td>\n",
              "      <td>1.0</td>\n",
              "      <td>71.0</td>\n",
              "      <td>174.0</td>\n",
              "      <td>328.5</td>\n",
              "      <td>1566.0</td>\n",
              "    </tr>\n",
              "    <tr>\n",
              "      <th>PutOuts</th>\n",
              "      <td>263.0</td>\n",
              "      <td>290.711027</td>\n",
              "      <td>279.934575</td>\n",
              "      <td>0.0</td>\n",
              "      <td>113.5</td>\n",
              "      <td>224.0</td>\n",
              "      <td>322.5</td>\n",
              "      <td>1377.0</td>\n",
              "    </tr>\n",
              "    <tr>\n",
              "      <th>Assists</th>\n",
              "      <td>263.0</td>\n",
              "      <td>118.760456</td>\n",
              "      <td>145.080577</td>\n",
              "      <td>0.0</td>\n",
              "      <td>8.0</td>\n",
              "      <td>45.0</td>\n",
              "      <td>192.0</td>\n",
              "      <td>492.0</td>\n",
              "    </tr>\n",
              "    <tr>\n",
              "      <th>Errors</th>\n",
              "      <td>263.0</td>\n",
              "      <td>8.593156</td>\n",
              "      <td>6.606574</td>\n",
              "      <td>0.0</td>\n",
              "      <td>3.0</td>\n",
              "      <td>7.0</td>\n",
              "      <td>13.0</td>\n",
              "      <td>32.0</td>\n",
              "    </tr>\n",
              "    <tr>\n",
              "      <th>Salary</th>\n",
              "      <td>263.0</td>\n",
              "      <td>535.925882</td>\n",
              "      <td>451.118681</td>\n",
              "      <td>67.5</td>\n",
              "      <td>190.0</td>\n",
              "      <td>425.0</td>\n",
              "      <td>750.0</td>\n",
              "      <td>2460.0</td>\n",
              "    </tr>\n",
              "  </tbody>\n",
              "</table>\n",
              "</div>"
            ],
            "text/plain": [
              "         count         mean          std   min    25%     50%     75%      max\n",
              "AtBat    263.0   403.642586   147.307209  19.0  282.5   413.0   526.0    687.0\n",
              "Hits     263.0   107.828897    45.125326   1.0   71.5   103.0   141.5    238.0\n",
              "HmRun    263.0    11.619772     8.757108   0.0    5.0     9.0    18.0     40.0\n",
              "Runs     263.0    54.745247    25.539816   0.0   33.5    52.0    73.0    130.0\n",
              "RBI      263.0    51.486692    25.882714   0.0   30.0    47.0    71.0    121.0\n",
              "Walks    263.0    41.114068    21.718056   0.0   23.0    37.0    57.0    105.0\n",
              "Years    263.0     7.311787     4.793616   1.0    4.0     6.0    10.0     24.0\n",
              "CAtBat   263.0  2657.543726  2286.582929  19.0  842.5  1931.0  3890.5  14053.0\n",
              "CHits    263.0   722.186312   648.199644   4.0  212.0   516.0  1054.0   4256.0\n",
              "CHmRun   263.0    69.239544    82.197581   0.0   15.0    40.0    92.5    548.0\n",
              "CRuns    263.0   361.220532   331.198571   2.0  105.5   250.0   497.5   2165.0\n",
              "CRBI     263.0   330.418251   323.367668   3.0   95.0   230.0   424.5   1659.0\n",
              "CWalks   263.0   260.266160   264.055868   1.0   71.0   174.0   328.5   1566.0\n",
              "PutOuts  263.0   290.711027   279.934575   0.0  113.5   224.0   322.5   1377.0\n",
              "Assists  263.0   118.760456   145.080577   0.0    8.0    45.0   192.0    492.0\n",
              "Errors   263.0     8.593156     6.606574   0.0    3.0     7.0    13.0     32.0\n",
              "Salary   263.0   535.925882   451.118681  67.5  190.0   425.0   750.0   2460.0"
            ]
          },
          "metadata": {
            "tags": []
          },
          "execution_count": 162
        }
      ]
    },
    {
      "cell_type": "code",
      "metadata": {
        "id": "V1JiUyrSdVDV",
        "colab_type": "code",
        "outputId": "07c6cc98-2897-4c62-efc7-57d5a19e40cf",
        "colab": {
          "base_uri": "https://localhost:8080/",
          "height": 204
        }
      },
      "source": [
        "dms = pd.get_dummies(df[[\"League\", \"Division\",\"NewLeague\"]])\n",
        "dms.head()\n",
        " # kategorik değişkenleri dummy değişkene çevirdik. One hot encoding dönüşümü yaptık.\n",
        " # bunnun sebebi bunlar bağımsız değişken ve etkilerini incelemek için numerikleştirmemiz gerekiyor.\n",
        " # ancak dummy değişken tuzağına düşmemek gerekir.\n",
        " # bu yüzden tekrar edenleri çıkracağız."
      ],
      "execution_count": 164,
      "outputs": [
        {
          "output_type": "execute_result",
          "data": {
            "text/html": [
              "<div>\n",
              "<style scoped>\n",
              "    .dataframe tbody tr th:only-of-type {\n",
              "        vertical-align: middle;\n",
              "    }\n",
              "\n",
              "    .dataframe tbody tr th {\n",
              "        vertical-align: top;\n",
              "    }\n",
              "\n",
              "    .dataframe thead th {\n",
              "        text-align: right;\n",
              "    }\n",
              "</style>\n",
              "<table border=\"1\" class=\"dataframe\">\n",
              "  <thead>\n",
              "    <tr style=\"text-align: right;\">\n",
              "      <th></th>\n",
              "      <th>League_A</th>\n",
              "      <th>League_N</th>\n",
              "      <th>Division_E</th>\n",
              "      <th>Division_W</th>\n",
              "      <th>NewLeague_A</th>\n",
              "      <th>NewLeague_N</th>\n",
              "    </tr>\n",
              "  </thead>\n",
              "  <tbody>\n",
              "    <tr>\n",
              "      <th>1</th>\n",
              "      <td>0</td>\n",
              "      <td>1</td>\n",
              "      <td>0</td>\n",
              "      <td>1</td>\n",
              "      <td>0</td>\n",
              "      <td>1</td>\n",
              "    </tr>\n",
              "    <tr>\n",
              "      <th>2</th>\n",
              "      <td>1</td>\n",
              "      <td>0</td>\n",
              "      <td>0</td>\n",
              "      <td>1</td>\n",
              "      <td>1</td>\n",
              "      <td>0</td>\n",
              "    </tr>\n",
              "    <tr>\n",
              "      <th>3</th>\n",
              "      <td>0</td>\n",
              "      <td>1</td>\n",
              "      <td>1</td>\n",
              "      <td>0</td>\n",
              "      <td>0</td>\n",
              "      <td>1</td>\n",
              "    </tr>\n",
              "    <tr>\n",
              "      <th>4</th>\n",
              "      <td>0</td>\n",
              "      <td>1</td>\n",
              "      <td>1</td>\n",
              "      <td>0</td>\n",
              "      <td>0</td>\n",
              "      <td>1</td>\n",
              "    </tr>\n",
              "    <tr>\n",
              "      <th>5</th>\n",
              "      <td>1</td>\n",
              "      <td>0</td>\n",
              "      <td>0</td>\n",
              "      <td>1</td>\n",
              "      <td>1</td>\n",
              "      <td>0</td>\n",
              "    </tr>\n",
              "  </tbody>\n",
              "</table>\n",
              "</div>"
            ],
            "text/plain": [
              "   League_A  League_N  Division_E  Division_W  NewLeague_A  NewLeague_N\n",
              "1         0         1           0           1            0            1\n",
              "2         1         0           0           1            1            0\n",
              "3         0         1           1           0            0            1\n",
              "4         0         1           1           0            0            1\n",
              "5         1         0           0           1            1            0"
            ]
          },
          "metadata": {
            "tags": []
          },
          "execution_count": 164
        }
      ]
    },
    {
      "cell_type": "code",
      "metadata": {
        "id": "nnQYnxgzd1nT",
        "colab_type": "code",
        "colab": {}
      },
      "source": [
        "y = df[\"Salary\"] # bağımlı değişkeni kaydettik"
      ],
      "execution_count": 0,
      "outputs": []
    },
    {
      "cell_type": "code",
      "metadata": {
        "id": "9hz6wPMid100",
        "colab_type": "code",
        "colab": {}
      },
      "source": [
        "X_= df.drop([\"Salary\",\"League\", \"Division\",\"NewLeague\"], axis = 1).astype(\"float64\") \n",
        "# kategorik değişkenlerin ilk hallerini ve bağımlı değişkeni çıkardım. regresyon kuracağımız için sadece sürekli değişkenleri seçtim \n"
      ],
      "execution_count": 0,
      "outputs": []
    },
    {
      "cell_type": "code",
      "metadata": {
        "id": "W_KASsR3d18Y",
        "colab_type": "code",
        "outputId": "e2581518-60f2-40eb-dc0b-0e8cb4d9019b",
        "colab": {
          "base_uri": "https://localhost:8080/",
          "height": 255
        }
      },
      "source": [
        "X_.head"
      ],
      "execution_count": 167,
      "outputs": [
        {
          "output_type": "execute_result",
          "data": {
            "text/plain": [
              "<bound method NDFrame.head of      AtBat   Hits  HmRun  Runs   RBI  ...   CRBI  CWalks  PutOuts  Assists  Errors\n",
              "1    315.0   81.0    7.0  24.0  38.0  ...  414.0   375.0    632.0     43.0    10.0\n",
              "2    479.0  130.0   18.0  66.0  72.0  ...  266.0   263.0    880.0     82.0    14.0\n",
              "3    496.0  141.0   20.0  65.0  78.0  ...  838.0   354.0    200.0     11.0     3.0\n",
              "4    321.0   87.0   10.0  39.0  42.0  ...   46.0    33.0    805.0     40.0     4.0\n",
              "5    594.0  169.0    4.0  74.0  51.0  ...  336.0   194.0    282.0    421.0    25.0\n",
              "..     ...    ...    ...   ...   ...  ...    ...     ...      ...      ...     ...\n",
              "317  497.0  127.0    7.0  65.0  48.0  ...  311.0   138.0    325.0      9.0     3.0\n",
              "318  492.0  136.0    5.0  76.0  50.0  ...  451.0   875.0    313.0    381.0    20.0\n",
              "319  475.0  126.0    3.0  61.0  43.0  ...   93.0   146.0     37.0    113.0     7.0\n",
              "320  573.0  144.0    9.0  85.0  60.0  ...  420.0   332.0   1314.0    131.0    12.0\n",
              "321  631.0  170.0    9.0  77.0  44.0  ...  357.0   249.0    408.0      4.0     3.0\n",
              "\n",
              "[263 rows x 16 columns]>"
            ]
          },
          "metadata": {
            "tags": []
          },
          "execution_count": 167
        }
      ]
    },
    {
      "cell_type": "code",
      "metadata": {
        "id": "FqWhFVJ4d16C",
        "colab_type": "code",
        "outputId": "876d5808-773d-4f22-82ad-82e15e797e63",
        "colab": {
          "base_uri": "https://localhost:8080/",
          "height": 224
        }
      },
      "source": [
        "X = pd.concat([X_, dms[[\"League_N\",\"Division_W\",\"NewLeague_N\"]]], axis = 1)\n",
        "X.head()\n",
        " # sürekli değişkenlerden oluşan X_ bağımısz değişkenleri ile dummy kategorik bağımısz değişkenleri ayrı ayrı seçmiştim.\n",
        " # şimdi kategorik değişkenleri dummy tuzağından kurtarıp sürekli değişkenler ile birleştirdim.\n",
        " # ve sonuçta numerikleşmiş kategorik değişkenler ve normal sürekl değişkenlerden oluşan X bağımsız değişkeni oluştu."
      ],
      "execution_count": 168,
      "outputs": [
        {
          "output_type": "execute_result",
          "data": {
            "text/html": [
              "<div>\n",
              "<style scoped>\n",
              "    .dataframe tbody tr th:only-of-type {\n",
              "        vertical-align: middle;\n",
              "    }\n",
              "\n",
              "    .dataframe tbody tr th {\n",
              "        vertical-align: top;\n",
              "    }\n",
              "\n",
              "    .dataframe thead th {\n",
              "        text-align: right;\n",
              "    }\n",
              "</style>\n",
              "<table border=\"1\" class=\"dataframe\">\n",
              "  <thead>\n",
              "    <tr style=\"text-align: right;\">\n",
              "      <th></th>\n",
              "      <th>AtBat</th>\n",
              "      <th>Hits</th>\n",
              "      <th>HmRun</th>\n",
              "      <th>Runs</th>\n",
              "      <th>RBI</th>\n",
              "      <th>Walks</th>\n",
              "      <th>Years</th>\n",
              "      <th>CAtBat</th>\n",
              "      <th>CHits</th>\n",
              "      <th>CHmRun</th>\n",
              "      <th>CRuns</th>\n",
              "      <th>CRBI</th>\n",
              "      <th>CWalks</th>\n",
              "      <th>PutOuts</th>\n",
              "      <th>Assists</th>\n",
              "      <th>Errors</th>\n",
              "      <th>League_N</th>\n",
              "      <th>Division_W</th>\n",
              "      <th>NewLeague_N</th>\n",
              "    </tr>\n",
              "  </thead>\n",
              "  <tbody>\n",
              "    <tr>\n",
              "      <th>1</th>\n",
              "      <td>315.0</td>\n",
              "      <td>81.0</td>\n",
              "      <td>7.0</td>\n",
              "      <td>24.0</td>\n",
              "      <td>38.0</td>\n",
              "      <td>39.0</td>\n",
              "      <td>14.0</td>\n",
              "      <td>3449.0</td>\n",
              "      <td>835.0</td>\n",
              "      <td>69.0</td>\n",
              "      <td>321.0</td>\n",
              "      <td>414.0</td>\n",
              "      <td>375.0</td>\n",
              "      <td>632.0</td>\n",
              "      <td>43.0</td>\n",
              "      <td>10.0</td>\n",
              "      <td>1</td>\n",
              "      <td>1</td>\n",
              "      <td>1</td>\n",
              "    </tr>\n",
              "    <tr>\n",
              "      <th>2</th>\n",
              "      <td>479.0</td>\n",
              "      <td>130.0</td>\n",
              "      <td>18.0</td>\n",
              "      <td>66.0</td>\n",
              "      <td>72.0</td>\n",
              "      <td>76.0</td>\n",
              "      <td>3.0</td>\n",
              "      <td>1624.0</td>\n",
              "      <td>457.0</td>\n",
              "      <td>63.0</td>\n",
              "      <td>224.0</td>\n",
              "      <td>266.0</td>\n",
              "      <td>263.0</td>\n",
              "      <td>880.0</td>\n",
              "      <td>82.0</td>\n",
              "      <td>14.0</td>\n",
              "      <td>0</td>\n",
              "      <td>1</td>\n",
              "      <td>0</td>\n",
              "    </tr>\n",
              "    <tr>\n",
              "      <th>3</th>\n",
              "      <td>496.0</td>\n",
              "      <td>141.0</td>\n",
              "      <td>20.0</td>\n",
              "      <td>65.0</td>\n",
              "      <td>78.0</td>\n",
              "      <td>37.0</td>\n",
              "      <td>11.0</td>\n",
              "      <td>5628.0</td>\n",
              "      <td>1575.0</td>\n",
              "      <td>225.0</td>\n",
              "      <td>828.0</td>\n",
              "      <td>838.0</td>\n",
              "      <td>354.0</td>\n",
              "      <td>200.0</td>\n",
              "      <td>11.0</td>\n",
              "      <td>3.0</td>\n",
              "      <td>1</td>\n",
              "      <td>0</td>\n",
              "      <td>1</td>\n",
              "    </tr>\n",
              "    <tr>\n",
              "      <th>4</th>\n",
              "      <td>321.0</td>\n",
              "      <td>87.0</td>\n",
              "      <td>10.0</td>\n",
              "      <td>39.0</td>\n",
              "      <td>42.0</td>\n",
              "      <td>30.0</td>\n",
              "      <td>2.0</td>\n",
              "      <td>396.0</td>\n",
              "      <td>101.0</td>\n",
              "      <td>12.0</td>\n",
              "      <td>48.0</td>\n",
              "      <td>46.0</td>\n",
              "      <td>33.0</td>\n",
              "      <td>805.0</td>\n",
              "      <td>40.0</td>\n",
              "      <td>4.0</td>\n",
              "      <td>1</td>\n",
              "      <td>0</td>\n",
              "      <td>1</td>\n",
              "    </tr>\n",
              "    <tr>\n",
              "      <th>5</th>\n",
              "      <td>594.0</td>\n",
              "      <td>169.0</td>\n",
              "      <td>4.0</td>\n",
              "      <td>74.0</td>\n",
              "      <td>51.0</td>\n",
              "      <td>35.0</td>\n",
              "      <td>11.0</td>\n",
              "      <td>4408.0</td>\n",
              "      <td>1133.0</td>\n",
              "      <td>19.0</td>\n",
              "      <td>501.0</td>\n",
              "      <td>336.0</td>\n",
              "      <td>194.0</td>\n",
              "      <td>282.0</td>\n",
              "      <td>421.0</td>\n",
              "      <td>25.0</td>\n",
              "      <td>0</td>\n",
              "      <td>1</td>\n",
              "      <td>0</td>\n",
              "    </tr>\n",
              "  </tbody>\n",
              "</table>\n",
              "</div>"
            ],
            "text/plain": [
              "   AtBat   Hits  HmRun  Runs  ...  Errors  League_N  Division_W  NewLeague_N\n",
              "1  315.0   81.0    7.0  24.0  ...    10.0         1           1            1\n",
              "2  479.0  130.0   18.0  66.0  ...    14.0         0           1            0\n",
              "3  496.0  141.0   20.0  65.0  ...     3.0         1           0            1\n",
              "4  321.0   87.0   10.0  39.0  ...     4.0         1           0            1\n",
              "5  594.0  169.0    4.0  74.0  ...    25.0         0           1            0\n",
              "\n",
              "[5 rows x 19 columns]"
            ]
          },
          "metadata": {
            "tags": []
          },
          "execution_count": 168
        }
      ]
    },
    {
      "cell_type": "code",
      "metadata": {
        "id": "dxvD9GA6d1j3",
        "colab_type": "code",
        "colab": {}
      },
      "source": [
        "X_train, X_test, y_train, y_test = train_test_split(X,y, test_size = 0.20, random_state= 42)"
      ],
      "execution_count": 0,
      "outputs": []
    },
    {
      "cell_type": "code",
      "metadata": {
        "id": "9QrlE5Zid1gx",
        "colab_type": "code",
        "colab": {}
      },
      "source": [
        "# sklearn doğrudan PCR modelini yapacak fonksiyonlara sahip değil.\n",
        "# bu sebeple kendimiz yapacağız.\n",
        "# öncelikle PCA yani indirgeme işlemini yapacağız."
      ],
      "execution_count": 0,
      "outputs": []
    },
    {
      "cell_type": "code",
      "metadata": {
        "id": "HVTTTw3md1ds",
        "colab_type": "code",
        "colab": {}
      },
      "source": [
        "from sklearn.decomposition import PCA # indirgeme için\n",
        "from sklearn.preprocessing import scale # ölçeklendirme için\n",
        "pca = PCA() # normalde bileşen sayısı için argüman girilebilir ama ben girmedim böylece değişken sayısı kadar bileşen oluşturacak."
      ],
      "execution_count": 0,
      "outputs": []
    },
    {
      "cell_type": "code",
      "metadata": {
        "id": "IzYgjRRM8swn",
        "colab_type": "code",
        "colab": {}
      },
      "source": [
        "X_reduced_train  = pca.fit_transform(scale(X_train)) # kendi oluşturduğum değişkene ölçeklendirme ve indirgeme  yaptım.\n",
        "# şöyleki pca nesnesini fitlemiş oluyoruz yani veriseti indiirgenmiş oluyor.\n",
        "# ve aynı zamanda scale(X_train) diyerek ölçeklendirme de yapmış oluyoruz."
      ],
      "execution_count": 0,
      "outputs": []
    },
    {
      "cell_type": "code",
      "metadata": {
        "id": "ycgN0ges8s0-",
        "colab_type": "code",
        "colab": {}
      },
      "source": [
        "# şu an en son elde ettiğimiz veri seti ile indirgenmiş, aralarında herhangi bir bağlantı bulunmayan bir veri elde ettik.\n",
        "# değişken sayısı kadar  bileşen vardır."
      ],
      "execution_count": 0,
      "outputs": []
    },
    {
      "cell_type": "code",
      "metadata": {
        "id": "Pux-6vGi8suA",
        "colab_type": "code",
        "outputId": "2e9bf222-31fa-4535-d38c-7ce1398a6e64",
        "colab": {
          "base_uri": "https://localhost:8080/",
          "height": 85
        }
      },
      "source": [
        "X_reduced_train[0:1,:] # şu an 1. gözlem ve tüm bileşenleri görüyoruz."
      ],
      "execution_count": 176,
      "outputs": [
        {
          "output_type": "execute_result",
          "data": {
            "text/plain": [
              "array([[-1.91335121, -2.01656078,  1.28783438,  3.40629242,  0.49008919,\n",
              "         0.45518079, -0.28391172,  0.71141536,  0.20321472,  0.75690289,\n",
              "         0.00970493,  0.18753423,  0.13828004,  0.29886184,  0.17913327,\n",
              "        -0.24470371,  0.02667039,  0.05118204, -0.00806432]])"
            ]
          },
          "metadata": {
            "tags": []
          },
          "execution_count": 176
        }
      ]
    },
    {
      "cell_type": "code",
      "metadata": {
        "id": "MrnK6Nj9-YHg",
        "colab_type": "code",
        "outputId": "47d3b752-eab7-4ff8-f776-de50db182733",
        "colab": {
          "base_uri": "https://localhost:8080/",
          "height": 51
        }
      },
      "source": [
        "np.cumsum(np.round(pca.explained_variance_ratio_, decimals = 4)*100)[0:10]\n",
        "# burda bileşen sayısının verisetinin varyanını açıklama oranı görülmektedir\n",
        "# yani 1 değişken ile toplam varyansın %38 ini, 3 değişkenle %60 ını, 10 değişkene %97 sini açıklayabilmekteyiz.\n",
        "# böylece pcr ın ana amacı olan değişkenleri daha aza indirgeyerek veri setini açıklama işlemi yapılmıştır."
      ],
      "execution_count": 177,
      "outputs": [
        {
          "output_type": "execute_result",
          "data": {
            "text/plain": [
              "array([38.73, 60.  , 70.89, 79.06, 84.31, 88.55, 92.11, 94.86, 96.35,\n",
              "       97.3 ])"
            ]
          },
          "metadata": {
            "tags": []
          },
          "execution_count": 177
        }
      ]
    },
    {
      "cell_type": "code",
      "metadata": {
        "id": "DmT0ZHsq-YEV",
        "colab_type": "code",
        "colab": {}
      },
      "source": [
        "# artık bunun üzerine regresyon model kurabiliriz."
      ],
      "execution_count": 0,
      "outputs": []
    },
    {
      "cell_type": "code",
      "metadata": {
        "id": "cIPopEFt-YBj",
        "colab_type": "code",
        "colab": {}
      },
      "source": [
        "lm = LinearRegression()"
      ],
      "execution_count": 0,
      "outputs": []
    },
    {
      "cell_type": "code",
      "metadata": {
        "id": "JE0mhoK9-X-9",
        "colab_type": "code",
        "colab": {}
      },
      "source": [
        "pcr_model = lm.fit(X_reduced_train,y_train) # burda değişkenlerden indirgenmiş tüm bileşenleri fitledik."
      ],
      "execution_count": 0,
      "outputs": []
    },
    {
      "cell_type": "code",
      "metadata": {
        "id": "4U913JPUCuXR",
        "colab_type": "code",
        "outputId": "ec758932-5a06-413d-c3a2-fd58e4fada15",
        "colab": {
          "base_uri": "https://localhost:8080/",
          "height": 34
        }
      },
      "source": [
        "pcr_model.intercept_ # sabiti aldık ß0 "
      ],
      "execution_count": 181,
      "outputs": [
        {
          "output_type": "execute_result",
          "data": {
            "text/plain": [
              "543.6646238095238"
            ]
          },
          "metadata": {
            "tags": []
          },
          "execution_count": 181
        }
      ]
    },
    {
      "cell_type": "code",
      "metadata": {
        "id": "SghaPwwxC6JJ",
        "colab_type": "code",
        "outputId": "0a1991a3-1bba-409f-9998-acfe616dc70d",
        "colab": {
          "base_uri": "https://localhost:8080/",
          "height": 102
        }
      },
      "source": [
        "pcr_model.coef_ # tüm değişkenlerimizin katsayısı ß1 vs."
      ],
      "execution_count": 182,
      "outputs": [
        {
          "output_type": "execute_result",
          "data": {
            "text/plain": [
              "array([ 114.85504124,  -27.01860663,   17.25604449,  -44.75172625,\n",
              "        -49.49681219,   63.32126853,   26.21139244,   34.46923773,\n",
              "          6.47830172,   51.23668073,   50.77030585,  -11.45295665,\n",
              "         19.60978297, -207.71340119,   25.54160792,  394.40252364,\n",
              "       -362.88175754,  767.43859405,   71.49952657])"
            ]
          },
          "metadata": {
            "tags": []
          },
          "execution_count": 182
        }
      ]
    },
    {
      "cell_type": "markdown",
      "metadata": {
        "id": "cSTl22gUG_IB",
        "colab_type": "text"
      },
      "source": [
        "## Tahmin"
      ]
    },
    {
      "cell_type": "code",
      "metadata": {
        "id": "Oz7AVOpOC9de",
        "colab_type": "code",
        "outputId": "5e95f8d5-396f-49b1-96ec-dad744268711",
        "colab": {
          "base_uri": "https://localhost:8080/",
          "height": 51
        }
      },
      "source": [
        "y_pred = pcr_model.predict(X_reduced_train) # indirgenmiş bağımsız değişkenler üzerinden y  tahmin ettik\n",
        "y_pred[0:5]"
      ],
      "execution_count": 183,
      "outputs": [
        {
          "output_type": "execute_result",
          "data": {
            "text/plain": [
              "array([185.98619285, 277.1297043 , 611.78423513, 641.93992322,\n",
              "       699.59752957])"
            ]
          },
          "metadata": {
            "tags": []
          },
          "execution_count": 183
        }
      ]
    },
    {
      "cell_type": "code",
      "metadata": {
        "id": "C18lzL_IDqV5",
        "colab_type": "code",
        "outputId": "2c3a8c30-318b-4871-8f92-d100e96643db",
        "colab": {
          "base_uri": "https://localhost:8080/",
          "height": 34
        }
      },
      "source": [
        "np.sqrt(mean_squared_error(y_train,y_pred)) # indirgeniş X lerden yola çıkarak yaptığımız y_pred tahminleri ile orijinal y_trainleri karşılaştırarak\n",
        "# rmse eğitim hatası değerlerini bulduk."
      ],
      "execution_count": 184,
      "outputs": [
        {
          "output_type": "execute_result",
          "data": {
            "text/plain": [
              "291.828812790208"
            ]
          },
          "metadata": {
            "tags": []
          },
          "execution_count": 184
        }
      ]
    },
    {
      "cell_type": "code",
      "metadata": {
        "id": "SZijNmfdGTls",
        "colab_type": "code",
        "outputId": "899a9f2f-2d4b-46c9-b664-600a92a96805",
        "colab": {
          "base_uri": "https://localhost:8080/",
          "height": 34
        }
      },
      "source": [
        "df[\"Salary\"].mean() "
      ],
      "execution_count": 185,
      "outputs": [
        {
          "output_type": "execute_result",
          "data": {
            "text/plain": [
              "535.9258821292775"
            ]
          },
          "metadata": {
            "tags": []
          },
          "execution_count": 185
        }
      ]
    },
    {
      "cell_type": "code",
      "metadata": {
        "id": "LmrzKeNVGtge",
        "colab_type": "code",
        "outputId": "3ea46303-6991-48c0-baf9-297960ffbad9",
        "colab": {
          "base_uri": "https://localhost:8080/",
          "height": 34
        }
      },
      "source": [
        "r2_score(y_train, y_pred) # y_predin y_traini açıklama yüzdesi r2."
      ],
      "execution_count": 186,
      "outputs": [
        {
          "output_type": "execute_result",
          "data": {
            "text/plain": [
              "0.5904682431073305"
            ]
          },
          "metadata": {
            "tags": []
          },
          "execution_count": 186
        }
      ]
    },
    {
      "cell_type": "code",
      "metadata": {
        "id": "GqsOd5BwG3n4",
        "colab_type": "code",
        "colab": {}
      },
      "source": [
        "pca2 = PCA()"
      ],
      "execution_count": 0,
      "outputs": []
    },
    {
      "cell_type": "code",
      "metadata": {
        "id": "tGFG5TMDHKEU",
        "colab_type": "code",
        "colab": {}
      },
      "source": [
        "X_reduced_test = pca2.fit_transform(scale(X_test)) # X test üzerinnden indirgeeyip ölçeklendirdik."
      ],
      "execution_count": 0,
      "outputs": []
    },
    {
      "cell_type": "code",
      "metadata": {
        "id": "w2DAlZb6I9Nk",
        "colab_type": "code",
        "outputId": "5a3a27e6-533d-4c7a-f6c7-ec51e61dfbf6",
        "colab": {
          "base_uri": "https://localhost:8080/",
          "height": 255
        }
      },
      "source": [
        "y_pred  = pcr_model.predict(X_reduced_test)\n",
        "y_pred "
      ],
      "execution_count": 189,
      "outputs": [
        {
          "output_type": "execute_result",
          "data": {
            "text/plain": [
              "array([ 7.72357318e+02,  8.71287592e+02,  8.59544102e+02,  4.33856699e+02,\n",
              "        8.68894333e+02,  3.84346323e+02,  5.46654473e+02,  3.08009273e+02,\n",
              "        9.06928327e+02,  7.90790234e+02,  5.09834448e+02,  9.40420380e+02,\n",
              "        1.13832254e+03,  4.48076620e+02,  3.48860236e+02,  1.10519103e+03,\n",
              "        9.27736526e+02,  1.20337209e+02,  1.00748808e+03,  4.18598747e+02,\n",
              "        2.94761573e+02,  6.19766445e+02,  4.59765347e+02,  4.18124088e+02,\n",
              "        7.78902001e+02, -2.70552058e+01,  8.71822955e+02,  1.85193400e+02,\n",
              "        7.71997769e+02,  2.01559763e+00, -8.77241470e+01,  1.39381860e+00,\n",
              "        5.54452493e+02,  6.93430985e+02,  4.03418024e+02,  7.83182593e+02,\n",
              "        1.40799929e+03,  3.02511544e+02,  4.04088422e+01,  5.66194913e+01,\n",
              "        4.40884289e+01,  4.58886561e+02,  4.92776548e+02,  1.86610111e+02,\n",
              "        1.04260555e+03,  8.11440259e+02,  6.33507798e+02,  1.17207744e+02,\n",
              "        2.48115467e+02,  5.20797407e+02,  7.12619277e+02,  5.48912236e+02,\n",
              "        7.58136295e+02])"
            ]
          },
          "metadata": {
            "tags": []
          },
          "execution_count": 189
        }
      ]
    },
    {
      "cell_type": "code",
      "metadata": {
        "id": "0hk5N-QvI9d6",
        "colab_type": "code",
        "outputId": "37adeaa0-2875-4598-8f4f-a50c7c7c6375",
        "colab": {
          "base_uri": "https://localhost:8080/",
          "height": 34
        }
      },
      "source": [
        "\n",
        "np.sqrt(mean_squared_error(y_test, y_pred)) # y nin tahminiyle gerçeğini karşılaştırarak hata kareleer ortalamasıı aldık."
      ],
      "execution_count": 190,
      "outputs": [
        {
          "output_type": "execute_result",
          "data": {
            "text/plain": [
              "420.92935176696415"
            ]
          },
          "metadata": {
            "tags": []
          },
          "execution_count": 190
        }
      ]
    },
    {
      "cell_type": "code",
      "metadata": {
        "id": "RGrhwklQI9rS",
        "colab_type": "code",
        "colab": {}
      },
      "source": [
        "# buralarda yaptığımız işlemler test ve train olarak ayrılmış veriye yönelikti.\n",
        "# şimdi çaprazlamalar yaparak valide edeceğiz.\n",
        "# pcr modelinin dışsal (hiper) parametreleri optimize edilmeli\n"
      ],
      "execution_count": 0,
      "outputs": []
    },
    {
      "cell_type": "markdown",
      "metadata": {
        "id": "JjdiKsb3KYz2",
        "colab_type": "text"
      },
      "source": [
        "## Model Tunning"
      ]
    },
    {
      "cell_type": "code",
      "metadata": {
        "id": "gla1bFEiKbzI",
        "colab_type": "code",
        "outputId": "3506e90b-6114-43a3-d613-242523a14d86",
        "colab": {
          "base_uri": "https://localhost:8080/",
          "height": 34
        }
      },
      "source": [
        "lm = LinearRegression()\n",
        "pcr_model = lm.fit(X_reduced_train[:,0:10],y_train) # indirgenmiş x den tüm değişkenleri al ve 10 tane bileşen al dedim\n",
        "y_pred = pcr_model.predict(X_reduced_test[:,0:10]) # indirgenmiş x den tüm değişkenleri al ve 10 tane bileşen al dedim\n",
        "# işte  burda seçtiğim bileşen sayısı değişince rmse vs. değerler de değişiyor. \n",
        "# ya da Bileşen sayısını PCA() içine değer girerek değiştirebiliyoruz mesela.\n",
        "# benim bu değeri öznel olarak değil de bilimsel olarak en uygun değeri bulmam gerekir.\n",
        "# bunun için cross validation işlemi yapıp tüm olası sonuçlarınn denenip en doğru  sonucun bulunması gerekir.\n",
        "print(np.sqrt(mean_squared_error(y_test,y_pred)))\n",
        "\n",
        "# burda seçtiğimiz bileşen sayısına göre hata kareler ortalaması değişiyor. \n",
        "# bunu opttimize etmek için model tunning yapacağız."
      ],
      "execution_count": 192,
      "outputs": [
        {
          "output_type": "stream",
          "text": [
            "403.66540369663727\n"
          ],
          "name": "stdout"
        }
      ]
    },
    {
      "cell_type": "code",
      "metadata": {
        "id": "88GJQLA6Kec_",
        "colab_type": "code",
        "colab": {}
      },
      "source": [
        "from sklearn import model_selection"
      ],
      "execution_count": 0,
      "outputs": []
    },
    {
      "cell_type": "code",
      "metadata": {
        "id": "DjiRjOhaKeaJ",
        "colab_type": "code",
        "colab": {}
      },
      "source": [
        "cv_10 = model_selection.KFold(n_splits = 10,\n",
        "                              shuffle = True, # bu guruplara ayrılmadan önce verilerin karıştırılıp karıştrılmayacağı anlamına geliyor.\n",
        "                              random_state =1)\n",
        "#10 katlı cross validationn yapılandırmış olduk."
      ],
      "execution_count": 0,
      "outputs": []
    },
    {
      "cell_type": "code",
      "metadata": {
        "id": "E87U-QfLOv0D",
        "colab_type": "code",
        "colab": {}
      },
      "source": [
        "lm = LinearRegression()"
      ],
      "execution_count": 0,
      "outputs": []
    },
    {
      "cell_type": "code",
      "metadata": {
        "id": "KzNyaxR2Ovxx",
        "colab_type": "code",
        "colab": {}
      },
      "source": [
        "RMSE = []"
      ],
      "execution_count": 0,
      "outputs": []
    },
    {
      "cell_type": "code",
      "metadata": {
        "id": "EeUyFZGwOvuY",
        "colab_type": "code",
        "colab": {}
      },
      "source": [
        "for i in np.arange(1,X_reduced_train.shape[1] +1):\n",
        "\n",
        "     score = np.sqrt(-1*model_selection.cross_val_score(lm,\n",
        "                                                        X_reduced_train[:,:i],\n",
        "                                                        y_train.ravel(),\n",
        "                                                        cv=cv_10,\n",
        "                                                        scoring = 'neg_mean_squared_error'))\n",
        "     RMSE.append(score)\n",
        "\n",
        "# Burada hangi bileşen sayısının daha az hata oluşturduğunu bulduk\n",
        "# sklearn pcr desteeği yok bu yüzden kendimiz yaptık.\n",
        "# diğer algoritmalarda GridCV fonksiyonuyla bu işi yapacağız. Burada fazla manuel     "
      ],
      "execution_count": 0,
      "outputs": []
    },
    {
      "cell_type": "code",
      "metadata": {
        "id": "XEF0MsshSm6M",
        "colab_type": "code",
        "colab": {}
      },
      "source": [
        "pcr_model = lm.fit(X_reduced_train[:,0:6],y_train) # 6 yapmamızın sebebi  rmse nin en az olduğu değerin 6 olmasıdır."
      ],
      "execution_count": 0,
      "outputs": []
    },
    {
      "cell_type": "code",
      "metadata": {
        "id": "jem91q3JWlZv",
        "colab_type": "code",
        "outputId": "149dcfc6-2f7f-46ac-8b15-ccb030ca0282",
        "colab": {
          "base_uri": "https://localhost:8080/",
          "height": 34
        }
      },
      "source": [
        "y_pred = pcr_model.predict(X_reduced_test[:,0:6])\n",
        "\n",
        "print(np.sqrt(mean_squared_error(y_test,y_pred))) # valide edilmiş test hatası"
      ],
      "execution_count": 210,
      "outputs": [
        {
          "output_type": "stream",
          "text": [
            "404.22726739194155\n"
          ],
          "name": "stdout"
        }
      ]
    },
    {
      "cell_type": "code",
      "metadata": {
        "id": "6oenEwKSsg_0",
        "colab_type": "code",
        "colab": {}
      },
      "source": [
        "# pcr değişkenleri açıklamak üzere kurulmmuş gösetimsi boyut indirgeme prosedürüdür.\n",
        "# sıradaki model olan pls ise bağımlı değişkeni göz önüne aldığından gözetimli boyut indirgeme prosedürüdür."
      ],
      "execution_count": 0,
      "outputs": []
    },
    {
      "cell_type": "markdown",
      "metadata": {
        "id": "lqc0vBbyXb2h",
        "colab_type": "text"
      },
      "source": [
        "# PLS- Model"
      ]
    },
    {
      "cell_type": "code",
      "metadata": {
        "id": "52RLFW-ZXB1e",
        "colab_type": "code",
        "colab": {}
      },
      "source": [
        "hit = pd.read_csv(\"Hitters.csv\")\n",
        "df = hit.copy()\n",
        "df = df.dropna()\n",
        "ms  = pd.get_dummies(df[[\"League\",\"Division\", \"NewLeague\"]])\n",
        "y = df[\"Salary\"]\n",
        "X_ = df.drop([\"Salary\",\"League\",\"Division\", \"NewLeague\"],axis = 1).astype('float64')\n",
        "X = pd.concat([X_,dms[[\"League_N\",\"Division_W\",\"NewLeague_N\"]]], axis = 1)\n",
        "X_train,X_test,y_train,y_test = train_test_split(X,y,test_size = 0.20,random_state = 42)"
      ],
      "execution_count": 0,
      "outputs": []
    },
    {
      "cell_type": "code",
      "metadata": {
        "id": "i1QliAzjaYg0",
        "colab_type": "code",
        "colab": {}
      },
      "source": [
        "from sklearn.cross_decomposition import PLSRegression, PLSSVD"
      ],
      "execution_count": 0,
      "outputs": []
    },
    {
      "cell_type": "code",
      "metadata": {
        "id": "Gx0dcM8KaYz_",
        "colab_type": "code",
        "colab": {}
      },
      "source": [
        "pls_model = PLSRegression(n_components=2).fit(X_train,y_train)"
      ],
      "execution_count": 0,
      "outputs": []
    },
    {
      "cell_type": "code",
      "metadata": {
        "id": "1iRRIpRgaYx7",
        "colab_type": "code",
        "outputId": "992a754b-a039-43c5-b790-4a6e450f5023",
        "colab": {
          "base_uri": "https://localhost:8080/",
          "height": 340
        }
      },
      "source": [
        "pls_model.coef_"
      ],
      "execution_count": 215,
      "outputs": [
        {
          "output_type": "execute_result",
          "data": {
            "text/plain": [
              "array([[ 35.55683711],\n",
              "       [ 49.88117076],\n",
              "       [ 19.9987271 ],\n",
              "       [ 39.61379254],\n",
              "       [ 35.29767479],\n",
              "       [ 37.72592797],\n",
              "       [ 15.58212111],\n",
              "       [ 28.32171536],\n",
              "       [ 34.05640027],\n",
              "       [ 28.12929112],\n",
              "       [ 33.67521263],\n",
              "       [ 35.00122884],\n",
              "       [ 21.13643183],\n",
              "       [ 55.31781867],\n",
              "       [  0.38865637],\n",
              "       [ -4.00571112],\n",
              "       [ 14.1049028 ],\n",
              "       [-42.39221599],\n",
              "       [ 11.27670698]])"
            ]
          },
          "metadata": {
            "tags": []
          },
          "execution_count": 215
        }
      ]
    },
    {
      "cell_type": "markdown",
      "metadata": {
        "id": "kGUn4WMTe_pF",
        "colab_type": "text"
      },
      "source": [
        "## Tahmin"
      ]
    },
    {
      "cell_type": "code",
      "metadata": {
        "id": "50L1MxM8aYvB",
        "colab_type": "code",
        "outputId": "e30825f8-e5b8-47a8-9858-582f6ca0a901",
        "colab": {
          "base_uri": "https://localhost:8080/",
          "height": 1000
        }
      },
      "source": [
        "pls_model.predict(X_train)"
      ],
      "execution_count": 216,
      "outputs": [
        {
          "output_type": "execute_result",
          "data": {
            "text/plain": [
              "array([[ 304.00228015],\n",
              "       [ 263.57693742],\n",
              "       [ 758.44187937],\n",
              "       [ 567.22736094],\n",
              "       [ 730.44640271],\n",
              "       [  62.79431907],\n",
              "       [1262.58951399],\n",
              "       [1366.31610395],\n",
              "       [ 582.41708824],\n",
              "       [ 778.42049866],\n",
              "       [ 425.7499588 ],\n",
              "       [ 578.32477449],\n",
              "       [ 159.27989545],\n",
              "       [ 337.73686956],\n",
              "       [ 810.24748806],\n",
              "       [ 705.64152785],\n",
              "       [ 181.90886748],\n",
              "       [ 426.97849563],\n",
              "       [ 996.35286972],\n",
              "       [ 111.86357799],\n",
              "       [ 279.87170895],\n",
              "       [ 654.48413221],\n",
              "       [ 798.67859548],\n",
              "       [1398.32998899],\n",
              "       [ 887.78114674],\n",
              "       [ 960.4579021 ],\n",
              "       [ 787.38993193],\n",
              "       [ 823.79290779],\n",
              "       [ 788.26661715],\n",
              "       [ 970.20458946],\n",
              "       [  -9.66802566],\n",
              "       [ -87.39049012],\n",
              "       [ 392.03313427],\n",
              "       [ 596.27408447],\n",
              "       [ 979.63816296],\n",
              "       [ 382.56184878],\n",
              "       [ 448.33679907],\n",
              "       [ -30.7567655 ],\n",
              "       [ 702.49408343],\n",
              "       [ 505.3290648 ],\n",
              "       [ 229.57376946],\n",
              "       [ 189.99182818],\n",
              "       [ 241.20272442],\n",
              "       [  52.84098901],\n",
              "       [ 536.8708285 ],\n",
              "       [ 960.5694742 ],\n",
              "       [ 193.03114006],\n",
              "       [ 335.94465843],\n",
              "       [ 307.30265951],\n",
              "       [ 441.70133916],\n",
              "       [ 775.70833654],\n",
              "       [ 294.45734663],\n",
              "       [ 118.77877578],\n",
              "       [ 106.0842488 ],\n",
              "       [ 199.06821391],\n",
              "       [ 151.22659303],\n",
              "       [ 118.65879765],\n",
              "       [ 214.30077769],\n",
              "       [1116.00380479],\n",
              "       [ 653.2179648 ],\n",
              "       [ 466.41805544],\n",
              "       [ 329.1214545 ],\n",
              "       [ 258.26733031],\n",
              "       [ 442.69042487],\n",
              "       [ 578.45274752],\n",
              "       [ 505.13033575],\n",
              "       [ 537.38866237],\n",
              "       [ 834.06499124],\n",
              "       [ 511.69826926],\n",
              "       [ 371.11240161],\n",
              "       [ 899.37713309],\n",
              "       [ 325.65661368],\n",
              "       [1218.11920909],\n",
              "       [ 448.66486765],\n",
              "       [ 386.33352298],\n",
              "       [ 347.7756905 ],\n",
              "       [ 404.6962961 ],\n",
              "       [ 286.14543845],\n",
              "       [ 764.52630113],\n",
              "       [  97.05474184],\n",
              "       [ 502.32860409],\n",
              "       [ 177.06480211],\n",
              "       [ 265.40132052],\n",
              "       [ 184.14383707],\n",
              "       [ 848.31683177],\n",
              "       [ 774.49153142],\n",
              "       [ 731.01134818],\n",
              "       [1217.99996913],\n",
              "       [ 392.82111713],\n",
              "       [ 532.78594444],\n",
              "       [ 536.12634471],\n",
              "       [ 364.91759007],\n",
              "       [ 844.96792708],\n",
              "       [ 672.17661097],\n",
              "       [ 558.97340252],\n",
              "       [ 627.73461069],\n",
              "       [ 580.82422021],\n",
              "       [ 152.09220724],\n",
              "       [ 762.49619429],\n",
              "       [ 639.7410217 ],\n",
              "       [ 925.95413606],\n",
              "       [1104.31228217],\n",
              "       [ 672.99418072],\n",
              "       [ 387.1978217 ],\n",
              "       [ 125.61612829],\n",
              "       [1139.37066012],\n",
              "       [ 181.74136545],\n",
              "       [ 447.45232568],\n",
              "       [1224.67719136],\n",
              "       [ 941.8741203 ],\n",
              "       [ 475.61220625],\n",
              "       [ 850.36260956],\n",
              "       [ 748.33611445],\n",
              "       [ 601.71886014],\n",
              "       [ 154.25612292],\n",
              "       [ 613.13428757],\n",
              "       [1264.15956655],\n",
              "       [ 618.80012543],\n",
              "       [ 966.67644919],\n",
              "       [ 759.78838433],\n",
              "       [ 307.17285525],\n",
              "       [  21.72017543],\n",
              "       [ 622.00137708],\n",
              "       [ 686.89958202],\n",
              "       [ 526.81368472],\n",
              "       [ 346.31758343],\n",
              "       [ 635.48441894],\n",
              "       [ 501.44147319],\n",
              "       [ 425.0402446 ],\n",
              "       [ 978.05961259],\n",
              "       [ 877.10845695],\n",
              "       [ 359.02913428],\n",
              "       [ 271.94887329],\n",
              "       [ 601.94283982],\n",
              "       [ 647.43973178],\n",
              "       [1230.81561927],\n",
              "       [ 258.51897832],\n",
              "       [  45.27953479],\n",
              "       [ 350.30921836],\n",
              "       [1261.86195278],\n",
              "       [ 113.14795582],\n",
              "       [ 121.1724627 ],\n",
              "       [ 482.19403074],\n",
              "       [ 703.24719218],\n",
              "       [ 953.30918589],\n",
              "       [1261.8653964 ],\n",
              "       [ 748.62754482],\n",
              "       [ 781.96208227],\n",
              "       [ 297.73528352],\n",
              "       [ 846.91801801],\n",
              "       [ 355.68219544],\n",
              "       [ 166.02353755],\n",
              "       [ 820.52762617],\n",
              "       [ 102.75919036],\n",
              "       [ 496.77320158],\n",
              "       [ 398.44067585],\n",
              "       [ 470.27642196],\n",
              "       [ 172.70029811],\n",
              "       [ 262.43191418],\n",
              "       [ 208.91521052],\n",
              "       [ 452.67528046],\n",
              "       [ 551.46792606],\n",
              "       [1416.97423506],\n",
              "       [ 342.84932455],\n",
              "       [  34.97819584],\n",
              "       [  47.92633296],\n",
              "       [ 144.86740681],\n",
              "       [ 824.30847555],\n",
              "       [ 210.11922139],\n",
              "       [1131.08489065],\n",
              "       [ 130.62854956],\n",
              "       [ 790.38594317],\n",
              "       [ 718.81178094],\n",
              "       [ 386.97012065],\n",
              "       [ 416.57337095],\n",
              "       [1039.88922901],\n",
              "       [  86.48205429],\n",
              "       [ 530.65365102],\n",
              "       [ 767.25155993],\n",
              "       [ 300.61288511],\n",
              "       [ 194.40195352],\n",
              "       [ 702.88978525],\n",
              "       [ 631.68929517],\n",
              "       [ 646.92035035],\n",
              "       [ 221.92782858],\n",
              "       [ 713.97906813],\n",
              "       [ 827.6007237 ],\n",
              "       [ 302.58740768],\n",
              "       [ 221.01226132],\n",
              "       [ 598.80319111],\n",
              "       [ 682.15517557],\n",
              "       [ 687.10701136],\n",
              "       [ 979.78754257],\n",
              "       [ 375.43029582],\n",
              "       [ 486.63105473],\n",
              "       [  74.25881274],\n",
              "       [ 520.05439065],\n",
              "       [ 489.1704008 ],\n",
              "       [ 697.42190321],\n",
              "       [ 702.95239249],\n",
              "       [ 581.40665058],\n",
              "       [ 241.86922984],\n",
              "       [ 381.50962808],\n",
              "       [ 245.15571118],\n",
              "       [ 732.92395521],\n",
              "       [1310.87718755],\n",
              "       [1107.06946495],\n",
              "       [ 524.76347783],\n",
              "       [ 579.51912881],\n",
              "       [ 204.16525797]])"
            ]
          },
          "metadata": {
            "tags": []
          },
          "execution_count": 216
        }
      ]
    },
    {
      "cell_type": "code",
      "metadata": {
        "id": "BIPKmCI_fG0Z",
        "colab_type": "code",
        "outputId": "9ef36714-25a3-4e3f-f138-90219450aedd",
        "colab": {
          "base_uri": "https://localhost:8080/",
          "height": 224
        }
      },
      "source": [
        "X_train.head()"
      ],
      "execution_count": 217,
      "outputs": [
        {
          "output_type": "execute_result",
          "data": {
            "text/html": [
              "<div>\n",
              "<style scoped>\n",
              "    .dataframe tbody tr th:only-of-type {\n",
              "        vertical-align: middle;\n",
              "    }\n",
              "\n",
              "    .dataframe tbody tr th {\n",
              "        vertical-align: top;\n",
              "    }\n",
              "\n",
              "    .dataframe thead th {\n",
              "        text-align: right;\n",
              "    }\n",
              "</style>\n",
              "<table border=\"1\" class=\"dataframe\">\n",
              "  <thead>\n",
              "    <tr style=\"text-align: right;\">\n",
              "      <th></th>\n",
              "      <th>AtBat</th>\n",
              "      <th>Hits</th>\n",
              "      <th>HmRun</th>\n",
              "      <th>Runs</th>\n",
              "      <th>RBI</th>\n",
              "      <th>Walks</th>\n",
              "      <th>Years</th>\n",
              "      <th>CAtBat</th>\n",
              "      <th>CHits</th>\n",
              "      <th>CHmRun</th>\n",
              "      <th>CRuns</th>\n",
              "      <th>CRBI</th>\n",
              "      <th>CWalks</th>\n",
              "      <th>PutOuts</th>\n",
              "      <th>Assists</th>\n",
              "      <th>Errors</th>\n",
              "      <th>League_N</th>\n",
              "      <th>Division_W</th>\n",
              "      <th>NewLeague_N</th>\n",
              "    </tr>\n",
              "  </thead>\n",
              "  <tbody>\n",
              "    <tr>\n",
              "      <th>226</th>\n",
              "      <td>547.0</td>\n",
              "      <td>137.0</td>\n",
              "      <td>2.0</td>\n",
              "      <td>58.0</td>\n",
              "      <td>47.0</td>\n",
              "      <td>12.0</td>\n",
              "      <td>2.0</td>\n",
              "      <td>1038.0</td>\n",
              "      <td>271.0</td>\n",
              "      <td>3.0</td>\n",
              "      <td>129.0</td>\n",
              "      <td>80.0</td>\n",
              "      <td>24.0</td>\n",
              "      <td>261.0</td>\n",
              "      <td>459.0</td>\n",
              "      <td>22.0</td>\n",
              "      <td>0</td>\n",
              "      <td>1</td>\n",
              "      <td>0</td>\n",
              "    </tr>\n",
              "    <tr>\n",
              "      <th>220</th>\n",
              "      <td>299.0</td>\n",
              "      <td>75.0</td>\n",
              "      <td>6.0</td>\n",
              "      <td>38.0</td>\n",
              "      <td>23.0</td>\n",
              "      <td>26.0</td>\n",
              "      <td>3.0</td>\n",
              "      <td>580.0</td>\n",
              "      <td>160.0</td>\n",
              "      <td>8.0</td>\n",
              "      <td>71.0</td>\n",
              "      <td>33.0</td>\n",
              "      <td>44.0</td>\n",
              "      <td>212.0</td>\n",
              "      <td>1.0</td>\n",
              "      <td>2.0</td>\n",
              "      <td>1</td>\n",
              "      <td>0</td>\n",
              "      <td>1</td>\n",
              "    </tr>\n",
              "    <tr>\n",
              "      <th>128</th>\n",
              "      <td>584.0</td>\n",
              "      <td>158.0</td>\n",
              "      <td>15.0</td>\n",
              "      <td>70.0</td>\n",
              "      <td>84.0</td>\n",
              "      <td>42.0</td>\n",
              "      <td>5.0</td>\n",
              "      <td>2358.0</td>\n",
              "      <td>636.0</td>\n",
              "      <td>58.0</td>\n",
              "      <td>265.0</td>\n",
              "      <td>316.0</td>\n",
              "      <td>134.0</td>\n",
              "      <td>331.0</td>\n",
              "      <td>20.0</td>\n",
              "      <td>4.0</td>\n",
              "      <td>1</td>\n",
              "      <td>0</td>\n",
              "      <td>1</td>\n",
              "    </tr>\n",
              "    <tr>\n",
              "      <th>222</th>\n",
              "      <td>381.0</td>\n",
              "      <td>110.0</td>\n",
              "      <td>9.0</td>\n",
              "      <td>61.0</td>\n",
              "      <td>45.0</td>\n",
              "      <td>32.0</td>\n",
              "      <td>7.0</td>\n",
              "      <td>3015.0</td>\n",
              "      <td>834.0</td>\n",
              "      <td>40.0</td>\n",
              "      <td>451.0</td>\n",
              "      <td>249.0</td>\n",
              "      <td>168.0</td>\n",
              "      <td>228.0</td>\n",
              "      <td>7.0</td>\n",
              "      <td>5.0</td>\n",
              "      <td>1</td>\n",
              "      <td>0</td>\n",
              "      <td>1</td>\n",
              "    </tr>\n",
              "    <tr>\n",
              "      <th>81</th>\n",
              "      <td>255.0</td>\n",
              "      <td>70.0</td>\n",
              "      <td>7.0</td>\n",
              "      <td>49.0</td>\n",
              "      <td>35.0</td>\n",
              "      <td>43.0</td>\n",
              "      <td>15.0</td>\n",
              "      <td>6311.0</td>\n",
              "      <td>1661.0</td>\n",
              "      <td>154.0</td>\n",
              "      <td>1019.0</td>\n",
              "      <td>608.0</td>\n",
              "      <td>820.0</td>\n",
              "      <td>51.0</td>\n",
              "      <td>54.0</td>\n",
              "      <td>8.0</td>\n",
              "      <td>1</td>\n",
              "      <td>0</td>\n",
              "      <td>1</td>\n",
              "    </tr>\n",
              "  </tbody>\n",
              "</table>\n",
              "</div>"
            ],
            "text/plain": [
              "     AtBat   Hits  HmRun  Runs  ...  Errors  League_N  Division_W  NewLeague_N\n",
              "226  547.0  137.0    2.0  58.0  ...    22.0         0           1            0\n",
              "220  299.0   75.0    6.0  38.0  ...     2.0         1           0            1\n",
              "128  584.0  158.0   15.0  70.0  ...     4.0         1           0            1\n",
              "222  381.0  110.0    9.0  61.0  ...     5.0         1           0            1\n",
              "81   255.0   70.0    7.0  49.0  ...     8.0         1           0            1\n",
              "\n",
              "[5 rows x 19 columns]"
            ]
          },
          "metadata": {
            "tags": []
          },
          "execution_count": 217
        }
      ]
    },
    {
      "cell_type": "code",
      "metadata": {
        "id": "_NjeB8TSfQOw",
        "colab_type": "code",
        "outputId": "638b6353-225e-4e7f-9ef8-faa5fa269420",
        "colab": {
          "base_uri": "https://localhost:8080/",
          "height": 187
        }
      },
      "source": [
        "pls_model.predict(X_train)[0:10]"
      ],
      "execution_count": 218,
      "outputs": [
        {
          "output_type": "execute_result",
          "data": {
            "text/plain": [
              "array([[ 304.00228015],\n",
              "       [ 263.57693742],\n",
              "       [ 758.44187937],\n",
              "       [ 567.22736094],\n",
              "       [ 730.44640271],\n",
              "       [  62.79431907],\n",
              "       [1262.58951399],\n",
              "       [1366.31610395],\n",
              "       [ 582.41708824],\n",
              "       [ 778.42049866]])"
            ]
          },
          "metadata": {
            "tags": []
          },
          "execution_count": 218
        }
      ]
    },
    {
      "cell_type": "code",
      "metadata": {
        "id": "MHsTjyk_fsNA",
        "colab_type": "code",
        "colab": {}
      },
      "source": [
        "y_pred = pls_model.predict(X_train)"
      ],
      "execution_count": 0,
      "outputs": []
    },
    {
      "cell_type": "code",
      "metadata": {
        "id": "gHqHIJTsf3Tb",
        "colab_type": "code",
        "outputId": "2bb55b97-f492-4490-a807-ae1906d4d054",
        "colab": {
          "base_uri": "https://localhost:8080/",
          "height": 34
        }
      },
      "source": [
        "np.sqrt(mean_squared_error(y_train, y_pred)) # eğitim hatası rmse"
      ],
      "execution_count": 220,
      "outputs": [
        {
          "output_type": "execute_result",
          "data": {
            "text/plain": [
              "315.2221554406519"
            ]
          },
          "metadata": {
            "tags": []
          },
          "execution_count": 220
        }
      ]
    },
    {
      "cell_type": "code",
      "metadata": {
        "id": "OEqLMR7eg0U4",
        "colab_type": "code",
        "outputId": "0d76d5eb-f119-40ca-a35b-2ca1002eabef",
        "colab": {
          "base_uri": "https://localhost:8080/",
          "height": 34
        }
      },
      "source": [
        "r2_score(y_train, y_pred) # tahminin gerçeğini açıklama oranı"
      ],
      "execution_count": 221,
      "outputs": [
        {
          "output_type": "execute_result",
          "data": {
            "text/plain": [
              "0.5221795681330406"
            ]
          },
          "metadata": {
            "tags": []
          },
          "execution_count": 221
        }
      ]
    },
    {
      "cell_type": "code",
      "metadata": {
        "id": "LgMHExCphqrH",
        "colab_type": "code",
        "colab": {}
      },
      "source": [
        "y_pred = pls_model.predict(X_test)"
      ],
      "execution_count": 0,
      "outputs": []
    },
    {
      "cell_type": "code",
      "metadata": {
        "id": "c-WRiQDriIaq",
        "colab_type": "code",
        "outputId": "9808afb9-5269-41c4-81fe-980adc9a9e38",
        "colab": {
          "base_uri": "https://localhost:8080/",
          "height": 34
        }
      },
      "source": [
        "np.sqrt(mean_squared_error(y_test, y_pred)) # test hatassı rmse"
      ],
      "execution_count": 223,
      "outputs": [
        {
          "output_type": "execute_result",
          "data": {
            "text/plain": [
              "398.7886768240249"
            ]
          },
          "metadata": {
            "tags": []
          },
          "execution_count": 223
        }
      ]
    },
    {
      "cell_type": "code",
      "metadata": {
        "id": "IHnVI2YRiY1y",
        "colab_type": "code",
        "colab": {}
      },
      "source": [
        "from sklearn import model_selection\n",
        "import matplotlib.pyplot as plt"
      ],
      "execution_count": 0,
      "outputs": []
    },
    {
      "cell_type": "markdown",
      "metadata": {
        "id": "XXdIAjVmiltQ",
        "colab_type": "text"
      },
      "source": [
        "## Model Tuning"
      ]
    },
    {
      "cell_type": "code",
      "metadata": {
        "id": "AdhZmMqgir46",
        "colab_type": "code",
        "outputId": "36cfda84-ea7d-4a66-af84-ec5c14f0a26f",
        "colab": {
          "base_uri": "https://localhost:8080/",
          "height": 296
        }
      },
      "source": [
        "from sklearn import model_selection\n",
        "import matplotlib.pyplot as plt\n",
        " \n",
        "\n",
        "\n",
        "cv_10 = model_selection.KFold(n_splits = 10,\n",
        "                              shuffle = True, \n",
        "                              random_state =1)\n",
        "\n",
        "lm = LinearRegression()\n",
        "\n",
        "RMSE = []\n",
        "\n",
        "for i in np.arange(1,X_reduced_train.shape[1] +1):\n",
        "     pls = PLSRegression(n_components=i)\n",
        "     score = np.sqrt(-1*model_selection.cross_val_score(lm,\n",
        "                                                        X_reduced_train[:,:i],\n",
        "                                                        y_train.ravel(),\n",
        "                                                        cv=cv_10,\n",
        "                                                        scoring = 'neg_mean_squared_error'))\n",
        "     RMSE.append(score)\n",
        "\n",
        "plt.plot(np.arange(1,X_reduced_train.shape[1] +1), np.array(RMSE), '-v',c = \"r\")\n",
        "plt.xlabel('Bileşen Sayisi')\n",
        "plt.ylabel('RMSE')\n",
        "plt.title(\"Maaş Tahmin Modeli İçin PCR Model Tunning\");\n",
        "# grafik hatalı salla\n",
        "     \n",
        "# grafikten en az rmse ye karşıık gelen bileşen sayısını seçmeliyiz. yaklaşık 2 olması gerekiyor."
      ],
      "execution_count": 225,
      "outputs": [
        {
          "output_type": "display_data",
          "data": {
            "image/png": "[encoded data removed]",
            "text/plain": [
              "<Figure size 432x288 with 1 Axes>"
            ]
          },
          "metadata": {
            "tags": [],
            "needs_background": "light"
          }
        }
      ]
    },
    {
      "cell_type": "code",
      "metadata": {
        "id": "DbXPSiSdl2_u",
        "colab_type": "code",
        "colab": {}
      },
      "source": [
        "pls_model = PLSRegression(n_components=2).fit(X_train,y_train) # final modeli"
      ],
      "execution_count": 0,
      "outputs": []
    },
    {
      "cell_type": "code",
      "metadata": {
        "id": "LqNR_mLpn11K",
        "colab_type": "code",
        "colab": {}
      },
      "source": [
        "# burdan test hatası eğitim hatası , r2 vs. şeyler hesaplanabilir."
      ],
      "execution_count": 0,
      "outputs": []
    },
    {
      "cell_type": "markdown",
      "metadata": {
        "id": "APXo-sx62OlH",
        "colab_type": "text"
      },
      "source": [
        "# Ridge Regresyon Model"
      ]
    },
    {
      "cell_type": "code",
      "metadata": {
        "id": "4tlchqB-2Ukq",
        "colab_type": "code",
        "colab": {}
      },
      "source": [
        "hit = pd.read_csv(\"Hitters.csv\")\n",
        "df = hit.copy()\n",
        "df = df.dropna()\n",
        "ms  = pd.get_dummies(df[[\"League\",\"Division\", \"NewLeague\"]])\n",
        "y = df[\"Salary\"]\n",
        "X_ = df.drop([\"Salary\",\"League\",\"Division\", \"NewLeague\"],axis = 1).astype('float64')\n",
        "X = pd.concat([X_,dms[[\"League_N\",\"Division_W\",\"NewLeague_N\"]]], axis = 1)\n",
        "X_train,X_test,y_train,y_test = train_test_split(X,y,test_size = 0.20,random_state = 42)"
      ],
      "execution_count": 0,
      "outputs": []
    },
    {
      "cell_type": "code",
      "metadata": {
        "id": "gb6atGSG2rBx",
        "colab_type": "code",
        "colab": {}
      },
      "source": [
        "from sklearn.linear_model import Ridge"
      ],
      "execution_count": 0,
      "outputs": []
    },
    {
      "cell_type": "code",
      "metadata": {
        "id": "5AtpjYzp2xjw",
        "colab_type": "code",
        "outputId": "a28e9815-deed-4c89-f0e6-76cd55fb5492",
        "colab": {
          "base_uri": "https://localhost:8080/",
          "height": 51
        }
      },
      "source": [
        "ridge_model = Ridge(alpha = 0.1).fit(X_train,y_train)\n",
        "ridge_model\n",
        "\n",
        "# burada alpha parametresi lambdayı ifade ediyor."
      ],
      "execution_count": 230,
      "outputs": [
        {
          "output_type": "execute_result",
          "data": {
            "text/plain": [
              "Ridge(alpha=0.1, copy_X=True, fit_intercept=True, max_iter=None,\n",
              "      normalize=False, random_state=None, solver='auto', tol=0.001)"
            ]
          },
          "metadata": {
            "tags": []
          },
          "execution_count": 230
        }
      ]
    },
    {
      "cell_type": "code",
      "metadata": {
        "id": "0K25sByO2_7H",
        "colab_type": "code",
        "outputId": "4ad983ea-c87a-4218-cf76-e631a097b33e",
        "colab": {
          "base_uri": "https://localhost:8080/",
          "height": 102
        }
      },
      "source": [
        "ridge_model.coef_"
      ],
      "execution_count": 231,
      "outputs": [
        {
          "output_type": "execute_result",
          "data": {
            "text/plain": [
              "array([-1.47971291e+00,  7.42480150e+00,  4.78254119e+00, -2.85482179e+00,\n",
              "       -1.44072298e+00,  5.55296246e+00,  8.04637196e+00, -2.30117250e-01,\n",
              "        1.07797047e-01, -4.72336604e-01,  1.68775333e+00,  9.42540405e-01,\n",
              "       -8.20270639e-01,  2.47961735e-01,  2.25838687e-01, -6.48471398e-01,\n",
              "        1.06725456e+02, -1.13602563e+02, -6.25772773e+01])"
            ]
          },
          "metadata": {
            "tags": []
          },
          "execution_count": 231
        }
      ]
    },
    {
      "cell_type": "code",
      "metadata": {
        "id": "9E-q-JpT3b3M",
        "colab_type": "code",
        "outputId": "dcdf118c-4e01-43b3-ddfc-91c3a975ed58",
        "colab": {
          "base_uri": "https://localhost:8080/",
          "height": 300
        }
      },
      "source": [
        "lambdalar = 10**np.linspace(10,-2,100)*0.5 # çeşitli lambdalar\n",
        "\n",
        "ridge_model = Ridge()\n",
        "katsayilar =[]\n",
        "\n",
        "for i in lambdalar:\n",
        "  ridge_model.set_params(alpha = i) # her bir lambda değerini parametre olarak atıyorum\n",
        "  ridge_model.fit(X_train,y_train) # modeli aktive ediyorum\n",
        "  katsayilar.append(ridge_model.coef_) #bunu modelimin katsayısı olarak atıyorum.\n",
        "# böylece lamda değerlerine göre değişen katsayıları incelemiş olacağım.\n",
        "\n",
        "\n",
        "# çeşitli yapısal ayarlammalar grafiK için\n",
        "ax = plt.gca() \n",
        "ax.plot(lambdalar, katsayilar)\n",
        "ax.set_xscale('log')\n",
        "\n",
        "plt.xlabel('Lambda(Alpha) Değerleri')\n",
        "plt.ylabel(\"Katsayilar/Ağırlıklar\")\n",
        "plt.title('Düzenleştirmenin Bir fonksiyonu olarak Ridge katsayıları');\n",
        "\n",
        "# kat sayıları modelde tutup 0 a yaklaştırır."
      ],
      "execution_count": 234,
      "outputs": [
        {
          "output_type": "display_data",
          "data": {
            "image/png": "[encoded data removed]",
            "text/plain": [
              "<Figure size 432x288 with 1 Axes>"
            ]
          },
          "metadata": {
            "tags": [],
            "needs_background": "light"
          }
        }
      ]
    },
    {
      "cell_type": "markdown",
      "metadata": {
        "id": "r2ztZ3DG6kjf",
        "colab_type": "text"
      },
      "source": [
        "## Tahmin"
      ]
    },
    {
      "cell_type": "code",
      "metadata": {
        "id": "Z-7cMXSH4vxo",
        "colab_type": "code",
        "colab": {}
      },
      "source": [
        "y_pred = ridge_model.predict(X_test)"
      ],
      "execution_count": 0,
      "outputs": []
    },
    {
      "cell_type": "code",
      "metadata": {
        "id": "tHqkKpuL6wge",
        "colab_type": "code",
        "outputId": "bd090b2b-a234-4ebb-a03c-e613af11473b",
        "colab": {
          "base_uri": "https://localhost:8080/",
          "height": 34
        }
      },
      "source": [
        "np.sqrt(mean_squared_error(y_test,y_pred))"
      ],
      "execution_count": 238,
      "outputs": [
        {
          "output_type": "execute_result",
          "data": {
            "text/plain": [
              "358.1650491991773"
            ]
          },
          "metadata": {
            "tags": []
          },
          "execution_count": 238
        }
      ]
    },
    {
      "cell_type": "markdown",
      "metadata": {
        "id": "n9Qx80XS7KwM",
        "colab_type": "text"
      },
      "source": [
        "## Model Tuning"
      ]
    },
    {
      "cell_type": "code",
      "metadata": {
        "id": "8_YHel5M6xa3",
        "colab_type": "code",
        "colab": {}
      },
      "source": [
        "# optimum labda değerini tespit edeceğiz."
      ],
      "execution_count": 0,
      "outputs": []
    },
    {
      "cell_type": "code",
      "metadata": {
        "id": "RkNKgt5_6xYb",
        "colab_type": "code",
        "outputId": "e7a11ebc-4883-47ff-c85b-e6f9439cb1bb",
        "colab": {
          "base_uri": "https://localhost:8080/",
          "height": 442
        }
      },
      "source": [
        "lambdalar = 10**np.linspace(10,-2,100)*0.5 # çeşitli lambdalar\n",
        "lambdalar"
      ],
      "execution_count": 240,
      "outputs": [
        {
          "output_type": "execute_result",
          "data": {
            "text/plain": [
              "array([5.00000000e+09, 3.78231664e+09, 2.86118383e+09, 2.16438064e+09,\n",
              "       1.63727458e+09, 1.23853818e+09, 9.36908711e+08, 7.08737081e+08,\n",
              "       5.36133611e+08, 4.05565415e+08, 3.06795364e+08, 2.32079442e+08,\n",
              "       1.75559587e+08, 1.32804389e+08, 1.00461650e+08, 7.59955541e+07,\n",
              "       5.74878498e+07, 4.34874501e+07, 3.28966612e+07, 2.48851178e+07,\n",
              "       1.88246790e+07, 1.42401793e+07, 1.07721735e+07, 8.14875417e+06,\n",
              "       6.16423370e+06, 4.66301673e+06, 3.52740116e+06, 2.66834962e+06,\n",
              "       2.01850863e+06, 1.52692775e+06, 1.15506485e+06, 8.73764200e+05,\n",
              "       6.60970574e+05, 5.00000000e+05, 3.78231664e+05, 2.86118383e+05,\n",
              "       2.16438064e+05, 1.63727458e+05, 1.23853818e+05, 9.36908711e+04,\n",
              "       7.08737081e+04, 5.36133611e+04, 4.05565415e+04, 3.06795364e+04,\n",
              "       2.32079442e+04, 1.75559587e+04, 1.32804389e+04, 1.00461650e+04,\n",
              "       7.59955541e+03, 5.74878498e+03, 4.34874501e+03, 3.28966612e+03,\n",
              "       2.48851178e+03, 1.88246790e+03, 1.42401793e+03, 1.07721735e+03,\n",
              "       8.14875417e+02, 6.16423370e+02, 4.66301673e+02, 3.52740116e+02,\n",
              "       2.66834962e+02, 2.01850863e+02, 1.52692775e+02, 1.15506485e+02,\n",
              "       8.73764200e+01, 6.60970574e+01, 5.00000000e+01, 3.78231664e+01,\n",
              "       2.86118383e+01, 2.16438064e+01, 1.63727458e+01, 1.23853818e+01,\n",
              "       9.36908711e+00, 7.08737081e+00, 5.36133611e+00, 4.05565415e+00,\n",
              "       3.06795364e+00, 2.32079442e+00, 1.75559587e+00, 1.32804389e+00,\n",
              "       1.00461650e+00, 7.59955541e-01, 5.74878498e-01, 4.34874501e-01,\n",
              "       3.28966612e-01, 2.48851178e-01, 1.88246790e-01, 1.42401793e-01,\n",
              "       1.07721735e-01, 8.14875417e-02, 6.16423370e-02, 4.66301673e-02,\n",
              "       3.52740116e-02, 2.66834962e-02, 2.01850863e-02, 1.52692775e-02,\n",
              "       1.15506485e-02, 8.73764200e-03, 6.60970574e-03, 5.00000000e-03])"
            ]
          },
          "metadata": {
            "tags": []
          },
          "execution_count": 240
        }
      ]
    },
    {
      "cell_type": "code",
      "metadata": {
        "id": "9-NWq0QR6xVy",
        "colab_type": "code",
        "colab": {}
      },
      "source": [
        "from sklearn.linear_model import RidgeCV\n",
        "ridge_cv = RidgeCV(alphas = lambdalar, scoring = \"neg_mean_squared_error\", normalize= True)"
      ],
      "execution_count": 0,
      "outputs": []
    },
    {
      "cell_type": "code",
      "metadata": {
        "id": "a9ATw0tO70xj",
        "colab_type": "code",
        "outputId": "45e9b92d-a9d8-44df-a81a-55f6ec5cb4d4",
        "colab": {
          "base_uri": "https://localhost:8080/",
          "height": 221
        }
      },
      "source": [
        "ridge_cv.fit(X_train, y_train)"
      ],
      "execution_count": 243,
      "outputs": [
        {
          "output_type": "execute_result",
          "data": {
            "text/plain": [
              "RidgeCV(alphas=array([5.00000000e+09, 3.78231664e+09, 2.86118383e+09, 2.16438064e+09,\n",
              "       1.63727458e+09, 1.23853818e+09, 9.36908711e+08, 7.08737081e+08,\n",
              "       5.36133611e+08, 4.05565415e+08, 3.06795364e+08, 2.32079442e+08,\n",
              "       1.75559587e+08, 1.32804389e+08, 1.00461650e+08, 7.59955541e+07,\n",
              "       5.74878498e+07, 4.34874501e+07, 3.28966612e+07, 2.48851178e+07,\n",
              "       1.88246790e+07, 1.42401793e+0...\n",
              "       3.28966612e-01, 2.48851178e-01, 1.88246790e-01, 1.42401793e-01,\n",
              "       1.07721735e-01, 8.14875417e-02, 6.16423370e-02, 4.66301673e-02,\n",
              "       3.52740116e-02, 2.66834962e-02, 2.01850863e-02, 1.52692775e-02,\n",
              "       1.15506485e-02, 8.73764200e-03, 6.60970574e-03, 5.00000000e-03]),\n",
              "        cv=None, fit_intercept=True, gcv_mode=None, normalize=True,\n",
              "        scoring='neg_mean_squared_error', store_cv_values=False)"
            ]
          },
          "metadata": {
            "tags": []
          },
          "execution_count": 243
        }
      ]
    },
    {
      "cell_type": "code",
      "metadata": {
        "id": "DgEW03CL8Jkt",
        "colab_type": "code",
        "outputId": "24e1053a-6da3-4da0-be48-c27c66ee53c3",
        "colab": {
          "base_uri": "https://localhost:8080/",
          "height": 34
        }
      },
      "source": [
        "ridge_cv.alpha_ # optimum lambda değeri"
      ],
      "execution_count": 244,
      "outputs": [
        {
          "output_type": "execute_result",
          "data": {
            "text/plain": [
              "0.5748784976988678"
            ]
          },
          "metadata": {
            "tags": []
          },
          "execution_count": 244
        }
      ]
    },
    {
      "cell_type": "code",
      "metadata": {
        "id": "uV5J7c0G8X7I",
        "colab_type": "code",
        "colab": {}
      },
      "source": [
        "ridge_tuned = Ridge(alpha = ridge_cv.alpha_,normalize=True).fit(X_train,y_train) #optimum alfa değerini alfaya atadım ve final modelini oluşturdum."
      ],
      "execution_count": 0,
      "outputs": []
    },
    {
      "cell_type": "code",
      "metadata": {
        "id": "P_wTJ-Sr88DB",
        "colab_type": "code",
        "outputId": "0d0c1494-94f9-4b69-aadc-9e8c92ceedd5",
        "colab": {
          "base_uri": "https://localhost:8080/",
          "height": 34
        }
      },
      "source": [
        "np.sqrt(mean_squared_error(y_train,ridge_tuned.predict(X_train)))"
      ],
      "execution_count": 249,
      "outputs": [
        {
          "output_type": "execute_result",
          "data": {
            "text/plain": [
              "313.1300474192621"
            ]
          },
          "metadata": {
            "tags": []
          },
          "execution_count": 249
        }
      ]
    },
    {
      "cell_type": "markdown",
      "metadata": {
        "id": "P0-5HPOcwDxi",
        "colab_type": "text"
      },
      "source": [
        "# Lasso Regresyon - Model"
      ]
    },
    {
      "cell_type": "code",
      "metadata": {
        "id": "02LbbGAx9vfr",
        "colab_type": "code",
        "colab": {}
      },
      "source": [
        "# ridge den farkı:  katsayıları 0'a yaklaştırmak yerine ceza uygulayarak 0 yapar.\n",
        "# değişken seçimi yapar.\n",
        "\n",
        "import pandas as pd\n",
        "from sklearn.model_selection import train_test_split, cross_val_score, cross_val_predict\n",
        "from sklearn.linear_model import  LinearRegression\n",
        "from sklearn.metrics import mean_squared_error, r2_score\n",
        "import numpy as np\n",
        "\n",
        "\n",
        "\n",
        "\n",
        "hit = pd.read_csv(\"Hitters.csv\")\n",
        "df = hit.copy()\n",
        "df = df.dropna()\n",
        "ms  = pd.get_dummies(df[[\"League\",\"Division\", \"NewLeague\"]])\n",
        "y = df[\"Salary\"]\n",
        "X_ = df.drop([\"Salary\",\"League\",\"Division\", \"NewLeague\"],axis = 1).astype('float64')\n",
        "X = pd.concat([X_,dms[[\"League_N\",\"Division_W\",\"NewLeague_N\"]]], axis = 1)\n",
        "X_train,X_test,y_train,y_test = train_test_split(X,y,test_size = 0.20,random_state = 42)"
      ],
      "execution_count": 0,
      "outputs": []
    },
    {
      "cell_type": "code",
      "metadata": {
        "id": "NlKuujQKxMrL",
        "colab_type": "code",
        "colab": {}
      },
      "source": [
        "from sklearn.linear_model import Lasso"
      ],
      "execution_count": 0,
      "outputs": []
    },
    {
      "cell_type": "code",
      "metadata": {
        "id": "I23PwT8lzwD1",
        "colab_type": "code",
        "outputId": "8b60ac2d-86cf-4642-e858-fa7244f8c474",
        "colab": {
          "base_uri": "https://localhost:8080/",
          "height": 71
        }
      },
      "source": [
        "lasso_model = Lasso(alpha = 0.1).fit(X_train, y_train)"
      ],
      "execution_count": 252,
      "outputs": [
        {
          "output_type": "stream",
          "text": [
            "/usr/local/lib/python3.6/dist-packages/sklearn/linear_model/_coordinate_descent.py:476: ConvergenceWarning: Objective did not converge. You might want to increase the number of iterations. Duality gap: 8944804.340318851, tolerance: 4367.048819449929\n",
            "  positive)\n"
          ],
          "name": "stderr"
        }
      ]
    },
    {
      "cell_type": "code",
      "metadata": {
        "id": "pLQm65_Tz5sn",
        "colab_type": "code",
        "outputId": "17f4b0a6-0df9-41b2-9282-f43c614d9179",
        "colab": {
          "base_uri": "https://localhost:8080/",
          "height": 68
        }
      },
      "source": [
        "lasso_model"
      ],
      "execution_count": 253,
      "outputs": [
        {
          "output_type": "execute_result",
          "data": {
            "text/plain": [
              "Lasso(alpha=0.1, copy_X=True, fit_intercept=True, max_iter=1000,\n",
              "      normalize=False, positive=False, precompute=False, random_state=None,\n",
              "      selection='cyclic', tol=0.0001, warm_start=False)"
            ]
          },
          "metadata": {
            "tags": []
          },
          "execution_count": 253
        }
      ]
    },
    {
      "cell_type": "code",
      "metadata": {
        "id": "-7jGIwlQ3_sr",
        "colab_type": "code",
        "outputId": "e059a6f2-8af0-4483-bd65-bc28584ad848",
        "colab": {
          "base_uri": "https://localhost:8080/",
          "height": 102
        }
      },
      "source": [
        "lasso_model.coef_"
      ],
      "execution_count": 254,
      "outputs": [
        {
          "output_type": "execute_result",
          "data": {
            "text/plain": [
              "array([  -1.43673183,    7.22922383,    4.52070259,   -2.69258341,\n",
              "         -1.39179202,    5.49466544,    9.11216761,   -0.25552181,\n",
              "          0.22651097,   -0.28773139,    1.62410937,    0.87535174,\n",
              "         -0.79567609,    0.24668051,    0.23241433,   -0.64850633,\n",
              "        106.83448227, -113.53593674,  -62.04160175])"
            ]
          },
          "metadata": {
            "tags": []
          },
          "execution_count": 254
        }
      ]
    },
    {
      "cell_type": "code",
      "metadata": {
        "id": "Zw2B5srj4EdQ",
        "colab_type": "code",
        "outputId": "adb1af83-1ee2-420a-9306-5830557ad426",
        "colab": {
          "base_uri": "https://localhost:8080/",
          "height": 1000
        }
      },
      "source": [
        "import matplotlib.pyplot as plt\n",
        "\n",
        "lasso = Lasso()\n",
        "lambdalar = 10**np.linspace(10,-2,100)*0.5 # çeşitli lambdalar\n",
        "katsayilar =[]\n",
        "\n",
        "\n",
        "\n",
        "for i in lambdalar:\n",
        "  lasso.set_params(alpha = i) # her bir lambda değerini parametre olarak atıyorum\n",
        "  lasso.fit(X_train,y_train) # modeli aktive ediyorum\n",
        "  katsayilar.append(lasso.coef_) #bunu modelimin katsayısı olarak atıyorum.\n",
        "# böylece lamda değerlerine göre değişen katsayıları incelemiş olacağım.\n",
        "\n",
        "\n",
        "# çeşitli yapısal ayarlammalar grafik için\n",
        "ax = plt.gca() \n",
        "ax.plot(lambdalar*2, katsayilar)\n",
        "ax.set_xscale('log')\n",
        "plt.axis(\"tight\")\n",
        "plt.xlabel('alpha')\n",
        "plt.ylabel(\"weights\")\n"
      ],
      "execution_count": 255,
      "outputs": [
        {
          "output_type": "stream",
          "text": [
            "/usr/local/lib/python3.6/dist-packages/sklearn/linear_model/_coordinate_descent.py:476: ConvergenceWarning: Objective did not converge. You might want to increase the number of iterations. Duality gap: 4919.423502884805, tolerance: 4367.048819449929\n",
            "  positive)\n",
            "/usr/local/lib/python3.6/dist-packages/sklearn/linear_model/_coordinate_descent.py:476: ConvergenceWarning: Objective did not converge. You might want to increase the number of iterations. Duality gap: 6129.448890905827, tolerance: 4367.048819449929\n",
            "  positive)\n",
            "/usr/local/lib/python3.6/dist-packages/sklearn/linear_model/_coordinate_descent.py:476: ConvergenceWarning: Objective did not converge. You might want to increase the number of iterations. Duality gap: 13784.118313878775, tolerance: 4367.048819449929\n",
            "  positive)\n",
            "/usr/local/lib/python3.6/dist-packages/sklearn/linear_model/_coordinate_descent.py:476: ConvergenceWarning: Objective did not converge. You might want to increase the number of iterations. Duality gap: 49430.542932290584, tolerance: 4367.048819449929\n",
            "  positive)\n",
            "/usr/local/lib/python3.6/dist-packages/sklearn/linear_model/_coordinate_descent.py:476: ConvergenceWarning: Objective did not converge. You might want to increase the number of iterations. Duality gap: 16605.44983331114, tolerance: 4367.048819449929\n",
            "  positive)\n",
            "/usr/local/lib/python3.6/dist-packages/sklearn/linear_model/_coordinate_descent.py:476: ConvergenceWarning: Objective did not converge. You might want to increase the number of iterations. Duality gap: 4578.286984778941, tolerance: 4367.048819449929\n",
            "  positive)\n",
            "/usr/local/lib/python3.6/dist-packages/sklearn/linear_model/_coordinate_descent.py:476: ConvergenceWarning: Objective did not converge. You might want to increase the number of iterations. Duality gap: 6548.946227423847, tolerance: 4367.048819449929\n",
            "  positive)\n",
            "/usr/local/lib/python3.6/dist-packages/sklearn/linear_model/_coordinate_descent.py:476: ConvergenceWarning: Objective did not converge. You might want to increase the number of iterations. Duality gap: 25583.251228984445, tolerance: 4367.048819449929\n",
            "  positive)\n",
            "/usr/local/lib/python3.6/dist-packages/sklearn/linear_model/_coordinate_descent.py:476: ConvergenceWarning: Objective did not converge. You might want to increase the number of iterations. Duality gap: 3334321.4463047143, tolerance: 4367.048819449929\n",
            "  positive)\n",
            "/usr/local/lib/python3.6/dist-packages/sklearn/linear_model/_coordinate_descent.py:476: ConvergenceWarning: Objective did not converge. You might want to increase the number of iterations. Duality gap: 5952839.641877912, tolerance: 4367.048819449929\n",
            "  positive)\n",
            "/usr/local/lib/python3.6/dist-packages/sklearn/linear_model/_coordinate_descent.py:476: ConvergenceWarning: Objective did not converge. You might want to increase the number of iterations. Duality gap: 7003598.635115289, tolerance: 4367.048819449929\n",
            "  positive)\n",
            "/usr/local/lib/python3.6/dist-packages/sklearn/linear_model/_coordinate_descent.py:476: ConvergenceWarning: Objective did not converge. You might want to increase the number of iterations. Duality gap: 8140967.260670076, tolerance: 4367.048819449929\n",
            "  positive)\n",
            "/usr/local/lib/python3.6/dist-packages/sklearn/linear_model/_coordinate_descent.py:476: ConvergenceWarning: Objective did not converge. You might want to increase the number of iterations. Duality gap: 8433945.327189304, tolerance: 4367.048819449929\n",
            "  positive)\n",
            "/usr/local/lib/python3.6/dist-packages/sklearn/linear_model/_coordinate_descent.py:476: ConvergenceWarning: Objective did not converge. You might want to increase the number of iterations. Duality gap: 8655090.412090186, tolerance: 4367.048819449929\n",
            "  positive)\n",
            "/usr/local/lib/python3.6/dist-packages/sklearn/linear_model/_coordinate_descent.py:476: ConvergenceWarning: Objective did not converge. You might want to increase the number of iterations. Duality gap: 8772568.568565924, tolerance: 4367.048819449929\n",
            "  positive)\n",
            "/usr/local/lib/python3.6/dist-packages/sklearn/linear_model/_coordinate_descent.py:476: ConvergenceWarning: Objective did not converge. You might want to increase the number of iterations. Duality gap: 8842566.57000608, tolerance: 4367.048819449929\n",
            "  positive)\n",
            "/usr/local/lib/python3.6/dist-packages/sklearn/linear_model/_coordinate_descent.py:476: ConvergenceWarning: Objective did not converge. You might want to increase the number of iterations. Duality gap: 8885593.159959512, tolerance: 4367.048819449929\n",
            "  positive)\n",
            "/usr/local/lib/python3.6/dist-packages/sklearn/linear_model/_coordinate_descent.py:476: ConvergenceWarning: Objective did not converge. You might want to increase the number of iterations. Duality gap: 8912765.416207531, tolerance: 4367.048819449929\n",
            "  positive)\n",
            "/usr/local/lib/python3.6/dist-packages/sklearn/linear_model/_coordinate_descent.py:476: ConvergenceWarning: Objective did not converge. You might want to increase the number of iterations. Duality gap: 8930520.471725427, tolerance: 4367.048819449929\n",
            "  positive)\n",
            "/usr/local/lib/python3.6/dist-packages/sklearn/linear_model/_coordinate_descent.py:476: ConvergenceWarning: Objective did not converge. You might want to increase the number of iterations. Duality gap: 8941727.799660295, tolerance: 4367.048819449929\n",
            "  positive)\n",
            "/usr/local/lib/python3.6/dist-packages/sklearn/linear_model/_coordinate_descent.py:476: ConvergenceWarning: Objective did not converge. You might want to increase the number of iterations. Duality gap: 8946310.70116179, tolerance: 4367.048819449929\n",
            "  positive)\n",
            "/usr/local/lib/python3.6/dist-packages/sklearn/linear_model/_coordinate_descent.py:476: ConvergenceWarning: Objective did not converge. You might want to increase the number of iterations. Duality gap: 8948024.149944777, tolerance: 4367.048819449929\n",
            "  positive)\n",
            "/usr/local/lib/python3.6/dist-packages/sklearn/linear_model/_coordinate_descent.py:476: ConvergenceWarning: Objective did not converge. You might want to increase the number of iterations. Duality gap: 8948315.698679628, tolerance: 4367.048819449929\n",
            "  positive)\n",
            "/usr/local/lib/python3.6/dist-packages/sklearn/linear_model/_coordinate_descent.py:476: ConvergenceWarning: Objective did not converge. You might want to increase the number of iterations. Duality gap: 8947963.355058592, tolerance: 4367.048819449929\n",
            "  positive)\n",
            "/usr/local/lib/python3.6/dist-packages/sklearn/linear_model/_coordinate_descent.py:476: ConvergenceWarning: Objective did not converge. You might want to increase the number of iterations. Duality gap: 8947368.789248016, tolerance: 4367.048819449929\n",
            "  positive)\n",
            "/usr/local/lib/python3.6/dist-packages/sklearn/linear_model/_coordinate_descent.py:476: ConvergenceWarning: Objective did not converge. You might want to increase the number of iterations. Duality gap: 8946731.803933391, tolerance: 4367.048819449929\n",
            "  positive)\n",
            "/usr/local/lib/python3.6/dist-packages/sklearn/linear_model/_coordinate_descent.py:476: ConvergenceWarning: Objective did not converge. You might want to increase the number of iterations. Duality gap: 8946142.86278039, tolerance: 4367.048819449929\n",
            "  positive)\n",
            "/usr/local/lib/python3.6/dist-packages/sklearn/linear_model/_coordinate_descent.py:476: ConvergenceWarning: Objective did not converge. You might want to increase the number of iterations. Duality gap: 8945636.216845613, tolerance: 4367.048819449929\n",
            "  positive)\n",
            "/usr/local/lib/python3.6/dist-packages/sklearn/linear_model/_coordinate_descent.py:476: ConvergenceWarning: Objective did not converge. You might want to increase the number of iterations. Duality gap: 8945217.97094484, tolerance: 4367.048819449929\n",
            "  positive)\n",
            "/usr/local/lib/python3.6/dist-packages/sklearn/linear_model/_coordinate_descent.py:476: ConvergenceWarning: Objective did not converge. You might want to increase the number of iterations. Duality gap: 8944881.584140124, tolerance: 4367.048819449929\n",
            "  positive)\n",
            "/usr/local/lib/python3.6/dist-packages/sklearn/linear_model/_coordinate_descent.py:476: ConvergenceWarning: Objective did not converge. You might want to increase the number of iterations. Duality gap: 8944615.68023401, tolerance: 4367.048819449929\n",
            "  positive)\n",
            "/usr/local/lib/python3.6/dist-packages/sklearn/linear_model/_coordinate_descent.py:476: ConvergenceWarning: Objective did not converge. You might want to increase the number of iterations. Duality gap: 8944407.995233051, tolerance: 4367.048819449929\n",
            "  positive)\n",
            "/usr/local/lib/python3.6/dist-packages/sklearn/linear_model/_coordinate_descent.py:476: ConvergenceWarning: Objective did not converge. You might want to increase the number of iterations. Duality gap: 8944247.148026716, tolerance: 4367.048819449929\n",
            "  positive)\n",
            "/usr/local/lib/python3.6/dist-packages/sklearn/linear_model/_coordinate_descent.py:476: ConvergenceWarning: Objective did not converge. You might want to increase the number of iterations. Duality gap: 8944123.332749505, tolerance: 4367.048819449929\n",
            "  positive)\n",
            "/usr/local/lib/python3.6/dist-packages/sklearn/linear_model/_coordinate_descent.py:476: ConvergenceWarning: Objective did not converge. You might want to increase the number of iterations. Duality gap: 8944028.445000999, tolerance: 4367.048819449929\n",
            "  positive)\n",
            "/usr/local/lib/python3.6/dist-packages/sklearn/linear_model/_coordinate_descent.py:476: ConvergenceWarning: Objective did not converge. You might want to increase the number of iterations. Duality gap: 8943955.967066122, tolerance: 4367.048819449929\n",
            "  positive)\n",
            "/usr/local/lib/python3.6/dist-packages/sklearn/linear_model/_coordinate_descent.py:476: ConvergenceWarning: Objective did not converge. You might want to increase the number of iterations. Duality gap: 8943900.738444803, tolerance: 4367.048819449929\n",
            "  positive)\n",
            "/usr/local/lib/python3.6/dist-packages/sklearn/linear_model/_coordinate_descent.py:476: ConvergenceWarning: Objective did not converge. You might want to increase the number of iterations. Duality gap: 8943858.730371919, tolerance: 4367.048819449929\n",
            "  positive)\n",
            "/usr/local/lib/python3.6/dist-packages/sklearn/linear_model/_coordinate_descent.py:476: ConvergenceWarning: Objective did not converge. You might want to increase the number of iterations. Duality gap: 8943826.821535345, tolerance: 4367.048819449929\n",
            "  positive)\n",
            "/usr/local/lib/python3.6/dist-packages/sklearn/linear_model/_coordinate_descent.py:476: ConvergenceWarning: Objective did not converge. You might want to increase the number of iterations. Duality gap: 8943802.608553162, tolerance: 4367.048819449929\n",
            "  positive)\n",
            "/usr/local/lib/python3.6/dist-packages/sklearn/linear_model/_coordinate_descent.py:476: ConvergenceWarning: Objective did not converge. You might want to increase the number of iterations. Duality gap: 8943784.249335168, tolerance: 4367.048819449929\n",
            "  positive)\n"
          ],
          "name": "stderr"
        },
        {
          "output_type": "execute_result",
          "data": {
            "text/plain": [
              "Text(0, 0.5, 'weights')"
            ]
          },
          "metadata": {
            "tags": []
          },
          "execution_count": 255
        },
        {
          "output_type": "display_data",
          "data": {
            "image/png": "[encoded data removed]",
            "text/plain": [
              "<Figure size 432x288 with 1 Axes>"
            ]
          },
          "metadata": {
            "tags": [],
            "needs_background": "light"
          }
        }
      ]
    },
    {
      "cell_type": "markdown",
      "metadata": {
        "id": "Hq0w2ckB7MX2",
        "colab_type": "text"
      },
      "source": [
        "## Tahmin"
      ]
    },
    {
      "cell_type": "code",
      "metadata": {
        "id": "VYQft4h27Pa2",
        "colab_type": "code",
        "outputId": "65c8f6f3-c8bd-44f9-a656-6d188655d5b1",
        "colab": {
          "base_uri": "https://localhost:8080/",
          "height": 255
        }
      },
      "source": [
        "lasso_model.predict(X_test)"
      ],
      "execution_count": 256,
      "outputs": [
        {
          "output_type": "execute_result",
          "data": {
            "text/plain": [
              "array([ 598.50772642,  689.07281012,  894.94567653,  415.30825213,\n",
              "        328.61724641,  336.70949356,  654.86465708,  416.79018579,\n",
              "        882.02105082,  730.14033333,  628.02500794,  896.34933356,\n",
              "         93.48277165,  420.83579131,  272.53902129,  442.35532004,\n",
              "        812.56316129,   40.82289057, 1250.22520976,  289.5424197 ,\n",
              "        412.44113545,  698.34753239,  551.11944377,  605.12581587,\n",
              "        634.91851653,  180.21694942,  852.02135078,  253.58774635,\n",
              "        376.49945384,   70.53860565,  129.11219306,  125.05056649,\n",
              "        364.84705431,  461.25336594,  282.07170876,  171.01218158,\n",
              "       1430.75577471,   97.6240906 ,  131.25020191,  213.32125755,\n",
              "         57.99123768,  300.04344775,  608.10917455,  336.79709285,\n",
              "        750.43688761,  725.61888641,  290.60981636,  254.62210194,\n",
              "        244.11020701,  639.46631604,  768.71402363,  301.92239026,\n",
              "        771.74332742])"
            ]
          },
          "metadata": {
            "tags": []
          },
          "execution_count": 256
        }
      ]
    },
    {
      "cell_type": "code",
      "metadata": {
        "id": "N-ixBH1d8gO6",
        "colab_type": "code",
        "colab": {}
      },
      "source": [
        "y_pred = lasso_model.predict(X_test)"
      ],
      "execution_count": 0,
      "outputs": []
    },
    {
      "cell_type": "code",
      "metadata": {
        "id": "vLJnuufU8vXz",
        "colab_type": "code",
        "outputId": "7659dd7f-8a5d-4d6d-99e0-71f21fadafc9",
        "colab": {
          "base_uri": "https://localhost:8080/",
          "height": 34
        }
      },
      "source": [
        "np.sqrt(mean_squared_error(y_test, y_pred))"
      ],
      "execution_count": 258,
      "outputs": [
        {
          "output_type": "execute_result",
          "data": {
            "text/plain": [
              "358.6413958431204"
            ]
          },
          "metadata": {
            "tags": []
          },
          "execution_count": 258
        }
      ]
    },
    {
      "cell_type": "markdown",
      "metadata": {
        "id": "VFuRxOO59DdM",
        "colab_type": "text"
      },
      "source": [
        "## Model Tuning"
      ]
    },
    {
      "cell_type": "code",
      "metadata": {
        "id": "anUz2hW68-6K",
        "colab_type": "code",
        "colab": {}
      },
      "source": [
        "from sklearn.linear_model import LassoCV"
      ],
      "execution_count": 0,
      "outputs": []
    },
    {
      "cell_type": "code",
      "metadata": {
        "id": "WKJw4TN_9MhE",
        "colab_type": "code",
        "colab": {}
      },
      "source": [
        "lasso_cv_model = LassoCV(alphas = None, cv=10, max_iter = 10000,normalize = True)"
      ],
      "execution_count": 0,
      "outputs": []
    },
    {
      "cell_type": "code",
      "metadata": {
        "id": "eD3pxmsm9fLY",
        "colab_type": "code",
        "outputId": "508d110d-9074-4b9c-8097-83c167d5c4d4",
        "colab": {
          "base_uri": "https://localhost:8080/",
          "height": 85
        }
      },
      "source": [
        "lasso_cv_model .fit(X_train,y_train)"
      ],
      "execution_count": 261,
      "outputs": [
        {
          "output_type": "execute_result",
          "data": {
            "text/plain": [
              "LassoCV(alphas=None, copy_X=True, cv=10, eps=0.001, fit_intercept=True,\n",
              "        max_iter=10000, n_alphas=100, n_jobs=None, normalize=True,\n",
              "        positive=False, precompute='auto', random_state=None,\n",
              "        selection='cyclic', tol=0.0001, verbose=False)"
            ]
          },
          "metadata": {
            "tags": []
          },
          "execution_count": 261
        }
      ]
    },
    {
      "cell_type": "code",
      "metadata": {
        "id": "2BqWExcQ9oGK",
        "colab_type": "code",
        "outputId": "02b877be-de01-4c88-99ed-b4205ed416dd",
        "colab": {
          "base_uri": "https://localhost:8080/",
          "height": 34
        }
      },
      "source": [
        "lasso_cv_model.alpha_"
      ],
      "execution_count": 262,
      "outputs": [
        {
          "output_type": "execute_result",
          "data": {
            "text/plain": [
              "0.12361135194429076"
            ]
          },
          "metadata": {
            "tags": []
          },
          "execution_count": 262
        }
      ]
    },
    {
      "cell_type": "code",
      "metadata": {
        "id": "wNPbvM0J9xIc",
        "colab_type": "code",
        "colab": {}
      },
      "source": [
        "lasso_tuned = Lasso(alpha=lasso_cv_model.alpha_)"
      ],
      "execution_count": 0,
      "outputs": []
    },
    {
      "cell_type": "code",
      "metadata": {
        "id": "n_h8ORpG-DbO",
        "colab_type": "code",
        "outputId": "db9c9895-9255-415e-980e-7d27d7bbaf5f",
        "colab": {
          "base_uri": "https://localhost:8080/",
          "height": 122
        }
      },
      "source": [
        "lasso_tuned.fit(X_train, y_train)"
      ],
      "execution_count": 264,
      "outputs": [
        {
          "output_type": "stream",
          "text": [
            "/usr/local/lib/python3.6/dist-packages/sklearn/linear_model/_coordinate_descent.py:476: ConvergenceWarning: Objective did not converge. You might want to increase the number of iterations. Duality gap: 8945037.841728436, tolerance: 4367.048819449929\n",
            "  positive)\n"
          ],
          "name": "stderr"
        },
        {
          "output_type": "execute_result",
          "data": {
            "text/plain": [
              "Lasso(alpha=0.12361135194429076, copy_X=True, fit_intercept=True, max_iter=1000,\n",
              "      normalize=False, positive=False, precompute=False, random_state=None,\n",
              "      selection='cyclic', tol=0.0001, warm_start=False)"
            ]
          },
          "metadata": {
            "tags": []
          },
          "execution_count": 264
        }
      ]
    },
    {
      "cell_type": "code",
      "metadata": {
        "id": "Iq73vLFI-Lm7",
        "colab_type": "code",
        "outputId": "ad88ce11-352c-4b51-fa14-fb152b0c6384",
        "colab": {
          "base_uri": "https://localhost:8080/",
          "height": 34
        }
      },
      "source": [
        "np.sqrt(mean_squared_error(y_test, y_pred))"
      ],
      "execution_count": 265,
      "outputs": [
        {
          "output_type": "execute_result",
          "data": {
            "text/plain": [
              "358.6413958431204"
            ]
          },
          "metadata": {
            "tags": []
          },
          "execution_count": 265
        }
      ]
    },
    {
      "cell_type": "code",
      "metadata": {
        "id": "k2muS1BW-Phq",
        "colab_type": "code",
        "colab": {}
      },
      "source": [
        "y_pred = lasso_tuned.predict(X_test)"
      ],
      "execution_count": 0,
      "outputs": []
    },
    {
      "cell_type": "markdown",
      "metadata": {
        "id": "PoFfBlzUDD7d",
        "colab_type": "text"
      },
      "source": [
        "# ElasticNet Regresyon - Model ve Tahmin"
      ]
    },
    {
      "cell_type": "code",
      "metadata": {
        "id": "nXMCwdwM-d3_",
        "colab_type": "code",
        "colab": {}
      },
      "source": [
        "# ridge ve lasso yaklaşımlarını birleştirir.\n",
        "\n",
        "import pandas as pd\n",
        "from sklearn.model_selection import train_test_split, cross_val_score, cross_val_predict\n",
        "from sklearn.linear_model import  LinearRegression\n",
        "from sklearn.metrics import mean_squared_error, r2_score\n",
        "import numpy as np\n",
        "\n",
        "\n",
        "\n",
        "\n",
        "hit = pd.read_csv(\"Hitters.csv\")\n",
        "df = hit.copy()\n",
        "df = df.dropna()\n",
        "ms  = pd.get_dummies(df[[\"League\",\"Division\", \"NewLeague\"]])\n",
        "y = df[\"Salary\"]\n",
        "X_ = df.drop([\"Salary\",\"League\",\"Division\", \"NewLeague\"],axis = 1).astype('float64')\n",
        "X = pd.concat([X_,dms[[\"League_N\",\"Division_W\",\"NewLeague_N\"]]], axis = 1)\n",
        "X_train,X_test,y_train,y_test = train_test_split(X,y,test_size = 0.20,random_state = 42)"
      ],
      "execution_count": 0,
      "outputs": []
    },
    {
      "cell_type": "code",
      "metadata": {
        "id": "YlbUgPE_CXpn",
        "colab_type": "code",
        "colab": {}
      },
      "source": [
        "from sklearn.linear_model import ElasticNet"
      ],
      "execution_count": 0,
      "outputs": []
    },
    {
      "cell_type": "code",
      "metadata": {
        "id": "TYufmwjjCeB5",
        "colab_type": "code",
        "outputId": "025ead84-56e4-40d8-aa11-7f2944bcdab0",
        "colab": {
          "base_uri": "https://localhost:8080/",
          "height": 71
        }
      },
      "source": [
        "enet_model = ElasticNet().fit(X_train,y_train)"
      ],
      "execution_count": 271,
      "outputs": [
        {
          "output_type": "stream",
          "text": [
            "/usr/local/lib/python3.6/dist-packages/sklearn/linear_model/_coordinate_descent.py:476: ConvergenceWarning: Objective did not converge. You might want to increase the number of iterations. Duality gap: 9219929.076529367, tolerance: 4367.048819449929\n",
            "  positive)\n"
          ],
          "name": "stderr"
        }
      ]
    },
    {
      "cell_type": "code",
      "metadata": {
        "id": "hcDsv_1xCzQK",
        "colab_type": "code",
        "outputId": "518fa248-8a21-4ac2-dda9-9ab8e1969c77",
        "colab": {
          "base_uri": "https://localhost:8080/",
          "height": 102
        }
      },
      "source": [
        "enet_model.coef_"
      ],
      "execution_count": 272,
      "outputs": [
        {
          "output_type": "execute_result",
          "data": {
            "text/plain": [
              "array([ -1.61694103,   7.46019777,   2.60346369,  -2.49584787,\n",
              "        -0.49720266,   5.38019309,   6.07654408,  -0.23306998,\n",
              "         0.07107404,  -0.60880473,   1.74638227,   0.99206863,\n",
              "        -0.75861262,   0.2545778 ,   0.2288989 ,  -0.82299964,\n",
              "        15.41006115, -35.23558671,   4.76373134])"
            ]
          },
          "metadata": {
            "tags": []
          },
          "execution_count": 272
        }
      ]
    },
    {
      "cell_type": "code",
      "metadata": {
        "id": "zFK4nOldC26J",
        "colab_type": "code",
        "outputId": "ec734c5a-2ad3-4548-ca80-750b89795e3b",
        "colab": {
          "base_uri": "https://localhost:8080/",
          "height": 34
        }
      },
      "source": [
        "enet_model.intercept_"
      ],
      "execution_count": 273,
      "outputs": [
        {
          "output_type": "execute_result",
          "data": {
            "text/plain": [
              "9.660172331609147"
            ]
          },
          "metadata": {
            "tags": []
          },
          "execution_count": 273
        }
      ]
    },
    {
      "cell_type": "code",
      "metadata": {
        "id": "TsV_Dl3bC8nU",
        "colab_type": "code",
        "outputId": "05bbad95-af72-4089-8370-c5de60d29fc6",
        "colab": {
          "base_uri": "https://localhost:8080/",
          "height": 255
        }
      },
      "source": [
        "y_pred = enet_model.predict(X_test)\n",
        "y_pred"
      ],
      "execution_count": 274,
      "outputs": [
        {
          "output_type": "execute_result",
          "data": {
            "text/plain": [
              "array([ 546.84974647,  605.88596734,  905.61750212,  359.00782512,\n",
              "        414.76638269,  294.56108553,  594.81315714,  437.72592886,\n",
              "        854.59139739,  780.11069362,  645.82846288,  945.48882942,\n",
              "         64.59873951,  353.09649616,  335.83712128,  489.32932969,\n",
              "        777.88923005,   97.65190938, 1239.60192882,  340.40399495,\n",
              "        441.57177906,  740.73965583,  569.55378623,  557.52854488,\n",
              "        622.32761488,  222.1133524 ,  891.56801181,  302.23237276,\n",
              "        315.6847882 ,  115.41504977,  158.92057781,   86.63976902,\n",
              "        348.86119681,  408.2617455 ,  264.75511905,  281.14033403,\n",
              "       1428.24864649,  109.67852057,   79.19496114,  246.58904663,\n",
              "        126.84850237,  269.13191934,  675.08426126,  361.10167959,\n",
              "        834.00794968,  752.53361759,  278.57934548,  385.94175332,\n",
              "        286.84749807,  671.55648217,  711.53915176,  270.01166249,\n",
              "        763.81331814])"
            ]
          },
          "metadata": {
            "tags": []
          },
          "execution_count": 274
        }
      ]
    },
    {
      "cell_type": "code",
      "metadata": {
        "id": "k__7qoVqDWPS",
        "colab_type": "code",
        "outputId": "28945b73-0425-4265-aa5a-c809c878623c",
        "colab": {
          "base_uri": "https://localhost:8080/",
          "height": 34
        }
      },
      "source": [
        "np.sqrt(mean_squared_error(y_test,y_pred))"
      ],
      "execution_count": 275,
      "outputs": [
        {
          "output_type": "execute_result",
          "data": {
            "text/plain": [
              "356.78780126428234"
            ]
          },
          "metadata": {
            "tags": []
          },
          "execution_count": 275
        }
      ]
    },
    {
      "cell_type": "code",
      "metadata": {
        "id": "qms91TUyDmn4",
        "colab_type": "code",
        "outputId": "701c8cf6-f345-4d2b-e01f-25dcd77f026b",
        "colab": {
          "base_uri": "https://localhost:8080/",
          "height": 34
        }
      },
      "source": [
        "r2_score(y_test, y_pred)"
      ],
      "execution_count": 276,
      "outputs": [
        {
          "output_type": "execute_result",
          "data": {
            "text/plain": [
              "0.2962010344606606"
            ]
          },
          "metadata": {
            "tags": []
          },
          "execution_count": 276
        }
      ]
    },
    {
      "cell_type": "markdown",
      "metadata": {
        "id": "OhF5iw-_D3KI",
        "colab_type": "text"
      },
      "source": [
        "## Model Tuning"
      ]
    },
    {
      "cell_type": "code",
      "metadata": {
        "id": "MZilHYqIEL43",
        "colab_type": "code",
        "colab": {}
      },
      "source": [
        "from sklearn.linear_model import ElasticNetCV"
      ],
      "execution_count": 0,
      "outputs": []
    },
    {
      "cell_type": "code",
      "metadata": {
        "id": "UWPBFQWjDwgJ",
        "colab_type": "code",
        "colab": {}
      },
      "source": [
        "enet_cv_model = ElasticNetCV(cv =10,random_state = 0).fit(X_train, y_train)"
      ],
      "execution_count": 0,
      "outputs": []
    },
    {
      "cell_type": "code",
      "metadata": {
        "id": "PGjOBuR5EIU2",
        "colab_type": "code",
        "outputId": "65b3a402-0a1e-4f8d-9f35-65ce13a43404",
        "colab": {
          "base_uri": "https://localhost:8080/",
          "height": 34
        }
      },
      "source": [
        "enet_cv_model.alpha_"
      ],
      "execution_count": 279,
      "outputs": [
        {
          "output_type": "execute_result",
          "data": {
            "text/plain": [
              "1179.7218882369157"
            ]
          },
          "metadata": {
            "tags": []
          },
          "execution_count": 279
        }
      ]
    },
    {
      "cell_type": "code",
      "metadata": {
        "id": "BH0E_5MKEavI",
        "colab_type": "code",
        "colab": {}
      },
      "source": [
        "enet_tuned = ElasticNet(alpha = enet_cv_model.alpha_).fit(X_train,y_train)"
      ],
      "execution_count": 0,
      "outputs": []
    },
    {
      "cell_type": "code",
      "metadata": {
        "id": "JIRhqlOrEptv",
        "colab_type": "code",
        "colab": {}
      },
      "source": [
        "y_pred = enet_tuned.predict(X_test)"
      ],
      "execution_count": 0,
      "outputs": []
    },
    {
      "cell_type": "code",
      "metadata": {
        "id": "ZcTeBV8ZE5S6",
        "colab_type": "code",
        "outputId": "99a61667-0a9c-4e0f-af1c-716b2226015a",
        "colab": {
          "base_uri": "https://localhost:8080/",
          "height": 34
        }
      },
      "source": [
        "np.sqrt(mean_squared_error(y_test,y_pred))"
      ],
      "execution_count": 282,
      "outputs": [
        {
          "output_type": "execute_result",
          "data": {
            "text/plain": [
              "378.23482159854797"
            ]
          },
          "metadata": {
            "tags": []
          },
          "execution_count": 282
        }
      ]
    }
  ]
}